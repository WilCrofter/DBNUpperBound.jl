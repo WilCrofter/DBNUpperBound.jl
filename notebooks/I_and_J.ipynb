{
 "cells": [
  {
   "cell_type": "markdown",
   "metadata": {},
   "source": [
    "# Scratchpad for  I<sub>t, θ</sub> and J<sub>t, θ</sub>\n",
    "\n",
    "[Motivation](https://terrytao.wordpress.com/2018/03/18/polymath15-sixth-thread-the-test-problem-and-beyond/)\n",
    "This leaves the final range $N \\leq 10$ (roughly corresponding to $x \\leq 1600$). Here we can numerically evaluate $H_t(x+iy)$ to high accuracy at a fine mesh (see the data here), but to fill in the mesh we need good upper bounds on $H'_t(x+iy)$. It seems that we can get reasonable estimates using some contour shifting from the original definition of $H_t$ (see here). We are close to finishing off this remaining region and thus solving the toy problem. "
   ]
  },
  {
   "cell_type": "markdown",
   "metadata": {},
   "source": [
    "## $I_{t,\\theta}$\n",
    "\n",
    "### Preliminary math\n",
    "\n",
    "Reference 1: [thread 2](https://terrytao.wordpress.com/2018/02/02/polymath15-second-thread-generalising-the-riemann-siegel-approximate-functional-equation/).\n",
    "\n",
    "$H_t(z) := \\int_0^\\infty e^{tu^2} \\Phi(u) \\cos(zu)\\ du,$\n",
    "\n",
    "and $\\Phi(u) := \\sum_{n=1}^\\infty (2\\pi^2 n^4 e^{9u} - 3\\pi n^2 e^{5u} ) \\exp(-\\pi n^2 e^{4u}),$\n",
    "\n",
    "Shifting the contour and exchanging order of summation and integration,\n",
    "\n",
    "$H_t(z) = \\frac{1}{2} (K_{t,\\theta}(z) + \\overline{K_{t,\\theta}(\\overline{z})}) \\quad (A)$\n",
    "\n",
    "where $K_{t,\\theta}(z) := \\sum_{n=1}^\\infty (2\\pi^2 n^4 I_{t,\\theta}(z-9i, \\pi n^2) - 3\\pi n^2I_{t,\\theta}(z-5i, \\pi n^2))$\n",
    "\n",
    "with $I_{t,\\theta}(b,\\beta) := \\int_{i\\theta}^{i\\theta+i\\infty} \\exp(tu^2 - \\beta e^{4u} + ibu)\\ du \\quad (B)$\n",
    "\n",
    "where $\\beta = \\pi n^2$,\n",
    "\n",
    "$-\\pi/8 < \\theta < \\pi/8$,\n",
    "\n",
    "and $b = z-9i$ or $b = z-5i$ or, in the case of a conjugated argument $\\overline{z}$ as in (A) above, $b=\\overline{z}-9i$ or $b = \\overline{z}-5i$. In general, $b = x + (y-m)i$ where $z = x+iy$."
   ]
  },
  {
   "cell_type": "markdown",
   "metadata": {},
   "source": [
    "Letting $u = σ+iθ$, the exponent in (B) is\n",
    "\n",
    "$t(σ+iθ)^2-βe^{4(σ+iθ)}+ib(σ+iθ) = t(σ+iθ)^2-βe^{4(σ)}(\\cos(4\\theta)+i\\sin(4\\theta)+i(x+i(y-m))(σ+iθ)$\n",
    "\n",
    "```python\n",
    "from sympy import *\n",
    "init_printing(use_unicode=True)\n",
    "t,σ,θ,β,b,e,x,y,m = symbols('t σ θ β b e x y m')\n",
    "collect(expand(t*(σ+I*θ)**2-β*e**(4*(σ))*(cos(4*θ)+I*sin(4*θ))+I*(x+I*(y-m))*(σ+I*θ)),I)\n",
    "```\n",
    "\n",
    "$= - e^{4 σ} β \\cos{\\left (4 θ \\right )} + m σ - t θ^{2} + t σ^{2} - x θ - y σ + i \\left(- e^{4 σ} β \\sin{\\left (4 θ \\right )} + m θ + 2 t θ σ + x σ - y θ\\right)$\n",
    "\n"
   ]
  },
  {
   "cell_type": "markdown",
   "metadata": {},
   "source": [
    "Let\n",
    "\n",
    "$\\operatorname{logmag}(σ) = - e^{4 σ} β \\cos{\\left (4 θ \\right )} + m σ - t θ^{2} + t σ^{2} - x θ - y σ$\n",
    "\n",
    "and $ω(σ) = \\left(- e^{4 σ} β \\sin{\\left (4 θ \\right )} + m θ + 2 t θ σ + x σ - y θ\\right)$\n",
    "\n",
    "Then the integrand is\n",
    "\n",
    "$e^{\\operatorname{logmag}(σ)}(\\cos(ω(σ)) + i\\sin(ω(σ)))$"
   ]
  },
  {
   "cell_type": "markdown",
   "metadata": {},
   "source": [
    "### Preliminary code for the series in I<sub>t, θ</sub>\n",
    "\n",
    "#### Bounding I<sub>t, θ</sub>"
   ]
  },
  {
   "cell_type": "markdown",
   "metadata": {},
   "source": [
    "Reference 2: [Bounding the derivative 2](http://michaelnielsen.org/polymath1/index.php?title=Bounding_the_derivative_of_H_t_-_second_approach)\n",
    "\n",
    "From reference 2, equation (0),\n",
    "\n",
    "$$H_t(z) = \\frac{1}{2} \\sum_{n=1}^\\infty \\left[ 2\\pi^2 n^4 I_{t,\\theta}(x-(9-y)i, \\pi n^2) - 3\\pi n^2 I_{t,\\theta}(x-(5-y)i, \\pi n^2) + 2\\pi^2 n^4 \\overline{I_{t,\\theta}(x-(9+y)i, \\pi n^2)} - 3\\pi n^2 \\overline{I_{t,\\theta}(x-(5+y)i, \\pi n^2)} \\right]$$\n",
    "\n",
    "where $\\beta = \\pi n^2$ for $n = 1, \\ldots, \\infty$,\n",
    "\n",
    "and $b = x-ia$ for $a = 9+y, 9-y, 5+y, 5-y$.\n",
    "\n",
    "Note that if the argument to $K_{t,\\theta}$ is $z$ or $\\overline{z}$ as in (A) above, then it has the form $x \\pm iy$. Hence if $b = x \\pm iy-mi$ then $b = x - i(m \\mp y) = x - ia$ where $a = m \\mp y$ for $m = 9, 5$. This is consistent with usage in equation (0). Thus $m = 9, 5$ should be an explicit argument for code implementing $I_{t,\\theta}$."
   ]
  },
  {
   "cell_type": "markdown",
   "metadata": {},
   "source": [
    "Reference 2 points out that when $x,y > 0$, and $b=x-(9+y)i$, the $ibu$ term of the exponent in the integrand of $I_{t,\\theta}$ (equation B above) will be $(9+y)u + ixu$ which would be expected to dominate cases $a=9-y$, $a=5+y$, and $a=5-y$. Considering the dominant case, the reference favors \n",
    "\n",
    "$\\theta := \\frac{\\pi}{8} - \\frac{1}{4} \\arctan \\frac{y+9}{x} \\quad (1)$\n",
    "\n",
    "which is the imaginary part of the point $u_{inflection}$ at which $\\frac{d}{du} \\left(-\\beta e^{4u} + ibu \\right)= 0$ and which should supress much of the oscillation of the integrand in (B)."
   ]
  },
  {
   "cell_type": "code",
   "execution_count": 1,
   "metadata": {
    "scrolled": true
   },
   "outputs": [
    {
     "data": {
      "text/plain": [
       "θ_default"
      ]
     },
     "execution_count": 1,
     "metadata": {},
     "output_type": "execute_result"
    }
   ],
   "source": [
    "using DBNUpperBound\n",
    "using DBNUpperBound.Asymptotics\n",
    "using QuadGK\n",
    "\n",
    "\"\"\" θ_default(y)\n",
    "\n",
    "    Returns a value for θ which should cancel most oscillation in Itθ or Jtθ.\n",
    "    \"\"\"\n",
    "θ_default(y) = π/8 - 1/4*atan((abs(y)+9)/abs(y)) # function definition"
   ]
  },
  {
   "cell_type": "markdown",
   "metadata": {},
   "source": [
    "Recall that the integrand is\n",
    "\n",
    "$e^{\\operatorname{logmag(σ)}}(\\cos(ω(σ)) + i\\sin(ω(σ)))$\n",
    "\n",
    "where $\\operatorname{logmag}(σ) = - e^{4 σ} β \\cos{\\left (4 θ \\right )} + m σ - t θ^{2} + t σ^{2} - x θ - y σ$\n",
    "\n",
    "and $ω(σ) = \\left(- e^{4 σ} β \\sin{\\left (4 θ \\right )} + m θ + 2 t θ σ + x σ - y θ\\right)$"
   ]
  },
  {
   "cell_type": "code",
   "execution_count": 2,
   "metadata": {},
   "outputs": [
    {
     "data": {
      "text/plain": [
       "Itθ"
      ]
     },
     "execution_count": 2,
     "metadata": {},
     "output_type": "execute_result"
    }
   ],
   "source": [
    "function logmag(x,y,t,σ,β,θ,m)\n",
    "    return -e^(4*σ)*β*cos(4*θ)+m*σ-t*θ^2+t*σ^2-x*θ-y*σ\n",
    "end\n",
    "\n",
    "function ω(x,y,t,σ,β,θ,m)\n",
    "    return -e^(4*σ)*β*sin(4θ)+m*θ+2*t*θ*σ+x*σ-y*θ\n",
    "end\n",
    "\n",
    "\"\"\" Itθ(x, y, n, m; t=.4, lower_limit=big(0.0), upper_limit=big(Inf), θ = θ_default(y))\n",
    "\n",
    "    Estimates Itθ by adaptive Gauss-Kronrod quadrature, returning Itθ and an error estimate.\n",
    "    NOTE: GK quadrature will fail for oscillatory arguments--larger values of x.\n",
    "\n",
    "    The quadrature function uses multiprecision arithmetic if at least one limit of integration is multiprecision.\n",
    "\n",
    "    If a very unhelpful diagnostic appears, increase precision. It is 256 bits by default. \n",
    "    \"\"\"\n",
    "function Itθ(x, y, n, m; t=.4, lower_limit=big(0.0), upper_limit=big(Inf), θ = θ_default(y))\n",
    "        β = π*n^2\n",
    "        mag(σ) = exp(logmag(x,y,t,σ,β,θ,m))\n",
    "        ω1(σ) = ω(x,y,t,σ,β,θ,m)\n",
    "        return quadgk((σ)->mag(σ)*(cos(ω1(σ))+im*sin(ω1(σ))), lower_limit, upper_limit) # return quadrature, error estimate\n",
    "end"
   ]
  },
  {
   "cell_type": "code",
   "execution_count": 3,
   "metadata": {},
   "outputs": [
    {
     "name": "stdout",
     "output_type": "stream",
     "text": [
      "Itθ(1600.0, 0.4, 10, 9) = (9.8140498435429387227726342045e-148 + 1.9123433943074696906381480567e-148im, 1.2201853092735775340508232483e-161)\n",
      "\n",
      "Itθ(1600.0, 0.4, 10, 9, upper_limit=big(1.0)) = (9.8140498435429387227612003897e-148 + 1.9123433943074696906420022356e-148im, 1.1381664593968785600159537605e-161)\n",
      "\n",
      "Itθ(1600.0, 0.4, 10, 9, lower_limit=big(1.0)) = (-1.2204921589139392950946092139e-7451 - 8.810493065410320739975412613e-7452im, 1.6316174983215494279584638591e-7465)\n",
      "\n",
      "Itθ(0.001, 0.4, 10, 9) = (2.8569925607258333894159260564e-140 - 2.6153121031580823038065483558e-140im, 7.2361467178768999685423236508e-154)\n",
      "\n",
      "Itθ(0.001, 0.4, 10, 9, upper_limit=1.0) = (2.8569925607258333894159252559e-140 - 2.6153121031580823038065499669e-140im, 7.8164184304246615031224133864e-154)\n",
      "\n",
      "Itθ(0.001, 0.4, 10, 9, lower_limit=big(1.0)) = (3.4796126389279638137573026447e-7444 - 1.177864925509017539219660022e-7444im, 4.0243060738995228819185731034e-7458)\n",
      "\n"
     ]
    }
   ],
   "source": [
    "# with precision at 90 bits\n",
    "setprecision(90) do\n",
    "    @show Itθ(1600.0, .4, 10, 9); println() # integrate to infinity \n",
    "    @show Itθ(1600.0, .4, 10, 9, upper_limit=big(1.0)); println() # integrate to 1\n",
    "    @show Itθ(1600.0, .4, 10, 9, lower_limit=big(1.0)); println() #integrate from 1 to ∞\n",
    "    @show Itθ(1e-3, .4, 10, 9); println() # integrate to infinity\n",
    "    @show Itθ(1e-3, .4, 10, 9, upper_limit=1.0); println() # integrate to 1\n",
    "    @show Itθ(1e-3, .4, 10, 9, lower_limit=big(1.0)); println() #integrate from 1 to ∞\n",
    "end\n"
   ]
  },
  {
   "cell_type": "markdown",
   "metadata": {},
   "source": [
    "$I_{t,\\theta,\\geq X}(b,\\beta) := \\int_{i\\theta+X}^{i\\theta+\\infty} \\exp( tu^2 - \\beta e^{4u} + ibu)\\ du.$\n",
    "\n",
    "When $\\beta e^{4X} \\cos(4\\theta) \\gt \\max( \\frac{t}{2}, \\frac{a+2tX}{4}) \\quad (2)$\n",
    "\n",
    "$|I_{t,\\theta,\\geq X}(b,\\beta)| \\leq \\frac{\\exp( -t \\theta^2 + tX^2 - \\beta e^{4X} \\cos(4\\theta) - \\theta x + aX )}{4 \\beta e^{4X} \\cos(4\\theta) - a - 2tX}\\quad (3)$"
   ]
  },
  {
   "cell_type": "code",
   "execution_count": 4,
   "metadata": {},
   "outputs": [
    {
     "data": {
      "text/plain": [
       "Itθ_tail"
      ]
     },
     "execution_count": 4,
     "metadata": {},
     "output_type": "execute_result"
    }
   ],
   "source": [
    "\"\"\" XisOK(X, y, n, m; t=.4, θ=θ_default(y))\n",
    "\n",
    "    Returns true iff β*bigexp(4*X)*cos(4*θ) > max(t/2, (a+2*t*X)/4) indicating bounds for the tails of Itθ and Jtθ will be valid.\n",
    "    \"\"\"\n",
    "function XisOK(X, y, n, m; t=.4, θ=θ_default(y))\n",
    "    β = π*n^2\n",
    "    a = m+y\n",
    "    return β*bigexp(4*X)*cos(4*θ) > max(t/2, (a+2*t*X)/4)\n",
    "end\n",
    "\n",
    "\"\"\" Itθ_tail(X, x, y, n, m; t=.4, θ = θ_default(y))\n",
    "    \n",
    "    Returns a provably correct upper bound for the tail of Itθ, meaning the integral from X to ∞.\n",
    "    \"\"\"\n",
    "function Itθ_tail(X, x, y, n, m; t=.4, θ = θ_default(y))\n",
    "    XisOK(X,y,n,m,t=t,θ=θ) || error(\"X is too small\")\n",
    "    β = π*n^2\n",
    "    a = m+y\n",
    "   return bigexp(-t*θ^2+t*X^2-β*e^(4*X)*cos(4*θ)-θ*x+a*X)/(4*β*e^(4*X)*cos(4*θ)-a-2*t*X)\n",
    "end"
   ]
  },
  {
   "cell_type": "code",
   "execution_count": 5,
   "metadata": {},
   "outputs": [
    {
     "name": "stdout",
     "output_type": "stream",
     "text": [
      "abs((Itθ(1.0, 0.4, 1, 9, lower_limit=1.0))[1]) = 4.4257797589751048852312986e-74\n",
      "Itθ_tail(1.0, 1.0, 0.4, 1, 9) = 9.928714547542804e-74\n",
      "\n",
      "abs((Itθ(10.0, 0.4, 1, 9, lower_limit=1.0))[1]) = 4.0237534195550521640081346e-74\n",
      "Itθ_tail(1.0, 10.0, 0.4, 1, 9) = 9.022703981566085e-74\n",
      "\n",
      "abs((Itθ(20.0, 0.4, 1, 9, lower_limit=1.0))[1]) = 3.6190168988392245809521001e-74\n",
      "Itθ_tail(1.0, 20.0, 0.4, 1, 9) = 8.11265532988406e-74\n",
      "\n",
      "abs((Itθ(100.0, 0.4, 1, 9, lower_limit=1.0))[1]) = 1.538063850976725235061819e-74\n",
      "Itθ_tail(1.0, 100.0, 0.4, 1, 9) = 3.4655610420501182e-74\n"
     ]
    }
   ],
   "source": [
    "setprecision(80) do\n",
    "    @show abs(Itθ(1.0,.4,1,9,lower_limit=1.0)[1])\n",
    "    @show Itθ_tail(1.0, 1.0, .4, 1, 9); println()\n",
    "    @show abs(Itθ(10.0,.4,1,9,lower_limit=1.0)[1])\n",
    "    @show Itθ_tail(1.0, 10.0, .4, 1, 9); println()\n",
    "    @show abs(Itθ(20.0,.4,1,9,lower_limit=1.0)[1])\n",
    "    @show Itθ_tail(1.0, 20.0, .4, 1, 9); println()\n",
    "    @show abs(Itθ(100.0,.4,1,9,lower_limit=1.0)[1])\n",
    "    @show Itθ_tail(1.0, 100.0, .4, 1, 9)\n",
    "return nothing\n",
    "end"
   ]
  },
  {
   "cell_type": "markdown",
   "metadata": {},
   "source": [
    "#### Bounding the tail of the infinite sum\n",
    "\n",
    "Quoting from [the reference](https://terrytao.wordpress.com/2018/03/18/polymath15-sixth-thread-the-test-problem-and-beyond/), expression (3) will start decaying rapidly when X is large enough (basically one needs $\\beta e^{4X}cos(4\\theta)$ to become large).\n",
    "\n",
    "For large values of n (and hence of $\\beta = \\pi n^2$), one can set $X=0$ and estimate the entire integral. Indeed, we conclude that if $\\beta = \\pi n^2$ then\n",
    "\n",
    "$|I_{t,\\theta}(b,\\pi n^2)| \\leq \\frac{\\exp( -t \\theta^2 - \\pi n^2 \\cos(4\\theta) - \\theta x )}{4 \\pi n^2 \\cos(4\\theta) - a}.$\n",
    "\n",
    "For instance, if $\\pi n_0^2 \\cos(4\\theta) \\gt \\max(\\frac{t}{2}, \\frac{a}{4} )$\n",
    "\n",
    "$|\\sum_{n \\geq n_0} 2\\pi^2 n^4 I_{t,\\theta}(x-ia, \\pi n^2)| \\le  \\frac{2\\pi^2 \\exp(-t \\theta^2 - \\theta x - \\pi n_0^2 \\cos(4\\theta))}{4\\pi n_0^2 \\cos(4\\theta) - a}( \\frac{n_0^4}{1 - \\alpha} + \n",
    "\\frac{4 n_0^3 \\alpha}{(1 - \\alpha)^2}  + \\frac{6 n_0^2 (\\alpha^2+\\alpha)}{(1-\\alpha)^3} + \\frac{4n_0 (\\alpha^3+4\\alpha^2+\\alpha)}{(1-\\alpha)^4} + \\frac{\\alpha^4 + 11 \\alpha^3 + 11 \\alpha^2 + \\alpha}{(1-\\alpha)^5} ) \\quad (4)$\n",
    "\n",
    "where $\\alpha := e^{-\\pi n_0 \\cos(4\\theta)}$. [Note: as rendered, $\\alpha$ is easily confused with $a$ in the above expression.]\n",
    "\n",
    "Similarly,\n",
    "\n",
    "$|\\sum_{n \\geq n_0} 3\\pi n^2 I_{t,\\theta}(x-ia, \\pi n^2)|\n",
    "\\leq \\frac{3\\pi \\exp(-t \\theta^2 - \\theta x - \\pi n_0^2 \\cos(4\\theta))}{4\\pi n_0^2 \\cos(4\\theta) - a} \n",
    "( \\frac{n_0^2}{1-\\alpha} + \\frac{2n_0 \\alpha}{(1-\\alpha)^2} + \\frac{\\alpha^2+\\alpha}{(1-\\alpha)^3} ),$\n",
    "\n",
    "which allows control of the tail of the series\n",
    "\n",
    "$H_t(z) = \\frac{1}{2} \\sum_{n=1}^\\infty 2\\pi^2 n^4 I_{t,\\theta}(x-(9-y)i, \\pi n^2) - 3\\pi n^2 I_{t,\\theta}(x-(5-y)i, \\pi n^2) + 2\\pi^2 n^4 \\overline{I_{t,\\theta}(x-(9+y)i, \\pi n^2)} - 3\\pi n^2 \\overline{I_{t,\\theta}(x-(5+y)i, \\pi n^2)} \\quad (0)$"
   ]
  },
  {
   "cell_type": "code",
   "execution_count": 6,
   "metadata": {},
   "outputs": [
    {
     "data": {
      "text/plain": [
       "minimum_n"
      ]
     },
     "execution_count": 6,
     "metadata": {},
     "output_type": "execute_result"
    }
   ],
   "source": [
    "\"\"\" minimum_n(x,y,m; t= .4, θ=θ_default(y))\n",
    "\n",
    "    Return the minimum n for which π*n^2cos(4θ)>max(t/2,a/4), where a=m+y. Note that cos(4θ)≥0.0 for allowable θ. \n",
    "    \"\"\"\n",
    "function minimum_n(x,y,m; t= .4, θ=θ_default(y))\n",
    "    return ceil(Int, √(max(t/2, (m+y)/4)/(π*cos(4*θ))))\n",
    "end"
   ]
  },
  {
   "cell_type": "code",
   "execution_count": 7,
   "metadata": {},
   "outputs": [
    {
     "data": {
      "text/plain": [
       "series_tail_Itθ9"
      ]
     },
     "execution_count": 7,
     "metadata": {},
     "output_type": "execute_result"
    }
   ],
   "source": [
    "\"\"\" series_tail_Itθ9(x,y; t=.4, θ=θ_default(y), n0=minimum_n(x,y,9, t=t, θ=θ))\n",
    "\n",
    "    Return a provably correct upper bound on the tail |∑2*π^2*n^4*Itθ(x,y,9)|, along with n0 where summation is from n0 to ∞.\n",
    "    \"\"\"\n",
    "function series_tail_Itθ9(x,y; t=.4, θ=θ_default(y), n0=minimum_n(x,y,9,t=t,θ=θ))\n",
    "    α = bigexp(-π*n0*cos(4*θ))\n",
    "    m = 9 # by definition of this series\n",
    "    a = m+y\n",
    "    return (2*π^2*bigexp(-t*θ^2-θ*x-π*n0^2*cos(4*θ)))/(4*π*n0^2*cos(4*θ)-a)*\n",
    "            (n0^4/(1-α) + 4*n0^3*α/(1-α)^2 + 6*n0^2*(α^2 + α)/(1-α)^3 + 4*n0*(α^3+4*α^2+α)/(1-α)^4 + (α^4+11*α^3+11*α^2+α)/(1-α)^5), n0\n",
    "end"
   ]
  },
  {
   "cell_type": "code",
   "execution_count": 8,
   "metadata": {},
   "outputs": [
    {
     "name": "stdout",
     "output_type": "stream",
     "text": [
      "series_tail_Itθ9(1600, 0.4) = (2.074594218175116e-8, 1)\n",
      "series_tail_Itθ9(1600, 0.4, n0=10) = (3.145527146658116e-142, 10)\n",
      "series_tail_Itθ9(1, 0.4) = (0.5013086986691031, 1)\n",
      "series_tail_Itθ9(1, 0.4, n0=10) = (7.600908682308951e-135, 10)\n"
     ]
    }
   ],
   "source": [
    "@show series_tail_Itθ9(1600, .4)\n",
    "@show series_tail_Itθ9(1600, .4, n0=10)\n",
    "@show series_tail_Itθ9(1, .4)\n",
    "@show series_tail_Itθ9(1, .4, n0=10)\n",
    "nothing"
   ]
  },
  {
   "cell_type": "code",
   "execution_count": 9,
   "metadata": {},
   "outputs": [
    {
     "data": {
      "text/plain": [
       "series_tail_Itθ5"
      ]
     },
     "execution_count": 9,
     "metadata": {},
     "output_type": "execute_result"
    }
   ],
   "source": [
    "\"\"\" series_tail_Itθ5(x,y; t=.4, θ=θ_default(y), n0=minimum_n(x,y,5, t=t, θ=θ))\n",
    "\n",
    "    Return a provably correct upper bound on the tail |∑3*π*n^2*Itθ(x,y,5)| where summation is from n0 to ∞.\n",
    "    \"\"\"\n",
    "function series_tail_Itθ5(x,y; t=.4, θ=θ_default(y), n0=minimum_n(x,y,5,t=t,θ=θ))\n",
    "    α = bigexp(-π*n0*cos(4*θ))\n",
    "    m = 5 # by definition of this series\n",
    "    a = m+y\n",
    "    return (3*π*bigexp(-t*θ^2-θ*x-π*n0^2*cos(4*θ)))/(4*π*n0^2*cos(4*θ)-a)*\n",
    "           (n0^2/(1-α) + 2*n0*α/(1-α)^2 + (α^2 + α)/(1-α)^3)\n",
    "end"
   ]
  },
  {
   "cell_type": "code",
   "execution_count": 10,
   "metadata": {},
   "outputs": [
    {
     "data": {
      "text/plain": [
       "Ht_tail"
      ]
     },
     "execution_count": 10,
     "metadata": {},
     "output_type": "execute_result"
    }
   ],
   "source": [
    "\"\"\" Ht_tail(x,y; t=.4, θ=θ_default(y), n0=max(minimum_n(x,y,5,t=t,θ=θ), minimum_n(x,y,9,t=t,θ=θ))\n",
    "    \n",
    "    Return an upper bound for the tail of a series expressing Ht in terms of Itθ along with the index of the tail's first term.\n",
    "    \"\"\"\n",
    "function Ht_tail(x,y; t=.4, θ=θ_default(y), n0=max(minimum_n(x,y,5,t=t,θ=θ), minimum_n(x,y,9,t=t,θ=θ)))\n",
    "    return series_tail_Itθ9(x,y,t=t,θ=θ,n0=n0)[1]+series_tail_Itθ5(x,y,t=t,θ=θ,n0=n0)[1] +\n",
    "               series_tail_Itθ9(x,-y,t=t,θ=θ,n0=n0)[1]+series_tail_Itθ5(x,-y,t=t,θ=θ,n0=n0)[1], n0\n",
    "end"
   ]
  },
  {
   "cell_type": "code",
   "execution_count": 11,
   "metadata": {},
   "outputs": [
    {
     "data": {
      "text/plain": [
       "(1.5432475625955968e-134, 10)"
      ]
     },
     "execution_count": 11,
     "metadata": {},
     "output_type": "execute_result"
    }
   ],
   "source": [
    "Ht_tail(1e-6,.4,n0=10)"
   ]
  },
  {
   "cell_type": "markdown",
   "metadata": {},
   "source": [
    "## $J_{t,\\theta}$\n",
    "\n",
    "### Preliminary math\n",
    "\n",
    "Using reference 2 and taking the derivative with respect to $z$:\n",
    "\n",
    "$H'_t(z) = \\frac{i}{2} \\int_{i\\theta}^{i\\theta+\\infty} e^{tu^2} \\Phi(u) u e^{izu}\\ du - \\frac{i}{2} \\overline{\\int_{i\\theta}^{i\\theta+\\infty} e^{tu^2} \\Phi(u) u e^{i\\overline{z}u}\\ du},$\n",
    "\n",
    "$ = \\frac{i}{2} \\sum_{n=1}^\\infty 2\\pi^2 n^4 J_{t,\\theta}(x-(9-y)i, \\pi n^2) - 3\\pi n^2 J_{t,\\theta}(x-(5-y)i, \\pi n^2) - 2\\pi^2 n^4 \\overline{J_{t,\\theta}(x-(9+y)i, \\pi n^2)} + 3\\pi n^2 \\overline{J_{t,\\theta}(x - (5+y)i, \\pi n^2)} \\quad (1)$\n",
    "\n",
    "where $J_{t,\\theta}(b,\\beta) := \\int_{i\\theta}^{i\\theta+\\infty} \\exp( tu^2 - \\beta e^{4u} + ibu) u\\ du.$ "
   ]
  },
  {
   "cell_type": "markdown",
   "metadata": {},
   "source": [
    "From $I_{t,θ}$ above we have\n",
    "\n",
    "$\\exp(tu^2-βe^{4u}+ibu) = e^{\\operatorname{logmag}(σ)}(\\cos(ω(σ)) + i\\sin(ω(σ)))$\n",
    "\n",
    "where $\\operatorname{logmag}(σ) = - e^{4 σ} β \\cos{\\left (4 θ \\right )} + m σ - t θ^{2} + t σ^{2} - x θ - y σ$\n",
    "\n",
    "and $ω(σ) = \\left(- e^{4 σ} β \\sin{\\left (4 θ \\right )} + m θ + 2 t θ σ + x σ - y θ\\right)$"
   ]
  },
  {
   "cell_type": "markdown",
   "metadata": {},
   "source": [
    "Hence,\n",
    "\n",
    "$u\\exp(tu^2-βe^{4u}+ibu) = e^{\\operatorname{logmag}(σ)} \\left[ σ \\cos(ω(σ))-θ \\sin(ω(σ)) + i \\left( σ \\sin(ω(σ)) + θ \\cos(ω(σ)) \\right) \\right]$"
   ]
  },
  {
   "cell_type": "code",
   "execution_count": 12,
   "metadata": {},
   "outputs": [
    {
     "data": {
      "text/plain": [
       "Jtθ"
      ]
     },
     "execution_count": 12,
     "metadata": {},
     "output_type": "execute_result"
    }
   ],
   "source": [
    "\"\"\" Jtθ(x, y, n, m; t=.4, lower_limit=big(0.0), upper_limit=big(Inf), θ = θ_default(y))\n",
    "\n",
    "    Estimates Jtθ by adaptive Gauss-Kronrod quadrature, returning Jtθ and an error estimate. \n",
    "    NOTE: GK quadrature will fail for oscillatory arguments--larger values of x.\n",
    "    \n",
    "    The quadrature function uses multiprecision arithmetic if at least one limit of integration is multiprecision.\n",
    "\n",
    "    If a very unhelpful diagnostic appears, increase precision. It is 256 bits by default. \n",
    "    \"\"\"\n",
    "function Jtθ(x, y, n, m; t=.4, lower_limit=big(0.0), upper_limit=big(Inf), θ = θ_default(y))\n",
    "    β = π*n^2\n",
    "    mag(σ) = exp(logmag(x,y,t,σ,β,θ,m))\n",
    "    ω1(σ) = ω(x,y,t,σ,β,θ,m)\n",
    "    return quadgk((σ)->mag(σ)*(σ*cos(ω1(σ))-θ*sin(ω1(σ))+im*(σ*sin(ω1(σ))+θ*cos(ω1(σ)))), lower_limit, upper_limit) # return quadrature, error estimate\n",
    "end"
   ]
  },
  {
   "cell_type": "code",
   "execution_count": 13,
   "metadata": {},
   "outputs": [
    {
     "name": "stdout",
     "output_type": "stream",
     "text": [
      "Jtθ(10.0, 0.4, 1, 9) = (1.0358763987147008924125051e-04 + 2.8203784873343872948058887e-04im, 1.6932006442518676839331508e-16)\n"
     ]
    }
   ],
   "source": [
    "setprecision(80) do\n",
    "    @show Jtθ(10.0, .4, 1, 9)\n",
    "    return nothing\n",
    "end"
   ]
  },
  {
   "cell_type": "markdown",
   "metadata": {},
   "source": [
    "### Preliminary code for the series in $J_{t,\\theta}$\n",
    "\n",
    "Development for $J_{t,\\theta}$ closely parallels that for $I_{t,\\theta}$. Hence, the development below is an abbreviated parallel of the foregoing notes.\n",
    "\n",
    "#### Bounding $J_{t,\\theta}$\n",
    "\n",
    "$J_{t,\\theta,\\geq X}(b,\\beta) := \\int_{i\\theta+X}^{i\\theta+\\infty} \\exp( tu^2 - \\beta e^{4u} + ibu)u \\ du.$\n",
    "\n",
    "when, as with $I_{t,\\theta}$, when X satisfies $\\beta e^{4X} \\cos(4\\theta) \\gt \\max( \\frac{t}{2}, \\frac{a+2tX}{4})$ (equation 2 above), we have\n",
    "\n",
    "$|J_{t,\\theta,\\geq X}(b,\\beta)| \\leq \\exp( -t \\theta^2 + tX^2 - \\beta e^{4X} \\cos(4\\theta) - \\theta x + aX ) (\\frac{|X+i\\theta|}{4 \\beta e^{4X} \\cos(4\\theta) - a- 2tX} + \\frac{1}{(4 \\beta e^{4X} \\cos(4\\theta) - a- 2tX)^2}) \\quad (6)$"
   ]
  },
  {
   "cell_type": "code",
   "execution_count": 14,
   "metadata": {},
   "outputs": [
    {
     "data": {
      "text/plain": [
       "Jtθ_tail"
      ]
     },
     "execution_count": 14,
     "metadata": {},
     "output_type": "execute_result"
    }
   ],
   "source": [
    "\"\"\" Jtθ_tail(X, x, y, n, m; t=.4, θ = θ_default(y))\n",
    "    \n",
    "    Returns a provably correct upper bound for the tail of Jtθ, meaning the integral from X to ∞.\n",
    "    \"\"\"\n",
    "function Jtθ_tail(X, x, y, n, m; t=.4, θ = θ_default(y))\n",
    "    XisOK(X,y,n,m,t=t,θ=θ) || error(\"X is too small\")\n",
    "    β = π*n^2\n",
    "    a = m+y\n",
    "   return bigexp(-t*θ^2+t*X^2-β*e^(4*X)*cos(4*θ)-θ*x+a*X)*(abs(X+im*θ)/(4*β*e^(4*X)*cos(4*θ)-a-2*t*X) \n",
    "                                                           + 1/(4*β*e^(4*X)*cos(4*θ)-a-2*t*X)^2)\n",
    "end"
   ]
  },
  {
   "cell_type": "code",
   "execution_count": 15,
   "metadata": {},
   "outputs": [
    {
     "name": "stdout",
     "output_type": "stream",
     "text": [
      "abs((Jtθ(10.0, 0.4, 1, 9, lower_limit=1.0))[1]) = 4.029855724456976071528623501535664923469598728150398252405144832917306786220484e-74\n",
      "Jtθ_tail(1.0, 10.0, 0.4, 1, 9) = 9.03657533814312e-74\n"
     ]
    }
   ],
   "source": [
    "@show abs(Jtθ(10.0, .4, 1, 9, lower_limit=1.0)[1])\n",
    "@show Jtθ_tail(1.0, 10.0, .4, 1, 9)\n",
    "nothing"
   ]
  },
  {
   "cell_type": "markdown",
   "metadata": {},
   "source": [
    "#### Bounding the tail of the infinite sum\n",
    "\n",
    "$|\\sum_{n \\geq n_0} 2\\pi^2 n^4 J_{t,\\theta}(x-ia, \\pi n^2)| \\leq 2\\pi^2 \\exp( -t \\theta^2 - \\pi n_0^2 \\cos(4\\theta) - \\theta x )( \\frac{\\theta}{4 \\pi n_0^2 \\cos(4\\theta) - a} + \\frac{1}{(4 \\pi n_0^2 \\cos(4 \\theta) - a)^2} )$"
   ]
  },
  {
   "cell_type": "code",
   "execution_count": 16,
   "metadata": {},
   "outputs": [
    {
     "data": {
      "text/plain": [
       "series_tail_Jtθ9"
      ]
     },
     "execution_count": 16,
     "metadata": {},
     "output_type": "execute_result"
    }
   ],
   "source": [
    "\"\"\" series_tail_Jtθ9(x,y; t=.4, θ=θ_default(y), n0=minimum_n(x,y,9, t=t, θ=θ))\n",
    "\n",
    "    Returns a provably correct upper bound on the tail |∑2*π^2*n^4*Jtθ(x,y,9)| where summation is from n0 to ∞.\n",
    "    \"\"\"\n",
    "function series_tail_Jtθ9(x,y; t=.4, θ=θ_default(y), n0=minimum_n(x,y,9,t=t,θ=θ))\n",
    "    α = bigexp(-π*n0*cos(4*θ))\n",
    "    m = 9 # by definition of this series\n",
    "    a = m+y\n",
    "    return (2*π^2*bigexp(-t*θ^2-π*n0^2*cos(4*θ)-θ*x))*(θ/(4*π*n0^2*cos(4*θ)-a) + 1/(4*π*n0^2*cos(4*θ)-a)^2)\n",
    "end"
   ]
  },
  {
   "cell_type": "code",
   "execution_count": 17,
   "metadata": {},
   "outputs": [
    {
     "name": "stdout",
     "output_type": "stream",
     "text": [
      "series_tail_Jtθ9(1600, 0.4) = 3.6366847689603227e-9\n",
      "series_tail_Jtθ9(1600, 0.4, n0=10) = 3.596717443750566e-148\n",
      "series_tail_Jtθ9(1, 0.4) = 0.08787750843154812\n",
      "series_tail_Jtθ9(1, 0.4, n0=10) = 8.691173075730924e-141\n"
     ]
    }
   ],
   "source": [
    "@show series_tail_Jtθ9(1600, .4)\n",
    "@show series_tail_Jtθ9(1600, .4, n0=10)\n",
    "@show series_tail_Jtθ9(1, .4)\n",
    "@show series_tail_Jtθ9(1, .4, n0=10)\n",
    "nothing"
   ]
  },
  {
   "cell_type": "markdown",
   "metadata": {},
   "source": [
    "$|\\sum_{n \\geq n_0} 3\\pi n^2 J_{t,\\theta}(x-ia, \\pi n^2)| \\leq 3\\pi \\exp( -t \\theta^2 - \\pi n_0^2 \\cos(4\\theta) - \\theta x )( \\frac{\\theta}{4 \\pi n_0^2 \\cos(4\\theta) - a} + \\frac{1}{(4 \\pi n_0^2 \\cos(4\\theta) - a)^2} )$"
   ]
  },
  {
   "cell_type": "code",
   "execution_count": 18,
   "metadata": {},
   "outputs": [
    {
     "data": {
      "text/plain": [
       "series_tail_Jtθ5"
      ]
     },
     "execution_count": 18,
     "metadata": {},
     "output_type": "execute_result"
    }
   ],
   "source": [
    "\"\"\" series_tail_Jtθ5(x,y; t=.4, θ=θ_default(y), n0=minimum_n(x,y,5, t=t, θ=θ))\n",
    "\n",
    "    Return a provably correct upper bound on the tail |∑3*π*n^2*Jtθ(x,y,5)| where summation is from n0 to ∞.\n",
    "    \"\"\"\n",
    "function series_tail_Jtθ5(x,y; t=.4, θ=θ_default(y), n0=minimum_n(x,y,5,t=t,θ=θ))\n",
    "    α = bigexp(-π*n0*cos(4*θ))\n",
    "    m = 5 # by definition of this series\n",
    "    a = m+y\n",
    "    return 3*π*bigexp(-t*θ^2-π*n0^2*cos(4*θ)-θ*x)*(θ/(4*π*n0^2*cos(4*θ)-a) + 1/(4*π*n0^2*cos(4*θ)-a)^2)\n",
    "end"
   ]
  },
  {
   "cell_type": "code",
   "execution_count": 19,
   "metadata": {},
   "outputs": [
    {
     "data": {
      "text/plain": [
       "H′t_tail"
      ]
     },
     "execution_count": 19,
     "metadata": {},
     "output_type": "execute_result"
    }
   ],
   "source": [
    "\"\"\" H′t_tail(x,y; t=.4, θ=θ_default(y), n0=max(minimum_n(x,y,5,t=t,θ=θ), minimum_n(x,y,9,t=t,θ=θ))\n",
    "    \n",
    "    Return an upper bound for the tail of a series expressing H′t in terms of Jtθ along with the index of the tail's first term.\n",
    "    \"\"\"\n",
    "function H′t_tail(x,y; t=.4, θ=θ_default(y), n0=max(minimum_n(x,y,5,t=t,θ=θ), minimum_n(x,y,9,t=t,θ=θ)))\n",
    "    return series_tail_Jtθ9(x,y,t=t,θ=θ,n0=n0)[1]+series_tail_Jtθ5(x,y,t=t,θ=θ,n0=n0)[1] +\n",
    "               series_tail_Jtθ9(x,-y,t=t,θ=θ,n0=n0)[1]+series_tail_Jtθ5(x,-y,t=t,θ=θ,n0=n0)[1], n0\n",
    "end"
   ]
  },
  {
   "cell_type": "code",
   "execution_count": 20,
   "metadata": {},
   "outputs": [
    {
     "data": {
      "text/plain": [
       "(2.591869867872241e-140, 10)"
      ]
     },
     "execution_count": 20,
     "metadata": {},
     "output_type": "execute_result"
    }
   ],
   "source": [
    "H′t_tail(1e-6,.4,n0=10)"
   ]
  }
 ],
 "metadata": {
  "kernelspec": {
   "display_name": "Julia 0.6.2",
   "language": "julia",
   "name": "julia-0.6"
  },
  "language_info": {
   "file_extension": ".jl",
   "mimetype": "application/julia",
   "name": "julia",
   "version": "0.6.2"
  }
 },
 "nbformat": 4,
 "nbformat_minor": 2
}
