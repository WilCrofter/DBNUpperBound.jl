{
 "cells": [
  {
   "cell_type": "markdown",
   "metadata": {},
   "source": [
    "# Scratchpad for  I<sub>t, θ</sub> and J<sub>t, θ</sub>\n",
    "\n",
    "[Motivation](https://terrytao.wordpress.com/2018/03/18/polymath15-sixth-thread-the-test-problem-and-beyond/)\n",
    "This leaves the final range $N \\leq 10$ (roughly corresponding to $x \\leq 1600$). Here we can numerically evaluate $H_t(x+iy)$ to high accuracy at a fine mesh (see the data here), but to fill in the mesh we need good upper bounds on $H'_t(x+iy)$. It seems that we can get reasonable estimates using some contour shifting from the original definition of $H_t$ (see here). We are close to finishing off this remaining region and thus solving the toy problem. "
   ]
  },
  {
   "cell_type": "markdown",
   "metadata": {},
   "source": [
    "## $I_{t,\\theta}$\n",
    "\n",
    "### Preliminary math\n",
    "\n",
    "Reference 1: [thread 2](https://terrytao.wordpress.com/2018/02/02/polymath15-second-thread-generalising-the-riemann-siegel-approximate-functional-equation/).\n",
    "\n",
    "$H_t(z) := \\int_0^\\infty e^{tu^2} \\Phi(u) \\cos(zu)\\ du,$\n",
    "\n",
    "and $\\Phi(u) := \\sum_{n=1}^\\infty (2\\pi^2 n^4 e^{9u} - 3\\pi n^2 e^{5u} ) \\exp(-\\pi n^2 e^{4u}),$\n",
    "\n",
    "Shifting the contour and exchanging order of summation and integration,\n",
    "\n",
    "$H_t(z) = \\frac{1}{2} (K_{t,\\theta}(z) + \\overline{K_{t,\\theta}(\\overline{z})}) \\quad (A)$\n",
    "\n",
    "where $K_{t,\\theta}(z) := \\sum_{n=1}^\\infty (2\\pi^2 n^4 I_{t,\\theta}(z-9i, \\pi n^2) - 3\\pi n^2I_{t,\\theta}(z-5i, \\pi n^2))$\n",
    "\n",
    "with $I_{t,\\theta}(b,\\beta) := \\int_{i\\theta}^{i\\theta+i\\infty} \\exp(tu^2 - \\beta e^{4u} + ibu)\\ du \\quad (B)$\n",
    "\n",
    "where $\\beta = \\pi n^2$,\n",
    "\n",
    "$-\\pi/8 < \\theta < \\pi/8$,\n",
    "\n",
    "and $b = z-9i$ or $b = z-5i$ or, in the case of a conjugated argument $\\overline{z}$ as in (A) above, $b=\\overline{z}-9i$ or $b = \\overline{z}-5i$. "
   ]
  },
  {
   "cell_type": "markdown",
   "metadata": {},
   "source": [
    "### Preliminary code for the series in I<sub>t, θ</sub>\n",
    "\n",
    "#### Bounding I<sub>t, θ</sub>"
   ]
  },
  {
   "cell_type": "markdown",
   "metadata": {},
   "source": [
    "Reference 2: [Bounding the derivative 2](http://michaelnielsen.org/polymath1/index.php?title=Bounding_the_derivative_of_H_t_-_second_approach)\n",
    "\n",
    "From reference 2, equation (0),\n",
    "\n",
    "$$I_{t,\\theta}(b,\\beta) = \\frac{1}{2} \\sum_{n=1}^\\infty \\left[ 2\\pi^2 n^4 I_{t,\\theta}(x-(9-y)i, \\pi n^2) - 3\\pi n^2 I_{t,\\theta}(x-(5-y)i, \\pi n^2) + 2\\pi^2 n^4 \\overline{I_{t,\\theta}(x-(9+y)i, \\pi n^2)} - 3\\pi n^2 \\overline{I_{t,\\theta}(x-(5+y)i, \\pi n^2)} \\right]$$\n",
    "\n",
    "where $\\beta = \\pi n^2$ for $n = 1, \\ldots, \\infty$,\n",
    "\n",
    "and $b = x-ia$ for $a = 9+y, 9-y, 5+y, 5-y$.\n",
    "\n",
    "Note that if the argument to $K_{t,\\theta}$ is $z$ or $\\overline{z}$ as in (1) above, then it has the form $x \\pm iy$. Hence if $b = x \\pm iy-mi$ then $b = x - i(m \\mp y) = x - ia$ where $a = m \\mp y$ for $m = 9, 5$. This is consistent with usage in equation (0). Thus $m = 9, 5$ should be an explicit argument for code implementing $I_{t,\\theta}$."
   ]
  },
  {
   "cell_type": "markdown",
   "metadata": {},
   "source": [
    "Reference 2 points out that when $x,y > 0$, and $b=x-(9+y)i$, the $ibu$ term of the exponent in the integrand of $I_{t,\\theta}$ (equation B above) will be $(9+y)u + ixu$ which would be expected to dominate cases $a=9-y$, $a=5+y$, and $a=5-y$. Considering the dominant case, the reference favors \n",
    "\n",
    "$\\theta := \\frac{\\pi}{8} - \\frac{1}{4} \\arctan \\frac{y+9}{x} \\quad (1)$\n",
    "\n",
    "which is the imaginary part of the point $u_{inflection}$ at which $\\frac{d}{du} \\left(-\\beta e^{4u} + ibu \\right)= 0$ and which should supress much of the oscillation of the integrand in (B)."
   ]
  },
  {
   "cell_type": "code",
   "execution_count": 2,
   "metadata": {
    "scrolled": true
   },
   "outputs": [
    {
     "data": {
      "text/plain": [
       "Itθ (generic function with 1 method)"
      ]
     },
     "execution_count": 2,
     "metadata": {},
     "output_type": "execute_result"
    }
   ],
   "source": [
    "using DBNUpperBound\n",
    "using DBNUpperBound.Asymptotics\n",
    "using QuadGK\n",
    "\n",
    "θ_default(y) = π/8 - 1/4*atan((abs(y)+9)/abs(y)) # function definition\n",
    "\n",
    "function Itθ(x, y, n, m; t=.4, upper_limit=Inf, θ = θ_default(y))\n",
    "    β = π*n^2\n",
    "    b = x - im*(m+y)\n",
    "    return quadgk((u)->bigexp(t*u^2-β*e^(4*u)+im*b*u), 0, upper_limit)\n",
    "end"
   ]
  },
  {
   "cell_type": "code",
   "execution_count": 7,
   "metadata": {},
   "outputs": [
    {
     "name": "stdout",
     "output_type": "stream",
     "text": [
      "Itθ(1600.0, 0.4, 10, 9) = (1.108331992409425230414830754759420402600201414092764485188646975876516212338819e-140 + 1.418332418750343368906669404277523659530081624025078068415567529503555358492418e-140im, 2.816196671428089502140567894728623301735003163566631199066810125977647265959029e-149)\n",
      "\n",
      "Itθ(1600.0, 0.4, 10, 9, upper_limit=1.0) = (1.108331992409412029034078313944116226944510486749406350932362425023223936033518e-140 + 1.418332418750359350809905939780679734684661537870713787888600114757690580704536e-140im, 2.690824645063844088129950987256373268467070366536267755225817735427034143319125e-149)\n",
      "\n",
      "1 - abs((Itθ(1600.0, 0.4, 10, 9, upper_limit=1.0))[1] / (Itθ(1600.0, 0.4, 10, 9))[1]) = -2.480238740835311998288664278453019007527524023368712144929829024233961108084152e-15\n",
      "\n",
      "Itθ(1.0, 0.4, 10, 9) = (2.917554702405325988257703222828030679743217247133246721936664666619688654009133e-140 + 2.324268306210674693949968939926596238211993123498657591435697152171326943195146e-143im, 3.615838117205190255612116884177343167507701391526359672746809240820806135013537e-150)\n",
      "\n",
      "Itθ(1.0, 0.4, 10, 9, upper_limit=1.0) = (2.917554702405334380682411877858776370059102789149472210106188310737108436329484e-140 + 2.324268306210670198434681146198551737247902231189478559711856372256965155595751e-143im, 3.974002321826604297202851737865977802000990423283464538421840144203249519197903e-150)\n",
      "\n",
      "1 - abs((Itθ(1.0, 0.4, 10, 9, upper_limit=1.0))[1] / (Itθ(1.0, 0.4, 10, 9))[1]) = -2.87652388972756543703167805962884069533184856448139926898285401938907721536485e-15\n",
      "\n"
     ]
    }
   ],
   "source": [
    "@show Itθ(1600.0, .4, 10, 9); println() # integrate to infinity\n",
    "@show Itθ(1600.0, .4, 10, 9, upper_limit=1.0); println() # integrate to 1\n",
    "@show 1-abs(Itθ(1600.0, .4, 10, 9, upper_limit=1.0)[1]/Itθ(1600.0, .4, 10, 9)[1]); println() # compare\n",
    "@show Itθ(1.0, .4, 10, 9); println()\n",
    "@show Itθ(1.0, .4, 10, 9, upper_limit=1.0); println()\n",
    "@show 1-abs(Itθ(1.0,.4, 10, 9, upper_limit=1.0)[1]/Itθ(1.0, .4, 10, 9)[1]); println()\n",
    "nothing"
   ]
  },
  {
   "cell_type": "markdown",
   "metadata": {},
   "source": [
    "The quadrature accuracy is estimated as 7 to 9 decimal places, but the tail integrations from 1.0 to $\\infty$ suggest the tail is 15 decimal places in magnitude below the integrals from 0 to $\\infty$."
   ]
  },
  {
   "cell_type": "markdown",
   "metadata": {},
   "source": [
    "$I_{t,\\theta,\\geq X}(b,\\beta) := \\int_{i\\theta+X}^{i\\theta+\\infty} \\exp( tu^2 - \\beta e^{4u} + ibu)\\ du.$\n",
    "\n",
    "When $\\beta e^{4X} \\cos(4\\theta) \\gt \\max( \\frac{t}{2}, \\frac{a+2tX}{4}) \\quad (2)$\n",
    "\n",
    "$|I_{t,\\theta,\\geq X}(b,\\beta)| \\leq \\frac{\\exp( -t \\theta^2 + tX^2 - \\beta e^{4X} \\cos(4\\theta) - \\theta x + aX )}{4 \\beta e^{4X} \\cos(4\\theta) - a - 2tX}\\quad (3)$"
   ]
  },
  {
   "cell_type": "code",
   "execution_count": 8,
   "metadata": {},
   "outputs": [
    {
     "data": {
      "text/plain": [
       "Itθ_tail (generic function with 1 method)"
      ]
     },
     "execution_count": 8,
     "metadata": {},
     "output_type": "execute_result"
    }
   ],
   "source": [
    "function Itθ_tail(X, y, n, m; t=.4, θ = θ_default(y))\n",
    "    β = π*n^2\n",
    "    a = m+y\n",
    "    β*bigexp(4*X)*cos(4*θ) > max(t/2, (a+2*t*X)/4) || error(\"X is too small\")\n",
    "    return bigexp(-t*θ^2+t*X^2-β*e^(4*X)*cos(4*θ)+a*X)/(4*β*e^(4*X)*cos(4*θ)-a-2*t*X)\n",
    "end"
   ]
  },
  {
   "cell_type": "code",
   "execution_count": 9,
   "metadata": {},
   "outputs": [
    {
     "name": "stdout",
     "output_type": "stream",
     "text": [
      "abs(Itθ_tail(1.0, 0.4, 10, 9) / (Itθ(1600.0, 0.4, 10, 9))[1]) = 4.546467850617876274771977540319378397221303479601608741428878113960208368854512e-7304\n",
      "\n",
      "abs(Itθ_tail(1.0, 0.4, 10, 9) / (Itθ(1.0, 0.4, 10, 9))[1]) = 2.804994095482815976177337945075163086794073002233619434426788312869048569933286e-7304\n"
     ]
    }
   ],
   "source": [
    "@show abs(Itθ_tail(1.0, .4, 10, 9)/Itθ(1600.0, .4, 10, 9)[1]);println()\n",
    "@show abs(Itθ_tail(1.0, .4, 10, 9)/Itθ(1.0, .4, 10, 9)[1])\n",
    "nothing"
   ]
  },
  {
   "cell_type": "markdown",
   "metadata": {},
   "source": [
    "The provably correct bound gives much smaller values than the quadrature estimates which suggests the quadrature's limitations. The bound works uniformly for the computed quadradures however."
   ]
  },
  {
   "cell_type": "code",
   "execution_count": 10,
   "metadata": {},
   "outputs": [
    {
     "name": "stdout",
     "output_type": "stream",
     "text": [
      "Itθ_tail(0.0, 0.4, 10, 9) = 3.891823555016117e-140\n",
      "\n",
      "abs((Itθ(1600.0, 0.4, 10, 9))[1]) = 1.800018515314896865251484853015275445905833507504008546377125811543764340556811e-140\n",
      "\n",
      "abs((Itθ(1.0, 0.4, 10, 9))[1]) = 2.917555628218695943459701359419228930253579586062652112711125916968843441924133e-140\n",
      "\n",
      "Itθ_tail(0.0, 0.4, 1, 9) = 0.013735265984960112\n",
      "\n",
      "abs((Itθ(1600.0, 0.4, 1, 9))[1]) = 2.700916792911639581646529156268847007744243679835687388582777061552051429907811e-05\n",
      "\n",
      "abs((Itθ(1.0, 0.4, 1, 9))[1]) = 5.068828872869590519474762991046522287775977693688396172301459337322401277785359e-03\n"
     ]
    }
   ],
   "source": [
    "@show Itθ_tail(0.0, .4, 10, 9); println()\n",
    "@show abs(Itθ(1600.0, .4, 10, 9)[1]); println()\n",
    "@show abs(Itθ(1.0, .4, 10, 9)[1]); println()\n",
    "@show Itθ_tail(0.0, .4, 1, 9); println()\n",
    "@show abs(Itθ(1600.0, .4, 1, 9)[1]); println()\n",
    "@show abs(Itθ(1.0, .4, 1, 9)[1])\n",
    "nothing"
   ]
  },
  {
   "cell_type": "markdown",
   "metadata": {},
   "source": [
    "#### Bounding the tail of the infinite sum\n",
    "\n",
    "Quoting from [the reference](https://terrytao.wordpress.com/2018/03/18/polymath15-sixth-thread-the-test-problem-and-beyond/), expression (3) \"will start decaying rapidly when X is large enough (basically one needs $\\beta e^{4X}cos(4\\theta)$ to become large).\n",
    "\n",
    "\"For large values of n (and hence of $\\beta = \\pi n^2$), one can set $X=0$ and estimate the entire integral. Indeed, we conclude that if $\\beta = \\pi n^2$ then\n",
    "\n",
    "$|I_{t,\\theta}(b,\\pi n^2)| \\leq \\frac{\\exp( -t \\theta^2 - \\pi n^2 \\cos(4\\theta) - \\theta x )}{4 \\pi n^2 \\cos(4\\theta) - a}.$\n",
    "\n",
    "\"For instance, if $\\pi n_0^2 \\cos(4\\theta) \\gt \\max(\\frac{t}{2}, \\frac{a}{4} )$\n",
    "\n",
    "$|\\sum_{n \\geq n_0} 2\\pi^2 n^4 I_{t,\\theta}(x-ia, \\pi n^2)| \\le  \\frac{2\\pi^2 \\exp(-t \\theta^2 - \\theta x - \\pi n_0^2 \\cos(4\\theta))}{4\\pi n_0^2 \\cos(4\\theta) - a}( \\frac{n_0^4}{1 - \\alpha} + \n",
    "\\frac{4 n_0^3 \\alpha}{(1 - \\alpha)^2}  + \\frac{6 n_0^2 (\\alpha^2+\\alpha)}{(1-\\alpha)^3} + \\frac{4n_0 (\\alpha^3+4\\alpha^2+\\alpha)}{(1-\\alpha)^4} + \\frac{\\alpha^4 + 11 \\alpha^3 + 11 \\alpha^2 + \\alpha}{(1-\\alpha)^5} ) \\quad (4)$\n",
    "\n",
    "where $\\alpha := e^{-\\pi n_0 \\cos(4\\theta)}$. Caution, $\\alpha$ is easily confused with $a$ in the above expression as rendered by LaTeX.\n",
    "\n",
    "Similarly,\n",
    "\n",
    "$|\\sum_{n \\geq n_0} 3\\pi n^2 I_{t,\\theta}(x-ia, \\pi n^2)|\n",
    "\\leq \\frac{3\\pi \\exp(-t \\theta^2 - \\theta x - \\pi n_0^2 \\cos(4\\theta))}{4\\pi n_0^2 \\cos(4\\theta) - a} \n",
    "( \\frac{n_0^2}{1-\\alpha} + \\frac{2n_0 \\alpha}{(1-\\alpha)^2} + \\frac{\\alpha^2+\\alpha}{(1-\\alpha)^3} ),$\n",
    "\n",
    "which allows control of the tail of the series\n",
    "\n",
    "$H_t(z) = \\frac{1}{2} \\sum_{n=1}^\\infty 2\\pi^2 n^4 I_{t,\\theta}(x-(9-y)i, \\pi n^2) - 3\\pi n^2 I_{t,\\theta}(x-(5-y)i, \\pi n^2) + 2\\pi^2 n^4 \\overline{I_{t,\\theta}(x-(9+y)i, \\pi n^2)} - 3\\pi n^2 \\overline{I_{t,\\theta}(x-(5+y)i, \\pi n^2)} \\quad (0)$"
   ]
  },
  {
   "cell_type": "code",
   "execution_count": 12,
   "metadata": {},
   "outputs": [
    {
     "data": {
      "text/plain": [
       "minimum_n_for_I"
      ]
     },
     "execution_count": 12,
     "metadata": {},
     "output_type": "execute_result"
    }
   ],
   "source": [
    "\"\"\" minimum_n_for_I(x,y,m; t= .4, θ=θ_default(y))\n",
    "\n",
    "    Return the minimum n for which π*n^2cos(4θ)>max(t/2,a/4), where a=m+y.\n",
    "    \"\"\"\n",
    "function minimum_n_for_I(x,y,m; t= .4, θ=θ_default(y))\n",
    "    return ceil(Int, max(t/2, (m+y)/4)/(π*cos(4*θ)))\n",
    "end"
   ]
  },
  {
   "cell_type": "code",
   "execution_count": null,
   "metadata": {
    "collapsed": true
   },
   "outputs": [],
   "source": []
  }
 ],
 "metadata": {
  "kernelspec": {
   "display_name": "Julia 0.6.2",
   "language": "julia",
   "name": "julia-0.6"
  },
  "language_info": {
   "file_extension": ".jl",
   "mimetype": "application/julia",
   "name": "julia",
   "version": "0.6.2"
  }
 },
 "nbformat": 4,
 "nbformat_minor": 2
}
