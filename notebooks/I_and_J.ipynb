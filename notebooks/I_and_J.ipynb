{
 "cells": [
  {
   "cell_type": "markdown",
   "metadata": {},
   "source": [
    "# Scratchpad for  I<sub>t, θ</sub> and J<sub>t, θ</sub>\n",
    "\n",
    "[Motivation](https://terrytao.wordpress.com/2018/03/18/polymath15-sixth-thread-the-test-problem-and-beyond/)\n",
    "This leaves the final range $N \\leq 10$ (roughly corresponding to $x \\leq 1600$). Here we can numerically evaluate $H_t(x+iy)$ to high accuracy at a fine mesh (see the data here), but to fill in the mesh we need good upper bounds on $H'_t(x+iy)$. It seems that we can get reasonable estimates using some contour shifting from the original definition of $H_t$ (see here). We are close to finishing off this remaining region and thus solving the toy problem. "
   ]
  },
  {
   "cell_type": "markdown",
   "metadata": {},
   "source": [
    "## $I_{t,\\theta}$\n",
    "\n",
    "### Preliminary math\n",
    "\n",
    "Reference 1: [thread 2](https://terrytao.wordpress.com/2018/02/02/polymath15-second-thread-generalising-the-riemann-siegel-approximate-functional-equation/).\n",
    "\n",
    "$H_t(z) := \\int_0^\\infty e^{tu^2} \\Phi(u) \\cos(zu)\\ du,$\n",
    "\n",
    "and $\\Phi(u) := \\sum_{n=1}^\\infty (2\\pi^2 n^4 e^{9u} - 3\\pi n^2 e^{5u} ) \\exp(-\\pi n^2 e^{4u}),$\n",
    "\n",
    "Shifting the contour and exchanging order of summation and integration,\n",
    "\n",
    "$H_t(z) = \\frac{1}{2} (K_{t,\\theta}(z) + \\overline{K_{t,\\theta}(\\overline{z})}) \\quad (A)$\n",
    "\n",
    "where $K_{t,\\theta}(z) := \\sum_{n=1}^\\infty (2\\pi^2 n^4 I_{t,\\theta}(z-9i, \\pi n^2) - 3\\pi n^2I_{t,\\theta}(z-5i, \\pi n^2))$\n",
    "\n",
    "with $I_{t,\\theta}(b,\\beta) := \\int_{i\\theta}^{i\\theta+i\\infty} \\exp(tu^2 - \\beta e^{4u} + ibu)\\ du \\quad (B)$\n",
    "\n",
    "where $\\beta = \\pi n^2$,\n",
    "\n",
    "$-\\pi/8 < \\theta < \\pi/8$,\n",
    "\n",
    "and $b = z-9i$ or $b = z-5i$ or, in the case of a conjugated argument $\\overline{z}$ as in (A) above, $b=\\overline{z}-9i$ or $b = \\overline{z}-5i$. "
   ]
  },
  {
   "cell_type": "markdown",
   "metadata": {},
   "source": [
    "### Preliminary code for the series in I<sub>t, θ</sub>\n",
    "\n",
    "#### Bounding I<sub>t, θ</sub>"
   ]
  },
  {
   "cell_type": "markdown",
   "metadata": {},
   "source": [
    "Reference 2: [Bounding the derivative 2](http://michaelnielsen.org/polymath1/index.php?title=Bounding_the_derivative_of_H_t_-_second_approach)\n",
    "\n",
    "From reference 2, equation (0),\n",
    "\n",
    "$$I_{t,\\theta}(b,\\beta) = \\frac{1}{2} \\sum_{n=1}^\\infty \\left[ 2\\pi^2 n^4 I_{t,\\theta}(x-(9-y)i, \\pi n^2) - 3\\pi n^2 I_{t,\\theta}(x-(5-y)i, \\pi n^2) + 2\\pi^2 n^4 \\overline{I_{t,\\theta}(x-(9+y)i, \\pi n^2)} - 3\\pi n^2 \\overline{I_{t,\\theta}(x-(5+y)i, \\pi n^2)} \\right]$$\n",
    "\n",
    "where $\\beta = \\pi n^2$ for $n = 1, \\ldots, \\infty$,\n",
    "\n",
    "and $b = x-ia$ for $a = 9+y, 9-y, 5+y, 5-y$.\n",
    "\n",
    "Note that if the argument to $K_{t,\\theta}$ is $z$ or $\\overline{z}$ as in (A) above, then it has the form $x \\pm iy$. Hence if $b = x \\pm iy-mi$ then $b = x - i(m \\mp y) = x - ia$ where $a = m \\mp y$ for $m = 9, 5$. This is consistent with usage in equation (0). Thus $m = 9, 5$ should be an explicit argument for code implementing $I_{t,\\theta}$."
   ]
  },
  {
   "cell_type": "markdown",
   "metadata": {},
   "source": [
    "Reference 2 points out that when $x,y > 0$, and $b=x-(9+y)i$, the $ibu$ term of the exponent in the integrand of $I_{t,\\theta}$ (equation B above) will be $(9+y)u + ixu$ which would be expected to dominate cases $a=9-y$, $a=5+y$, and $a=5-y$. Considering the dominant case, the reference favors \n",
    "\n",
    "$\\theta := \\frac{\\pi}{8} - \\frac{1}{4} \\arctan \\frac{y+9}{x} \\quad (1)$\n",
    "\n",
    "which is the imaginary part of the point $u_{inflection}$ at which $\\frac{d}{du} \\left(-\\beta e^{4u} + ibu \\right)= 0$ and which should supress much of the oscillation of the integrand in (B)."
   ]
  },
  {
   "cell_type": "code",
   "execution_count": 59,
   "metadata": {
    "scrolled": true
   },
   "outputs": [
    {
     "data": {
      "text/plain": [
       "Itθ"
      ]
     },
     "execution_count": 59,
     "metadata": {},
     "output_type": "execute_result"
    }
   ],
   "source": [
    "using DBNUpperBound\n",
    "using DBNUpperBound.Asymptotics\n",
    "using QuadGK\n",
    "\n",
    "\"\"\" θ_default(y)\n",
    "\n",
    "    Returns a value for θ which should cancel most oscillation in Itθ or Jtθ.\n",
    "    \"\"\"\n",
    "θ_default(y) = π/8 - 1/4*atan((abs(y)+9)/abs(y)) # function definition\n",
    "\n",
    "\"\"\" Itθ(x, y, n, m; t=.4, lower_limit=0.0, upper_limit=Inf, θ = θ_default(y))\n",
    "\n",
    "    Estimates Itθ by adaptive Gauss-Kronrod quadrature.\n",
    "    \"\"\"\n",
    "function Itθ(x, y, n, m; t=.4, lower_limit=0.0, upper_limit=Inf, θ = θ_default(y))\n",
    "    β = π*n^2\n",
    "    b = x - im*(m+y)\n",
    "    return quadgk((u)->bigexp(t*u^2-β*e^(4*u)+im*b*u), lower_limit, upper_limit) # return quadrature, error estimate\n",
    "end"
   ]
  },
  {
   "cell_type": "code",
   "execution_count": 44,
   "metadata": {},
   "outputs": [
    {
     "name": "stdout",
     "output_type": "stream",
     "text": [
      "Itθ(1600.0, 0.4, 10, 9) = (1.108331992409425230414830754759420402600201414092764485188646975876516212338819e-140 + 1.418332418750343368906669404277523659530081624025078068415567529503555358492418e-140im, 2.816196671428089502140567894728623301735003163566631199066810125977647265959029e-149)\n",
      "\n",
      "Itθ(1600.0, 0.4, 10, 9, upper_limit=1.0) = (1.108331992409412029034078313944116226944510486749406350932362425023223936033518e-140 + 1.418332418750359350809905939780679734684661537870713787888600114757690580704536e-140im, 2.690824645063844088129950987256373268467070366536267755225817735427034143319125e-149)\n",
      "\n",
      "Itθ(1600.0, 0.4, 10, 9, lower_limit=1.0) = (-8.713674027395486489991757268064827073432184598478751312140928713590801728759131e-7451 - 1.225370633439028113666843201497806197688778016729866740221495100517098485573329e-7450im, 7.335905267477097174214210105120351643448932395872702113110100404150346140670016e-7461)\n",
      "\n",
      "Itθ(0.001, 0.4, 10, 9) = (2.917556548161998000485423009542086740527330697188510277665682252918782088906565e-140 + 2.324269767354934374851696757429524411694905173947200645366741590543499727868303e-146im, 3.615820713431967760522590344594378422977171443963292581072610989289397250507357e-150)\n",
      "\n",
      "Itθ(0.001, 0.4, 10, 9, upper_limit=1.0) = (2.917556548162005926764732957111806177707947609595516104522643588987429818019801e-140 + 2.324269767354930430590040262083340788167037633735348882917305722753394960739414e-146im, 3.973985383804856127893185370970869153255654383410744316617910851275007550027474e-150)\n",
      "\n",
      "Itθ(0.001, 0.4, 10, 9, lower_limit=1.0) = (1.504008482519261810989620452187034532011384057623541834911131372056934672941867e-7450 + 1.504030905687935968401204346455510986768370598566232160595267264098388528635526e-7453im, 7.33220787582244223014430889503346704906966443980541149152997595502777858597422e-7461)\n",
      "\n"
     ]
    }
   ],
   "source": [
    "@show Itθ(1600.0, .4, 10, 9); println() # integrate to infinity\n",
    "@show Itθ(1600.0, .4, 10, 9, upper_limit=1.0); println() # integrate to 1\n",
    "@show Itθ(1600.0, .4, 10, 9, lower_limit=1.0); println() #integrate from 1 to ∞\n",
    "@show Itθ(1e-3, .4, 10, 9); println() # integrate to infinity\n",
    "@show Itθ(1e-3, .4, 10, 9, upper_limit=1.0); println() # integrate to 1\n",
    "@show Itθ(1e-3, .4, 10, 9, lower_limit=1.0); println() #integrate from 1 to ∞\n",
    "nothing"
   ]
  },
  {
   "cell_type": "markdown",
   "metadata": {},
   "source": [
    "$I_{t,\\theta,\\geq X}(b,\\beta) := \\int_{i\\theta+X}^{i\\theta+\\infty} \\exp( tu^2 - \\beta e^{4u} + ibu)\\ du.$\n",
    "\n",
    "When $\\beta e^{4X} \\cos(4\\theta) \\gt \\max( \\frac{t}{2}, \\frac{a+2tX}{4}) \\quad (2)$\n",
    "\n",
    "$|I_{t,\\theta,\\geq X}(b,\\beta)| \\leq \\frac{\\exp( -t \\theta^2 + tX^2 - \\beta e^{4X} \\cos(4\\theta) - \\theta x + aX )}{4 \\beta e^{4X} \\cos(4\\theta) - a - 2tX}\\quad (3)$"
   ]
  },
  {
   "cell_type": "code",
   "execution_count": 63,
   "metadata": {},
   "outputs": [
    {
     "data": {
      "text/plain": [
       "Itθ_tail"
      ]
     },
     "execution_count": 63,
     "metadata": {},
     "output_type": "execute_result"
    }
   ],
   "source": [
    "\"\"\" XisOK(X, y, n, m; t=.4, θ=θ_default(y))\n",
    "\n",
    "    Returns true iff β*bigexp(4*X)*cos(4*θ) > max(t/2, (a+2*t*X)/4) indicating bounds for the tails of Itθ and Jtθ will be valid.\n",
    "    \"\"\"\n",
    "function XisOK(X, y, n, m; t=.4, θ=θ_default(y))\n",
    "    β = π*n^2\n",
    "    a = m+y\n",
    "    return β*bigexp(4*X)*cos(4*θ) > max(t/2, (a+2*t*X)/4)\n",
    "end\n",
    "\n",
    "\"\"\" Itθ_tail(X, x, y, n, m; t=.4, θ = θ_default(y))\n",
    "    \n",
    "    Returns a provably correct upper bound for the tail of Itθ, meaning the integral from X to ∞.\n",
    "    \"\"\"\n",
    "function Itθ_tail(X, x, y, n, m; t=.4, θ = θ_default(y))\n",
    "    XisOK(X,y,n,m,t=t,θ=θ) || error(\"X is too small\")\n",
    "    β = π*n^2\n",
    "    a = m+y\n",
    "   return bigexp(-t*θ^2+t*X^2-β*e^(4*X)*cos(4*θ)-θ*x+a*X)/(4*β*e^(4*X)*cos(4*θ)-a-2*t*X)\n",
    "end"
   ]
  },
  {
   "cell_type": "markdown",
   "metadata": {},
   "source": [
    "In a related context, quadrature was seen to be inaccurate as $x \\to 100.$ Below, the (provably correct) bound is checked against quadrature for smaller values of $x$. Quadrature is seen to be unreliable above $x=10.$ "
   ]
  },
  {
   "cell_type": "code",
   "execution_count": 61,
   "metadata": {},
   "outputs": [
    {
     "name": "stdout",
     "output_type": "stream",
     "text": [
      "abs((Itθ(1.0, 0.4, 1, 9, lower_limit=1.0))[1]) = 8.534790981549209121386400187121713966193071366625639370853382062201367617821587e-74\n",
      "Itθ_tail(1.0, 1.0, 0.4, 1, 9) = 9.928714547542804e-74\n",
      "\n",
      "abs((Itθ(10.0, 0.4, 1, 9, lower_limit=1.0))[1]) = 8.533898453250036571295804113069573534733398655624391361369701595705641979349313e-74\n",
      "Itθ_tail(1.0, 10.0, 0.4, 1, 9) = 9.022703981566085e-74\n",
      "\n",
      "abs((Itθ(20.0, 0.4, 1, 9, lower_limit=1.0))[1]) = 8.531195479460415433741459615716890810072882546697640787510510642221955463389486e-74\n",
      "Itθ_tail(1.0, 20.0, 0.4, 1, 9) = 8.11265532988406e-74\n",
      "\n",
      "abs((Itθ(100.0, 0.4, 1, 9, lower_limit=1.0))[1]) = 8.445994843494405954064272886683630105981566902725669573220559648652288171709338e-74\n",
      "Itθ_tail(1.0, 100.0, 0.4, 1, 9) = 3.4655610420501182e-74\n"
     ]
    }
   ],
   "source": [
    "@show abs(Itθ(1.0,.4,1,9,lower_limit=1.0)[1])\n",
    "@show Itθ_tail(1.0, 1.0, .4, 1, 9); println()\n",
    "@show abs(Itθ(10.0,.4,1,9,lower_limit=1.0)[1])\n",
    "@show Itθ_tail(1.0, 10.0, .4, 1, 9); println()\n",
    "@show abs(Itθ(20.0,.4,1,9,lower_limit=1.0)[1])\n",
    "@show Itθ_tail(1.0, 20.0, .4, 1, 9); println()\n",
    "@show abs(Itθ(100.0,.4,1,9,lower_limit=1.0)[1])\n",
    "@show Itθ_tail(1.0, 100.0, .4, 1, 9)\n",
    "nothing"
   ]
  },
  {
   "cell_type": "markdown",
   "metadata": {},
   "source": [
    "#### Bounding the tail of the infinite sum\n",
    "\n",
    "Quoting from [the reference](https://terrytao.wordpress.com/2018/03/18/polymath15-sixth-thread-the-test-problem-and-beyond/), expression (3) will start decaying rapidly when X is large enough (basically one needs $\\beta e^{4X}cos(4\\theta)$ to become large).\n",
    "\n",
    "For large values of n (and hence of $\\beta = \\pi n^2$), one can set $X=0$ and estimate the entire integral. Indeed, we conclude that if $\\beta = \\pi n^2$ then\n",
    "\n",
    "$|I_{t,\\theta}(b,\\pi n^2)| \\leq \\frac{\\exp( -t \\theta^2 - \\pi n^2 \\cos(4\\theta) - \\theta x )}{4 \\pi n^2 \\cos(4\\theta) - a}.$\n",
    "\n",
    "For instance, if $\\pi n_0^2 \\cos(4\\theta) \\gt \\max(\\frac{t}{2}, \\frac{a}{4} )$\n",
    "\n",
    "$|\\sum_{n \\geq n_0} 2\\pi^2 n^4 I_{t,\\theta}(x-ia, \\pi n^2)| \\le  \\frac{2\\pi^2 \\exp(-t \\theta^2 - \\theta x - \\pi n_0^2 \\cos(4\\theta))}{4\\pi n_0^2 \\cos(4\\theta) - a}( \\frac{n_0^4}{1 - \\alpha} + \n",
    "\\frac{4 n_0^3 \\alpha}{(1 - \\alpha)^2}  + \\frac{6 n_0^2 (\\alpha^2+\\alpha)}{(1-\\alpha)^3} + \\frac{4n_0 (\\alpha^3+4\\alpha^2+\\alpha)}{(1-\\alpha)^4} + \\frac{\\alpha^4 + 11 \\alpha^3 + 11 \\alpha^2 + \\alpha}{(1-\\alpha)^5} ) \\quad (4)$\n",
    "\n",
    "where $\\alpha := e^{-\\pi n_0 \\cos(4\\theta)}$. [Note: as rendered, $\\alpha$ is easily confused with $a$ in the above expression.]\n",
    "\n",
    "Similarly,\n",
    "\n",
    "$|\\sum_{n \\geq n_0} 3\\pi n^2 I_{t,\\theta}(x-ia, \\pi n^2)|\n",
    "\\leq \\frac{3\\pi \\exp(-t \\theta^2 - \\theta x - \\pi n_0^2 \\cos(4\\theta))}{4\\pi n_0^2 \\cos(4\\theta) - a} \n",
    "( \\frac{n_0^2}{1-\\alpha} + \\frac{2n_0 \\alpha}{(1-\\alpha)^2} + \\frac{\\alpha^2+\\alpha}{(1-\\alpha)^3} ),$\n",
    "\n",
    "which allows control of the tail of the series\n",
    "\n",
    "$H_t(z) = \\frac{1}{2} \\sum_{n=1}^\\infty 2\\pi^2 n^4 I_{t,\\theta}(x-(9-y)i, \\pi n^2) - 3\\pi n^2 I_{t,\\theta}(x-(5-y)i, \\pi n^2) + 2\\pi^2 n^4 \\overline{I_{t,\\theta}(x-(9+y)i, \\pi n^2)} - 3\\pi n^2 \\overline{I_{t,\\theta}(x-(5+y)i, \\pi n^2)} \\quad (0)$"
   ]
  },
  {
   "cell_type": "code",
   "execution_count": 18,
   "metadata": {},
   "outputs": [
    {
     "data": {
      "text/plain": [
       "minimum_n"
      ]
     },
     "execution_count": 18,
     "metadata": {},
     "output_type": "execute_result"
    }
   ],
   "source": [
    "\"\"\" minimum_n_for_I(x,y,m; t= .4, θ=θ_default(y))\n",
    "\n",
    "    Return the minimum n for which π*n^2cos(4θ)>max(t/2,a/4), where a=m+y. Note that cos(4θ)≥0.0 for allowable θ. \n",
    "    \"\"\"\n",
    "function minimum_n(x,y,m; t= .4, θ=θ_default(y))\n",
    "    return ceil(Int, √(max(t/2, (m+y)/4)/(π*cos(4*θ))))\n",
    "end"
   ]
  },
  {
   "cell_type": "code",
   "execution_count": 28,
   "metadata": {},
   "outputs": [
    {
     "data": {
      "text/plain": [
       "series_tail_Itθ9"
      ]
     },
     "execution_count": 28,
     "metadata": {},
     "output_type": "execute_result"
    }
   ],
   "source": [
    "\"\"\" series_tail_Itθ9(x,y; t=.4, θ=θ_default(y), n0=minimum_n(x,y,9, t=t, θ=θ))\n",
    "\n",
    "    Return a provably correct upper bound on the tail |∑2*π^2*n^4*Itθ(x,y,9)|, along with n0 where summation is from n0 to ∞.\n",
    "    \"\"\"\n",
    "function series_tail_Itθ9(x,y; t=.4, θ=θ_default(y), n0=minimum_n(x,y,9,t=t,θ=θ))\n",
    "    α = bigexp(-π*n0*cos(4*θ))\n",
    "    m = 9 # by definition of this series\n",
    "    a = m+y\n",
    "    return (2*π^2*bigexp(-t*θ^2-θ*x-π*n0^2*cos(4*θ)))/(4*π*n0^2*cos(4*θ)-a)*\n",
    "    (n0^4/(1-α) + 4*n0^3*α/(1-α)^2 + 6*n0^2*(α^2 + α)/(1-α)^3 + 4*n0*(α^3+4*α^2+α)/(1-α)^4 + (α^4+11*α^3+11*α^2+α)/(1-α)^5), n0\n",
    "end"
   ]
  },
  {
   "cell_type": "code",
   "execution_count": 32,
   "metadata": {},
   "outputs": [
    {
     "name": "stdout",
     "output_type": "stream",
     "text": [
      "series_tail_Itθ9(1600, 0.4) = (2.074594218175116e-8, 1)\n",
      "series_tail_Itθ9(1600, 0.4, n0=10) = (3.145527146658116e-142, 10)\n",
      "series_tail_Itθ9(1, 0.4) = (0.5013086986691031, 1)\n",
      "series_tail_Itθ9(1, 0.4, n0=10) = (7.600908682308951e-135, 10)\n"
     ]
    }
   ],
   "source": [
    "@show series_tail_Itθ9(1600, .4)\n",
    "@show series_tail_Itθ9(1600, .4, n0=10)\n",
    "@show series_tail_Itθ9(1, .4)\n",
    "@show series_tail_Itθ9(1, .4, n0=10)\n",
    "nothing"
   ]
  },
  {
   "cell_type": "code",
   "execution_count": 20,
   "metadata": {},
   "outputs": [
    {
     "data": {
      "text/plain": [
       "series_tail_Itθ5"
      ]
     },
     "execution_count": 20,
     "metadata": {},
     "output_type": "execute_result"
    }
   ],
   "source": [
    "\"\"\" series_tail_Itθ5(x,y; t=.4, θ=θ_default(y), n0=minimum_n(x,y,5, t=t, θ=θ))\n",
    "\n",
    "    Return a provably correct upper bound on the tail |∑3*π*n^2*Itθ(x,y,5)| where summation is from n0 to ∞.\n",
    "    \"\"\"\n",
    "function series_tail_Itθ5(x,y; t=.4, θ=θ_default(y), n0=minimum_n(x,y,5,t=t,θ=θ))\n",
    "    α = bigexp(-π*n0*cos(4*θ))\n",
    "    m = 5 # by definition of this series\n",
    "    a = m+y\n",
    "    return (3*π*bigexp(-t*θ^2-θ*x-π*n0^2*cos(4*θ)))/(4*π*n0^2*cos(4*θ)-a)*\n",
    "           (n0^2/(1-α) + 2*n0*α/(1-α)^2 + (α^2 + α)/(1-α)^3)\n",
    "end"
   ]
  },
  {
   "cell_type": "code",
   "execution_count": 21,
   "metadata": {},
   "outputs": [
    {
     "data": {
      "text/plain": [
       "Ht_tail"
      ]
     },
     "execution_count": 21,
     "metadata": {},
     "output_type": "execute_result"
    }
   ],
   "source": [
    "\"\"\" Ht_tail(x,y; t=.4, θ=θ_default(y), n0=max(minimum_n(x,y,5,t=t,θ=θ), minimum_n(x,y,9,t=t,θ=θ))\n",
    "    \n",
    "    Return an upper bound for the tail of a series expressing Ht in terms of Itθ along with the index of the tail's first term.\n",
    "    \"\"\"\n",
    "function Ht_tail(x,y; t=.4, θ=θ_default(y), n0=max(minimum_n(x,y,5,t=t,θ=θ), minimum_n(x,y,9,t=t,θ=θ)))\n",
    "    return series_tail_Itθ9(x,y,t=t,θ=θ,n0=n0)+series_tail_Itθ5(x,y,t=t,θ=θ,n0=n0) +\n",
    "               series_tail_Itθ9(x,-y,t=t,θ=θ,n0=n0)+series_tail_Itθ5(x,-y,t=t,θ=θ,n0=n0), n0\n",
    "end"
   ]
  },
  {
   "cell_type": "markdown",
   "metadata": {},
   "source": [
    "## $J_{t,\\theta}$\n",
    "\n",
    "### Preliminary math\n",
    "\n",
    "Using reference 2:\n",
    "\n",
    "$H'_t(z) = \\frac{i}{2} \\int_{i\\theta}^{i\\theta+\\infty} e^{tu^2} \\Phi(u) u e^{izu}\\ du - \\frac{i}{2} \\overline{\\int_{i\\theta}^{i\\theta+\\infty} e^{tu^2} \\Phi(u) u e^{i\\overline{z}u}\\ du},$\n",
    "\n",
    "$ = \\frac{i}{2} \\sum_{n=1}^\\infty 2\\pi^2 n^4 J_{t,\\theta}(x-(9-y)i, \\pi n^2) - 3\\pi n^2 J_{t,\\theta}(x-(5-y)i, \\pi n^2) - 2\\pi^2 n^4 \\overline{J_{t,\\theta}(x-(9+y)i, \\pi n^2)} + 3\\pi n^2 \\overline{J_{t,\\theta}(x - (5+y)i, \\pi n^2)} \\quad (1)$\n",
    "\n",
    "where $J_{t,\\theta}(b,\\beta) := \\int_{i\\theta}^{i\\theta+\\infty} \\exp( tu^2 - \\beta e^{4u} + ibu) u\\ du.$ "
   ]
  },
  {
   "cell_type": "code",
   "execution_count": 62,
   "metadata": {},
   "outputs": [
    {
     "data": {
      "text/plain": [
       "Jtθ"
      ]
     },
     "execution_count": 62,
     "metadata": {},
     "output_type": "execute_result"
    }
   ],
   "source": [
    "\"\"\" Jtθ(x, y, n, m; t=.4, lower_limit=0.0, upper_limit=Inf, θ = θ_default(y))\n",
    "\n",
    "    Estimates Jtθ by adaptive Gauss-Kronrod quadrature.\n",
    "    \"\"\"\n",
    "function Jtθ(x, y, n, m; t=.4, lower_limit=0.0, upper_limit=Inf, θ = θ_default(y))\n",
    "    β = π*n^2\n",
    "    b = x - im*(m+y)\n",
    "    return quadgk((u)->im/2*bigexp(t*u^2-β*e^(4*u)+im*b*u)*u, lower_limit, upper_limit) # return quadrature, error estimate\n",
    "end"
   ]
  },
  {
   "cell_type": "code",
   "execution_count": 65,
   "metadata": {},
   "outputs": [
    {
     "name": "stdout",
     "output_type": "stream",
     "text": [
      "Jtθ(10.0, 0.4, 1, 9) = (-1.569699749597867048945197835962003004493609004436583528391746175656429318232885e-04 + 5.022303176503271191732283391205071271989452996717212768327393002110170381832274e-05im, 1.758861195232136452436957745317821361180874917305646002937957741070841262130769e-12)\n"
     ]
    }
   ],
   "source": [
    "@show Jtθ(10.0, .4, 1, 9)\n",
    "nothing"
   ]
  },
  {
   "cell_type": "markdown",
   "metadata": {},
   "source": [
    "### Preliminary code for the series in $J_{t,\\theta}$\n",
    "\n",
    "Development for $J_{t,\\theta}$ closely parallels that for $I_{t,\\theta}$. Hence, the development below is an abbreviated parallel of the foregoing notes.\n",
    "\n",
    "#### Bounding $J_{t,\\theta}$\n",
    "\n",
    "$J_{t,\\theta,\\geq X}(b,\\beta) := \\int_{i\\theta+X}^{i\\theta+\\infty} \\exp( tu^2 - \\beta e^{4u} + ibu)u \\ du.$\n",
    "\n",
    "when, as with $I_{t,\\theta}$, when X satisfies $\\beta e^{4X} \\cos(4\\theta) \\gt \\max( \\frac{t}{2}, \\frac{a+2tX}{4})$ (equation 2 above), we have\n",
    "\n",
    "$|J_{t,\\theta,\\geq X}(b,\\beta)| \\leq \\exp( -t \\theta^2 + tX^2 - \\beta e^{4X} \\cos(4\\theta) - \\theta x + aX ) (\\frac{|X+i\\theta|}{4 \\beta e^{4X} \\cos(4\\theta) - a- 2tX} + \\frac{1}{(4 \\beta e^{4X} \\cos(4\\theta) - a- 2tX)^2}) \\quad (6)$"
   ]
  },
  {
   "cell_type": "code",
   "execution_count": 67,
   "metadata": {},
   "outputs": [
    {
     "data": {
      "text/plain": [
       "Jtθ_tail"
      ]
     },
     "execution_count": 67,
     "metadata": {},
     "output_type": "execute_result"
    }
   ],
   "source": [
    "\"\"\" Jtθ_tail(X, x, y, n, m; t=.4, θ = θ_default(y))\n",
    "    \n",
    "    Returns a provably correct upper bound for the tail of Jtθ, meaning the integral from X to ∞.\n",
    "    \"\"\"\n",
    "function Jtθ_tail(X, x, y, n, m; t=.4, θ = θ_default(y))\n",
    "    XisOK(X,y,n,m,t=t,θ=θ) || error(\"X is too small\")\n",
    "    β = π*n^2\n",
    "    a = m+y\n",
    "   return bigexp(-t*θ^2+t*X^2-β*e^(4*X)*cos(4*θ)-θ*x+a*X)*(abs(X+im*θ)/(4*β*e^(4*X)*cos(4*θ)-a-2*t*X) \n",
    "                                                           + 1/(4*β*e^(4*X)*cos(4*θ)-a-2*t*X)^2)\n",
    "end"
   ]
  },
  {
   "cell_type": "code",
   "execution_count": 69,
   "metadata": {},
   "outputs": [
    {
     "name": "stdout",
     "output_type": "stream",
     "text": [
      "abs((Jtθ(10.0, 0.4, 1, 9, lower_limit=1.0))[1]) = 4.273186656275647176053915575195269579810848963602993597324426290507965447741345e-74\n",
      "Jtθ_tail(1.0, 10.0, 0.4, 1, 9) = 9.03657533814312e-74\n"
     ]
    }
   ],
   "source": [
    "@show abs(Jtθ(10.0, .4, 1, 9, lower_limit=1.0)[1])\n",
    "@show Jtθ_tail(1.0, 10.0, .4, 1, 9)\n",
    "nothing"
   ]
  },
  {
   "cell_type": "markdown",
   "metadata": {},
   "source": [
    "#### Bounding the tail of the infinite sum\n",
    "\n",
    "$|\\sum_{n \\geq n_0} 2\\pi^2 n^4 J_{t,\\theta}(x-ia, \\pi n^2)| \\leq 2\\pi^2 \\exp( -t \\theta^2 - \\pi n_0^2 \\cos(4\\theta) - \\theta x )( \\frac{\\theta}{4 \\pi n_0^2 \\cos(4\\theta) - a} + \\frac{1}{(4 \\pi n_0^2 \\cos(4 \\theta) - a)^2} )$"
   ]
  },
  {
   "cell_type": "code",
   "execution_count": 24,
   "metadata": {},
   "outputs": [
    {
     "data": {
      "text/plain": [
       "series_tail_Jtθ9"
      ]
     },
     "execution_count": 24,
     "metadata": {},
     "output_type": "execute_result"
    }
   ],
   "source": [
    "\"\"\" series_tail_Jtθ9(x,y; t=.4, θ=θ_default(y), n0=minimum_n(x,y,9, t=t, θ=θ))\n",
    "\n",
    "    Returns a provably correct upper bound on the tail |∑2*π^2*n^4*Jtθ(x,y,9)| where summation is from n0 to ∞.\n",
    "    \"\"\"\n",
    "function series_tail_Jtθ9(x,y; t=.4, θ=θ_default(y), n0=minimum_n(x,y,9,t=t,θ=θ))\n",
    "    α = bigexp(-π*n0*cos(4*θ))\n",
    "    m = 9 # by definition of this series\n",
    "    a = m+y\n",
    "    return (2*π^2*bigexp(-t*θ^2-π*n0^2*cos(4*θ)-θ*x))*(θ/(4*π*n0^2*cos(4*θ)-a) + 1/(4*π*n0^2*cos(4*θ)-a)^2)\n",
    "end"
   ]
  },
  {
   "cell_type": "code",
   "execution_count": 70,
   "metadata": {},
   "outputs": [
    {
     "name": "stdout",
     "output_type": "stream",
     "text": [
      "series_tail_Jtθ9(1600, 0.4) = 3.6366847689603227e-9\n",
      "series_tail_Jtθ9(1600, 0.4, n0=10) = 3.596717443750566e-148\n",
      "series_tail_Jtθ9(1, 0.4) = 0.08787750843154812\n",
      "series_tail_Jtθ9(1, 0.4, n0=10) = 8.691173075730924e-141\n"
     ]
    }
   ],
   "source": [
    "@show series_tail_Jtθ9(1600, .4)\n",
    "@show series_tail_Jtθ9(1600, .4, n0=10)\n",
    "@show series_tail_Jtθ9(1, .4)\n",
    "@show series_tail_Jtθ9(1, .4, n0=10)\n",
    "nothing"
   ]
  },
  {
   "cell_type": "markdown",
   "metadata": {},
   "source": [
    "$|\\sum_{n \\geq n_0} 3\\pi n^2 J_{t,\\theta}(x-ia, \\pi n^2)| \\leq 3\\pi \\exp( -t \\theta^2 - \\pi n_0^2 \\cos(4\\theta) - \\theta x )( \\frac{\\theta}{4 \\pi n_0^2 \\cos(4\\theta) - a} + \\frac{1}{(4 \\pi n_0^2 \\cos(4\\theta) - a)^2} )$"
   ]
  },
  {
   "cell_type": "code",
   "execution_count": 25,
   "metadata": {},
   "outputs": [
    {
     "data": {
      "text/plain": [
       "series_tail_Jtθ5"
      ]
     },
     "execution_count": 25,
     "metadata": {},
     "output_type": "execute_result"
    }
   ],
   "source": [
    "\"\"\" series_tail_Jtθ5(x,y; t=.4, θ=θ_default(y), n0=minimum_n(x,y,5, t=t, θ=θ))\n",
    "\n",
    "    Return a provably correct upper bound on the tail |∑3*π*n^2*Jtθ(x,y,5)| where summation is from n0 to ∞.\n",
    "    \"\"\"\n",
    "function series_tail_Jtθ5(x,y; t=.4, θ=θ_default(y), n0=minimum_n(x,y,5,t=t,θ=θ))\n",
    "    α = bigexp(-π*n0*cos(4*θ))\n",
    "    m = 5 # by definition of this series\n",
    "    a = m+y\n",
    "    return 3*π*bigexp(-t*θ^2-π*n0^2*cos(4*θ)-θ*x)*(θ/(4*π*n0^2*cos(4*θ)-a) + 1/(4*π*n0^2*cos(4*θ)-a)^2)\n",
    "end"
   ]
  },
  {
   "cell_type": "code",
   "execution_count": 26,
   "metadata": {},
   "outputs": [
    {
     "data": {
      "text/plain": [
       "H′t_tail"
      ]
     },
     "execution_count": 26,
     "metadata": {},
     "output_type": "execute_result"
    }
   ],
   "source": [
    "\"\"\" H′t_tail(x,y; t=.4, θ=θ_default(y), n0=max(minimum_n(x,y,5,t=t,θ=θ), minimum_n(x,y,9,t=t,θ=θ))\n",
    "    \n",
    "    Return an upper bound for the tail of a series expressing H′t in terms of Jtθ along with the index of the tail's first term.\n",
    "    \"\"\"\n",
    "function H′t_tail(x,y; t=.4, θ=θ_default(y), n0=max(minimum_n(x,y,5,t=t,θ=θ), minimum_n(x,y,9,t=t,θ=θ)))\n",
    "    return series_tail_Jtθ9(x,y,t=t,θ=θ,n0=n0)+series_tail_Jtθ5(x,y,t=t,θ=θ,n0=n0) +\n",
    "               series_tail_Jtθ9(x,-y,t=t,θ=θ,n0=n0)+series_tail_Jtθ5(x,-y,t=t,θ=θ,n0=n0), n0\n",
    "end"
   ]
  }
 ],
 "metadata": {
  "kernelspec": {
   "display_name": "Julia 0.6.2",
   "language": "julia",
   "name": "julia-0.6"
  },
  "language_info": {
   "file_extension": ".jl",
   "mimetype": "application/julia",
   "name": "julia",
   "version": "0.6.2"
  }
 },
 "nbformat": 4,
 "nbformat_minor": 2
}
