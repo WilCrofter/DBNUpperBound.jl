{
 "cells": [
  {
   "cell_type": "markdown",
   "metadata": {},
   "source": [
    "# A<sup>toy</sup> and B<sup>toy</sup>\n",
    "\n",
    "The [Polymath15 test problem page](http://michaelnielsen.org/polymath1/index.php?title=Polymath15_test_problem) derives a \"toy\" approximation to H<sub>t</sub> in the form of a sum A<sup>toy</sup> and B<sup>toy</sup>, where the terms are defined as follows.\n",
    "\n",
    "$$A^{toy} := B^{toy}_0 \\exp(i ((\\frac{x}{2} + \\frac{\\pi t}{8}) \\log \\frac{x}{4\\pi} - \\frac{x}{2} - \\frac{\\pi}{4} )) N^{-y} \\sum_{n=1}^N \\frac{1}{n^{\\frac{1-y+ix}{2} + \\frac{t}{4} \\log \\frac{N^2}{n} + \\pi i t/8}}$$"
   ]
  },
  {
   "cell_type": "markdown",
   "metadata": {},
   "source": [
    "$$B^{toy} := B^{toy}_0 \\sum_{n=1}^N \\frac{1}{n^{\\frac{1+y-ix}{2} + \\frac{t}{4} \\log \\frac{N^2}{n} - \\pi i t/8}}$$\n",
    "\n",
    "where\n",
    "\n",
    "$B^{toy}_0 := \\frac{\\sqrt{2}}{4} \\pi^2 N^{\\frac{7+y}{2}} \\exp( i (-\\frac{x}{4} \\log \\frac{x}{4\\pi} + \\frac{x}{4} + \\frac{9-y}{8} \\pi) + \\frac{t}{16} (\\log \\frac{x}{4\\pi} - \\frac{\\pi i}{2})^2 ) e^{-\\pi x/8}$\n",
    "\n",
    "$N := \\lfloor \\sqrt{\\frac{x}{4\\pi}} \\rfloor,$\n",
    "\n",
    "$z = x+iy$\n",
    "\n",
    "$s = \\frac{1+iz}{2} = \\frac{1-y+ix}{2} = \\sigma + iT$"
   ]
  },
  {
   "cell_type": "code",
   "execution_count": 1,
   "metadata": {},
   "outputs": [
    {
     "data": {
      "text/plain": [
       "B0toy (generic function with 1 method)"
      ]
     },
     "execution_count": 1,
     "metadata": {},
     "output_type": "execute_result"
    }
   ],
   "source": [
    "using DBNUpperBound\n",
    "using DBNUpperBound.Asymptotics\n",
    "\n",
    "function B0toy(t::Real, s::Number, N::Int)\n",
    "    x = 2*imag(s)\n",
    "    y = 1-2*real(s)\n",
    "    return √(2)/4*π^2*N^((7+y)/2)*bigexp(im*(-x/4*log(x/(4*π))+x/4+(9-y)*π/8)+ t/16*(log(x/(4*π))-π*im/2)^2 - π*x/8)\n",
    "end"
   ]
  },
  {
   "cell_type": "markdown",
   "metadata": {},
   "source": [
    "$A^{toy} := B^{toy}_0 \\exp(i ((\\frac{x}{2} + \\frac{\\pi t}{8}) \\log \\frac{x}{4\\pi} - \\frac{x}{2} - \\frac{\\pi}{4} )) N^{-y} \\sum_{n=1}^N \\frac{1}{n^{\\frac{1-y+ix}{2} + \\frac{t}{4} \\log \\frac{N^2}{n} + \\pi i t/8}}$"
   ]
  },
  {
   "cell_type": "code",
   "execution_count": 2,
   "metadata": {},
   "outputs": [
    {
     "data": {
      "text/plain": [
       "Atoy (generic function with 1 method)"
      ]
     },
     "execution_count": 2,
     "metadata": {},
     "output_type": "execute_result"
    }
   ],
   "source": [
    "function Atoy(t::Real, s::Number, N::Int)\n",
    "    a(n) = bigexp(-log(n)*(s+t/4*log(N^2/n)+π*im*t/8))\n",
    "    psum = 0.0\n",
    "    for n in 1:N\n",
    "        psum += a(n)\n",
    "    end\n",
    "    x = 2*imag(s)\n",
    "    y = 1-2*real(s)\n",
    "    return B0toy(t,s,N)*bigexp(im*((x/2 + π*t/8)*log(x/(4*π))-x/2-π/4))*N^(-y)*psum\n",
    "end  "
   ]
  },
  {
   "cell_type": "markdown",
   "metadata": {},
   "source": [
    "$B^{toy} := B^{toy}_0 \\sum_{n=1}^N \\frac{1}{n^{\\frac{1+y-ix}{2} + \\frac{t}{4} \\log \\frac{N^2}{n} - \\pi i t/8}}$"
   ]
  },
  {
   "cell_type": "code",
   "execution_count": 3,
   "metadata": {},
   "outputs": [
    {
     "data": {
      "text/plain": [
       "Btoy (generic function with 1 method)"
      ]
     },
     "execution_count": 3,
     "metadata": {},
     "output_type": "execute_result"
    }
   ],
   "source": [
    "function Btoy(t::Real, s::Number, N::Int)\n",
    "    b(n) = bigexp(-log(n)*(1-s+t/4*log(N^2/n)-π*im*t/8))\n",
    "    psum = 0.0\n",
    "    for n in 1:N\n",
    "        psum += b(n)\n",
    "    end\n",
    "    return B0toy(t,s,N)*psum\n",
    "end"
   ]
  },
  {
   "cell_type": "markdown",
   "metadata": {},
   "source": [
    "A quick check against two values presented on the test problem page follows.\n",
    "\n",
    "For $x=10^3$, the test problem page presents,\n",
    "\n",
    "$B_0^{toy} =(2.3040+2.3606i)*10^{−167}$\n",
    "\n",
    "$A^{toy}/B^{toy}_0 = −0.4036−0.0968i$\n",
    "\n",
    "$B^{toy}/B^{toy}_0 = 0.7626+0.6192i$\n",
    "\n",
    "Values from the above functions are,"
   ]
  },
  {
   "cell_type": "code",
   "execution_count": 4,
   "metadata": {},
   "outputs": [
    {
     "name": "stdout",
     "output_type": "stream",
     "text": [
      "z = 10.0 ^ 3 + 0.4im = 1000.0 + 0.4im\n",
      "s = (1 + im * z) / 2 = 0.3 + 500.0im\n",
      "B0toy(0.4, s, Ns(s)) = 2.3040058033415374e-167 + 2.360634740079029e-167im\n",
      "Atoy(0.4, s, Ns(s)) / B0toy(0.4, s, Ns(s)) = -0.40357707161145284 - 0.09682132671949473im\n",
      "Btoy(0.4, s, Ns(s)) / B0toy(0.4, s, Ns(s)) = 0.7625813027204617 + 0.6192177317537721im\n"
     ]
    }
   ],
   "source": [
    "@show z = 10.0^3 + .4*im\n",
    "@show s = (1+im*z)/2\n",
    "@show B0toy(.4, s, Ns(s))\n",
    "@show Atoy(.4,s,Ns(s))/B0toy(.4,s,Ns(s))\n",
    "@show Btoy(.4,s,Ns(s))/B0toy(.4,s,Ns(s))\n",
    "nothing"
   ]
  },
  {
   "cell_type": "markdown",
   "metadata": {},
   "source": [
    "For $x=10^6$, the test problem page presents,\n",
    "\n",
    "$B_0 = (-3.1590 - 7.6898 i) * 10^{-170537}$\n",
    "\n",
    "$A^{toy}/B^{toy}_0 = −0.1012−0.1888i$\n",
    "\n",
    "$B^{toy}/B^{toy}_0 = 1.3956−0.5683i$\n",
    "\n",
    "Values from the above functions are,"
   ]
  },
  {
   "cell_type": "code",
   "execution_count": 5,
   "metadata": {},
   "outputs": [
    {
     "name": "stdout",
     "output_type": "stream",
     "text": [
      "z = 10.0 ^ 6 + 0.4im = 1.0e6 + 0.4im\n",
      "s = (1 + im * z) / 2 = 0.3 + 500000.0im\n",
      "B0toy(0.4, s, Ns(s)) = -3.15787331551747994795004787919940323312030476834288072598486739998008515059018e-170537 - 7.699610782402166500538257859851985953314192619007535688411475976511551203005238e-170537im\n",
      "convert(Complex{Float64}, Atoy(0.4, s, Ns(s)) / B0toy(0.4, s, Ns(s))) = -0.10131355837732511 - 0.18877169857710435im\n",
      "convert(Complex{Float64}, Btoy(0.4, s, Ns(s)) / B0toy(0.4, s, Ns(s))) = 1.395555497991836 - 0.5682943264560327im\n"
     ]
    }
   ],
   "source": [
    "@show z = 10.0^6 + .4*im\n",
    "@show s = (1+im*z)/2\n",
    "@show B0toy(.4, s, Ns(s))\n",
    "@show convert(Complex{Float64}, Atoy(.4,s,Ns(s))/B0toy(.4,s,Ns(s))) # convert for better display\n",
    "@show convert(Complex{Float64}, Btoy(.4,s,Ns(s))/B0toy(.4,s,Ns(s)))\n",
    "nothing"
   ]
  },
  {
   "cell_type": "markdown",
   "metadata": {},
   "source": [
    "There is significant disagreement with the test problem page at $x = 10^7$. Though it is not clear, disagreement may be numerical in origin since there is some disagreement at $x=10^6$ (4th decimal place of $A^{toy}/B_0^{toy}.$) "
   ]
  }
 ],
 "metadata": {
  "kernelspec": {
   "display_name": "Julia 0.6.2",
   "language": "julia",
   "name": "julia-0.6"
  },
  "language_info": {
   "file_extension": ".jl",
   "mimetype": "application/julia",
   "name": "julia",
   "version": "0.6.2"
  }
 },
 "nbformat": 4,
 "nbformat_minor": 2
}
