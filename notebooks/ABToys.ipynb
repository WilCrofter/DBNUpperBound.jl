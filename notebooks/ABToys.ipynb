{
 "cells": [
  {
   "cell_type": "markdown",
   "metadata": {},
   "source": [
    "# A<sup>toy</sup> and B<sup>toy</sup>\n",
    "\n",
    "The [Polymath15 test problem page](http://michaelnielsen.org/polymath1/index.php?title=Polymath15_test_problem) derives a \"toy\" approximation to H<sub>t</sub> in the form of a sum A<sup>toy</sup> and B<sup>toy</sup>, where the terms are defined as follows.\n",
    "\n",
    "$$A^{toy} := B^{toy}_0 \\exp(i ((\\frac{x}{2} + \\frac{\\pi t}{8}) \\log \\frac{x}{4\\pi} - \\frac{x}{2} - \\frac{\\pi}{4} )) N^{-y} \\sum_{n=1}^N \\frac{1}{n^{\\frac{1-y+ix}{2} + \\frac{t}{4} \\log \\frac{N^2}{n} + \\pi i t/8}}$$"
   ]
  },
  {
   "cell_type": "markdown",
   "metadata": {},
   "source": [
    "$$B^{toy} := B^{toy}_0 \\sum_{n=1}^N \\frac{1}{n^{\\frac{1+y-ix}{2} + \\frac{t}{4} \\log \\frac{N^2}{n} - \\pi i t/8}}$$\n",
    "\n",
    "where\n",
    "\n",
    "$B^{toy}_0 := \\frac{\\sqrt{2}}{4} \\pi^2 N^{\\frac{7+y}{2}} \\exp( i (-\\frac{x}{4} \\log \\frac{x}{4\\pi} + \\frac{x}{4} + \\frac{9-y}{8} \\pi) + \\frac{t}{16} (\\log \\frac{x}{4\\pi} - \\frac{\\pi i}{2})^2 ) e^{-\\pi x/8}$\n",
    "\n",
    "$N := \\lfloor \\sqrt{\\frac{x}{4\\pi}} \\rfloor,$\n",
    "\n",
    "$z = x+iy$\n",
    "\n",
    "$s = \\frac{1+iz}{2} = \\frac{1-y+ix}{2} = \\sigma + iT$"
   ]
  },
  {
   "cell_type": "code",
   "execution_count": 1,
   "metadata": {},
   "outputs": [
    {
     "data": {
      "text/plain": [
       "B0toy (generic function with 1 method)"
      ]
     },
     "execution_count": 1,
     "metadata": {},
     "output_type": "execute_result"
    }
   ],
   "source": [
    "using DBNUpperBound\n",
    "using DBNUpperBound.Asymptotics\n",
    "\n",
    "function B0toy(t::Real, s::Number, N::Int)\n",
    "    x = 2*imag(s)\n",
    "    y = 1-2*real(s)\n",
    "    return √(2)/4*π^2*N^((7+y)/2)*bigexp(im*(-x/4*log(x/(4*π))+x/4+(9-y)*π/8)+ t/16*(log(x/(4*π)-π*im))^2 - π*x/8)\n",
    "end"
   ]
  },
  {
   "cell_type": "code",
   "execution_count": 2,
   "metadata": {},
   "outputs": [
    {
     "data": {
      "text/plain": [
       "Atoy (generic function with 1 method)"
      ]
     },
     "execution_count": 2,
     "metadata": {},
     "output_type": "execute_result"
    }
   ],
   "source": [
    "function Atoy(t::Real, s::Number, N::Int)\n",
    "    a(n) = bigexp(-log(n)*(s+t/4*log(N^2/n)-π*im*t/8))\n",
    "    psum = 0.0\n",
    "    for n in 1:N\n",
    "        psum += a(n)\n",
    "    end\n",
    "    return B0toy(t,s,N)*psum\n",
    "end  "
   ]
  },
  {
   "cell_type": "code",
   "execution_count": 3,
   "metadata": {},
   "outputs": [
    {
     "data": {
      "text/plain": [
       "Btoy (generic function with 1 method)"
      ]
     },
     "execution_count": 3,
     "metadata": {},
     "output_type": "execute_result"
    }
   ],
   "source": [
    "function Btoy(t::Real, s::Number, N::Int)\n",
    "    b(n) = bigexp(-log(n)*(1-s+t/4*log(N^2/n)-π*im*t/8))\n",
    "    psum = 0.0\n",
    "    for n in 1:n\n",
    "        psum += b(n)\n",
    "    end\n",
    "    return B0toy(t,s,N)*psume\n",
    "end"
   ]
  }
 ],
 "metadata": {
  "kernelspec": {
   "display_name": "Julia 0.6.2",
   "language": "julia",
   "name": "julia-0.6"
  },
  "language_info": {
   "file_extension": ".jl",
   "mimetype": "application/julia",
   "name": "julia",
   "version": "0.6.2"
  }
 },
 "nbformat": 4,
 "nbformat_minor": 2
}
