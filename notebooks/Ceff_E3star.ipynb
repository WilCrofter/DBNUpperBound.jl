{
 "cells": [
  {
   "cell_type": "markdown",
   "metadata": {},
   "source": [
    "# C<sup>eff</sup> and E<sub>3</sub>*\n",
    "\n",
    "[The \"Controlling $H_t$\" post](http://michaelnielsen.org/polymath1/index.php?title=Controlling_H_t-A-B/B_0) concludes with the following expression for an upper bound for $E_3$.\n",
    "\n",
    "$$E_3^* := \\frac{1}{8} \\sqrt{\\pi} \\exp( - \\frac{t\\pi^2}{64}) (T'_0)^{3/2} e^{-\\pi T_0/4} \\exp( \\frac{0.181}{T'_0 - 3.33}) (1 + \\frac{5.15}{a_0-1.25})$$\n",
    "\n",
    "where $T_0 = \\Im{s} \\ge 100$, $\\:\\:T'_0 = T_0 + \\frac{\\pi t}{8}$, and $\\:\\:a_0 = \\sqrt{\\frac{T'_0}{2\\pi}}.$"
   ]
  },
  {
   "cell_type": "code",
   "execution_count": 1,
   "metadata": {},
   "outputs": [
    {
     "data": {
      "text/plain": [
       "E3star (generic function with 1 method)"
      ]
     },
     "execution_count": 1,
     "metadata": {},
     "output_type": "execute_result"
    }
   ],
   "source": [
    "using DBNUpperBound\n",
    "using DBNUpperBound.Asymptotics\n",
    "\n",
    "# Note that E3⋆ (E3\\star<tab>) is a valid variable name in Julia, but might be too easily confused with E3*.\n",
    "\n",
    "function E3star(t::Ty1, s::Ty3) where {Ty1<:Real, Ty3<:Number}\n",
    "    T0 = imag(s)\n",
    "    T0 ≥ 100 || error(\"T0 = \",T0,\" is too small. T0 ≥ 100 is required for bounds to hold.\")\n",
    "    T0′ = T0 + π*t/8\n",
    "    a0 = √(T0′/(2*π))\n",
    "    return abs(1/8*√(π)*bigexp(-t*π^2/64 - π*T0/4 + 0.181/(T0′-3.33))*T0′^(3/2)*(1+5.15/(a0-1.25)))\n",
    "end"
   ]
  },
  {
   "cell_type": "markdown",
   "metadata": {},
   "source": [
    "$C^{eff}$ is defined on the [Test Problem page](http://michaelnielsen.org/polymath1/index.php?title=Polymath15_test_problem) as follows:\n",
    "\n",
    "$$C^{eff} := \\frac{1}{8} \\exp( \\frac{t\\pi^2}{64}) \\frac{s'(s'-1)}{2} (-1)^N ( \\pi^{-s'/2} \\Gamma(s'/2) a^{-\\sigma} C_0(p) U + \\pi^{-(1-s')/2} \\Gamma((1-s')/2) a^{-(1-\\sigma)} \\overline{C_0(p)} \\overline{U})$$\n",
    "\n",
    "where"
   ]
  },
  {
   "cell_type": "markdown",
   "metadata": {},
   "source": [
    "$T' := \\frac{x}{2} + \\frac{\\pi t}{8} = \\Im{s}+\\frac{\\pi t}{8}$"
   ]
  },
  {
   "cell_type": "markdown",
   "metadata": {},
   "source": [
    "$s' := \\frac{1-y}{2} + iT' = \\frac{1-y+ix}{2} + \\frac{\\pi i t}{8} = s + \\frac{\\pi i t}{8}$"
   ]
  },
  {
   "cell_type": "markdown",
   "metadata": {},
   "source": [
    "$a := \\sqrt{\\frac{T'}{2\\pi}}$"
   ]
  },
  {
   "cell_type": "markdown",
   "metadata": {},
   "source": [
    "$N := \\lfloor \\sqrt{ \\frac{T'}{2\\pi}} \\rfloor = \\lfloor a \\rfloor$"
   ]
  },
  {
   "cell_type": "markdown",
   "metadata": {},
   "source": [
    "$p := 1 - 2(a-N)$"
   ]
  },
  {
   "cell_type": "markdown",
   "metadata": {},
   "source": [
    "$U := \\exp( -i (\\frac{T'}{2} \\log \\frac{T'}{2\\pi} - \\frac{T'}{2} - \\frac{\\pi}{8} ))$"
   ]
  },
  {
   "cell_type": "markdown",
   "metadata": {},
   "source": [
    "$C_0(p) := \\frac{ \\exp( \\pi i (p^2/2 + 3/8) )- i \\sqrt{2} \\cos(\\pi p/2)}{2 \\cos(\\pi p)}.$"
   ]
  },
  {
   "cell_type": "markdown",
   "metadata": {},
   "source": [
    "$\\sigma := \\mathrm{Re} s' = \\frac{1-y}{2}$"
   ]
  },
  {
   "cell_type": "code",
   "execution_count": 2,
   "metadata": {},
   "outputs": [
    {
     "data": {
      "text/plain": [
       "Ceff (generic function with 1 method)"
      ]
     },
     "execution_count": 2,
     "metadata": {},
     "output_type": "execute_result"
    }
   ],
   "source": [
    "function Ceff(t::Ty1, s::Ty2) where {Ty1<:Real, Ty2<:Number}\n",
    "    T′ = imag(s)+π*t/8\n",
    "    s′ = s + im*π*t/8\n",
    "    a  = √(T′/(2*π))\n",
    "    N  = floor(Int,a)\n",
    "    p  = 1 - 2*(a-N)\n",
    "    U  = exp(-im*(T′/2*log(T′/(2*π)) - T′/2 - π/8))\n",
    "    C0 = exp(π*im*(p^2/2+3/8) - im*√(2)*cos(π*p/2))/(2*cos(π*p))\n",
    "    σ  = real(s′)\n",
    "    # This precaution will surely be unnecessary in practice but...\n",
    "    if !(s′≈ 0) && !(s′ ≈ 1)\n",
    "        return 1/8*exp(t*π^2/64)*s′*(s′-1)/2*(-1)^N*(π^(-s′/2)*Γ(s′/2)*a^(-σ)*C0*U + π^(-(1-s′)/2)*Γ((1-s′)/2)*a^(-(1-σ))*C0'*U')\n",
    "    elseif s′≈ 0\n",
    "        # s′/2 ≈ 0 is a pole of Γ, but s′/2 * Γ(s′/2) ≈ 1\n",
    "        return 1/8*exp(t*π^2/64)*(s′-1)*(-1)^N*(π^(-s′/2)*1*a^(-σ)*C0*U + s′/2*π^(-(1-s′)/2)*Γ((1-s′)/2)*a^(-(1-σ))*C0'*U')\n",
    "    else\n",
    "        # (s′-1) ≈ 0 is a pole of Γ, but (s'-1)/2 * Γ((1-s′)/2) ≈ -1\n",
    "        return 1/8*exp(t*π^2/64)*s′*(-1)^N*((s′-1)/2*π^(-s′/2)*Γ(s′/2)*a^(-σ)*C0*U + π^(-(1-s′)/2)*(-1)*a^(-(1-σ))*C0'*U')\n",
    "    end\n",
    "end"
   ]
  }
 ],
 "metadata": {
  "kernelspec": {
   "display_name": "Julia 0.6.2",
   "language": "julia",
   "name": "julia-0.6"
  },
  "language_info": {
   "file_extension": ".jl",
   "mimetype": "application/julia",
   "name": "julia",
   "version": "0.6.2"
  }
 },
 "nbformat": 4,
 "nbformat_minor": 2
}
