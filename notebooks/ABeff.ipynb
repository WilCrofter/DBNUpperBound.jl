{
 "cells": [
  {
   "cell_type": "markdown",
   "metadata": {},
   "source": [
    "# Effective Bounds: A<sup>eff</sup>, B<sup>eff</sup> etc.\n",
    "\n",
    "Implementation of $A^{eff}$, $B^{eff}$ using the technique illustrated in **Effective Bounds: A', B'**. As before, the forumlae below are cut and pasted into markdown cells of this document from LaTeX provided by MathJax on the [web page](http://michaelnielsen.org/polymath1/index.php?title=Polymath15_test_problem)."
   ]
  },
  {
   "cell_type": "markdown",
   "metadata": {},
   "source": [
    "$$A^{eff} := \\frac{1}{8} \\exp( \\frac{t}{4} \\alpha_1(\\frac{1-y+ix}{2})^2 ) H_{0,1}(\\frac{1-y+ix}{2}) \\sum_{n=1}^N \\frac{1}{n^{\\frac{1-y+ix}{2} + \\frac{t \\alpha_1(\\frac{1-y+ix}{2})}{2} - \\frac{t}{4} \\log n}}$$"
   ]
  },
  {
   "cell_type": "markdown",
   "metadata": {},
   "source": [
    "$$B^{eff} := \\frac{1}{8} \\exp( \\frac{t}{4} \\overline{\\alpha_1(\\frac{1+y+ix}{2})}^2 ) \\overline{H_{0,1}(\\frac{1+y+ix}{2})} \\sum_{n=1}^N \\frac{1}{n^{\\frac{1+y-ix}{2} + \\frac{t \\overline{\\alpha_1(\\frac{1+y+ix}{2})}}{2} - \\frac{t}{4} \\log n}}$$"
   ]
  },
  {
   "cell_type": "markdown",
   "metadata": {},
   "source": [
    "(Note: The following probably should read $B_0^{eff}$ rather than $B^{eff}$ as it is just the previous formula with N=1.)\n",
    "\n",
    "$$B^{eff} := \\frac{1}{8} \\exp( \\frac{t}{4} \\overline{\\alpha_1(\\frac{1+y+ix}{2})}^2 ) \\overline{H_{0,1}(\\frac{1+y+ix}{2})}$$"
   ]
  },
  {
   "cell_type": "markdown",
   "metadata": {},
   "source": [
    "$$H_{0,1}(s) := \\frac{s (s-1)}{2} \\pi^{-s/2} \\sqrt{2\\pi} \\exp( (\\frac{s}{2} - \\frac{1}{2}) \\log \\frac{s}{2} - \\frac{s}{2} )$$"
   ]
  },
  {
   "cell_type": "markdown",
   "metadata": {},
   "source": [
    "$$\\alpha_1(s) := \\frac{1}{2s} + \\frac{1}{s-1} + \\frac{1}{2} \\log \\frac{s}{2\\pi}$$"
   ]
  },
  {
   "cell_type": "markdown",
   "metadata": {},
   "source": [
    "$$N := \\lfloor \\sqrt{ \\frac{T'}{2\\pi}} \\rfloor$$"
   ]
  },
  {
   "cell_type": "markdown",
   "metadata": {},
   "source": [
    "$$T' := \\frac{x}{2} - \\frac{\\pi t}{8}.$$"
   ]
  },
  {
   "cell_type": "markdown",
   "metadata": {},
   "source": [
    "Also recall that if $z= x+iy$, then $s=\\frac{1+zi}{2}=\\frac{1-y+ix}{2}$. Note that the expression $\\frac{1+y+ix}{2}=\\frac{1+\\bar{z}i}{2}$ occurs in the formula for $B^{eff}.$ The expression $\\frac{1+y-ix}{2}$ which occurs in the denominator of $B^{eff}$'s summand does *not* appear to be a typo. It is consistent with the Python implemetation, [Ht_Effective(z, t)](https://github.com/km-git-acc/dbn_upper_bound/blob/d1cc87111711f7d1e826b9d253c1453a01489561/dbn_upper_bound/python/mputility.py#L386), specifically the definition of `s1` as $\\frac{1-y+ix}{2}$ and the use of `1-s1` or $\\frac{1+y-ix}{2}$ in the associated summation loop. The formulae above thus appear correct.\n",
    "\n",
    "The last two formulae may be combined into as follows. Since $s = \\frac{1-y+ix}{2}$, $\\frac{x}{2}= imag(s)$, and $T' = imag(s)- \\frac{\\pi t}{8}$. Hence,"
   ]
  },
  {
   "cell_type": "code",
   "execution_count": 3,
   "metadata": {},
   "outputs": [
    {
     "data": {
      "text/plain": [
       "Nseff (generic function with 1 method)"
      ]
     },
     "execution_count": 3,
     "metadata": {},
     "output_type": "execute_result"
    }
   ],
   "source": [
    "using DBNUpperBound\n",
    "using DBNUpperBound.Asymptotics\n",
    "\n",
    "Nseff(s,t) = floor(Int, √((imag(s) - π*t/8)/(2*π))) # Admissable function definition syntax in Julia"
   ]
  },
  {
   "cell_type": "markdown",
   "metadata": {},
   "source": [
    "Implementing $\\alpha_1$ as $\\alpha$eff:\n",
    "\n",
    "$$\\alpha_1(s) := \\frac{1}{2s} + \\frac{1}{s-1} + \\frac{1}{2} \\log \\frac{s}{2\\pi}$$"
   ]
  },
  {
   "cell_type": "code",
   "execution_count": 4,
   "metadata": {},
   "outputs": [
    {
     "data": {
      "text/plain": [
       "αeff (generic function with 1 method)"
      ]
     },
     "execution_count": 4,
     "metadata": {},
     "output_type": "execute_result"
    }
   ],
   "source": [
    "αeff(s) = 1/(2*s) + 1/(s-1) + 1/2*log(s/(2*π))"
   ]
  },
  {
   "cell_type": "markdown",
   "metadata": {},
   "source": [
    "Continuing with $H_{0,1}$\n",
    "\n",
    "$$H_{0,1}(s) := \\frac{s (s-1)}{2} \\pi^{-s/2} \\sqrt{2\\pi} \\exp( (\\frac{s}{2} - \\frac{1}{2}) \\log \\frac{s}{2} - \\frac{s}{2} )$$"
   ]
  },
  {
   "cell_type": "code",
   "execution_count": 5,
   "metadata": {},
   "outputs": [
    {
     "data": {
      "text/plain": [
       "H01 (generic function with 1 method)"
      ]
     },
     "execution_count": 5,
     "metadata": {},
     "output_type": "execute_result"
    }
   ],
   "source": [
    "H01(s) = (s*(s-1)/2)*√(2*π)*bigexp(-s/2*log(π) + (s/2-1/2)*log(s/2) - s/2)"
   ]
  },
  {
   "cell_type": "markdown",
   "metadata": {},
   "source": [
    "The denominators of the summands in $A^{eff}$ and $B^{eff}$ are\n",
    "\n",
    "$$ n^{\\frac{1-y+ix}{2} + \\frac{t \\alpha_1(\\frac{1-y+ix}{2})}{2} - \\frac{t}{4} \\log n}$$\n",
    "\n",
    "for $A^{eff}$ and"
   ]
  },
  {
   "cell_type": "markdown",
   "metadata": {},
   "source": [
    "$$n^{\\frac{1+y-ix}{2} + \\frac{t \\overline{\\alpha_1(\\frac{1+y+ix}{2})}}{2} - \\frac{t}{4} \\log n}$$\n",
    "\n",
    "for $B^{eff}$."
   ]
  },
  {
   "cell_type": "code",
   "execution_count": null,
   "metadata": {
    "collapsed": true
   },
   "outputs": [],
   "source": []
  }
 ],
 "metadata": {
  "kernelspec": {
   "display_name": "Julia 0.6.1",
   "language": "julia",
   "name": "julia-0.6"
  },
  "language_info": {
   "file_extension": ".jl",
   "mimetype": "application/julia",
   "name": "julia",
   "version": "0.6.2"
  }
 },
 "nbformat": 4,
 "nbformat_minor": 2
}
