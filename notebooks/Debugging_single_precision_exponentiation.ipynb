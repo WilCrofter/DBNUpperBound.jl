{
 "cells": [
  {
   "cell_type": "markdown",
   "metadata": {},
   "source": [
    "# Debugging Float64 exponentiation\n",
    "\n",
    "Several formally correct inequalities do not hold numerically in Julia at the time of this writing. This notebook isolates at least one aspect of the problem, the `Float64` exponentiation method. \n",
    "\n",
    "According to [Effective Bounds 2](http://michaelnielsen.org/polymath1/index.php?title=Effective_bounds_on_H_t_-_second_approach), \"We use O≤(X) to denote any quantity bounded in magnitude by at most X. An equality A=B using this notation means that any quantity of the form A is also of the form B, though we do not require the converse to be true (thus we break the symmetry of the equality relation). Thus for instance O≤(1)+O≤(1)=O≤(3).\"\n",
    "\n",
    "Elementary estimate (v) is:\n",
    "\n",
    "$\\Gamma(z) = \\sqrt{2\\pi} \\exp( (z-\\frac{1}{2}) \\log z - z + O_{\\leq}( \\frac{1}{12(|z| - 0.33)} )).$\n",
    "\n",
    "This suggests something like this to me:\n",
    "\n",
    "$\\Gamma(z) = \\sqrt{2\\pi} \\exp( (z-\\frac{1}{2}) \\log z - z \\pm O_{\\leq}( \\frac{1}{12(|z| - 0.33)} )),$\n",
    "\n",
    "*i.e.* that $\\Gamma(z)$ is within a factor $\\exp(\\pm O_{\\leq}( \\frac{1}{12(|z| - 0.33)} )$ of $\\sqrt{2\\pi} \\exp( (z-\\frac{1}{2}) \\log z - z),$ or\n",
    "\n",
    "$$\\exp( \\frac{-1}{12(|z| - 0.33)} ) \\le |\\frac{\\Gamma(z)}{\\sqrt{2\\pi} \\exp( (z-\\frac{1}{2}) \\log z - z)}| \\le \\exp( \\frac{1}{12(|z| - 0.33)} )$$\n"
   ]
  },
  {
   "cell_type": "code",
   "execution_count": 3,
   "metadata": {
    "collapsed": true
   },
   "outputs": [],
   "source": [
    "using DBNUpperBound\n",
    "using SpecialFunctions"
   ]
  },
  {
   "cell_type": "code",
   "execution_count": 4,
   "metadata": {},
   "outputs": [
    {
     "data": {
      "text/plain": [
       "est5 (generic function with 1 method)"
      ]
     },
     "execution_count": 4,
     "metadata": {},
     "output_type": "execute_result"
    }
   ],
   "source": [
    "function est5(z::Number)\n",
    "    return √(2*π)*bigexp((z-0.5)*log(z)-z),bigexp(1/(12*(abs(z)-0.33)))\n",
    "end"
   ]
  },
  {
   "cell_type": "code",
   "execution_count": 5,
   "metadata": {},
   "outputs": [
    {
     "name": "stdout",
     "output_type": "stream",
     "text": [
      "G = bigexp(lgamma(300.0 + 0.4im)) = -6.6485627886914067585544807e+611 + 7.7343479502546049890029821e+611im\n",
      "est = est5(300.0 + 0.4im) = (-6.6467190899089837930129941e+611 + 7.732197361507379971825832e+611im, 1.0002781220911363)\n",
      "1 / est[2] ≤ abs(G / est[1]) ≤ est[2] = true\n"
     ]
    }
   ],
   "source": [
    "setprecision(80)do\n",
    "    @show G = bigexp(lgamma(300.0+.4im))\n",
    "    @show est = est5(300.0+.4im)\n",
    "    @show 1/est[2] ≤ abs(G/est[1]) ≤ est[2]\n",
    "    nothing\n",
    "end"
   ]
  },
  {
   "cell_type": "code",
   "execution_count": 6,
   "metadata": {},
   "outputs": [
    {
     "name": "stdout",
     "output_type": "stream",
     "text": [
      "all(tmp) = false\n",
      "size(cases, 1) = 4\n"
     ]
    }
   ],
   "source": [
    "srand(0x1234)\n",
    "r5 = region_5(1000)\n",
    "tmp = Vector{Bool}(size(r5,1))\n",
    "for i in 1:size(r5,1)\n",
    "    s = s⁺(r5[i,2],r5[i,3])\n",
    "    G = bigexp(lgamma(s))\n",
    "    est = est5(s)\n",
    "    tmp[i] = 1/est[2] ≤ abs(G/est[1]) ≤ est[2]\n",
    "end\n",
    "@show all(tmp)\n",
    "cases = r5[.!tmp,2:3]\n",
    "@show size(cases,1)\n",
    "nothing"
   ]
  },
  {
   "cell_type": "code",
   "execution_count": 7,
   "metadata": {},
   "outputs": [
    {
     "data": {
      "text/plain": [
       "4×2 Array{Float64,2}:\n",
       " 944.963  0.611094\n",
       " 947.029  0.728825\n",
       " 946.019  0.228572\n",
       " 940.627  0.499199"
      ]
     },
     "execution_count": 7,
     "metadata": {},
     "output_type": "execute_result"
    }
   ],
   "source": [
    "cases"
   ]
  },
  {
   "cell_type": "code",
   "execution_count": 8,
   "metadata": {},
   "outputs": [
    {
     "data": {
      "text/plain": [
       "4-element Array{Complex{Float64},1}:\n",
       " 0.194453+472.482im\n",
       " 0.135588+473.515im\n",
       " 0.385714+473.01im \n",
       "   0.2504+470.314im"
      ]
     },
     "execution_count": 8,
     "metadata": {},
     "output_type": "execute_result"
    }
   ],
   "source": [
    "scases = [s⁺(cases[i,1],cases[i,2]) for i in 1:size(cases,1)]"
   ]
  },
  {
   "cell_type": "code",
   "execution_count": 9,
   "metadata": {},
   "outputs": [
    {
     "data": {
      "text/plain": [
       "4-element Array{Complex{Float64},1}:\n",
       "  4.94066e-324-1.97626e-323im\n",
       "           0.0-4.94066e-324im\n",
       "  -1.4822e-323+1.97626e-323im\n",
       " -3.16202e-322-7.11455e-322im"
      ]
     },
     "execution_count": 9,
     "metadata": {},
     "output_type": "execute_result"
    }
   ],
   "source": [
    "Gs = [bigexp(lgamma(s)) for s in scases]"
   ]
  },
  {
   "cell_type": "code",
   "execution_count": 10,
   "metadata": {},
   "outputs": [
    {
     "data": {
      "text/plain": [
       "4×3 Array{Float64,2}:\n",
       " 1.4822e-323   1.97626e-323  1.4822e-323 \n",
       " 4.94066e-324  4.94066e-324  4.94066e-324\n",
       " 2.96439e-323  2.47033e-323  2.96439e-323\n",
       " 7.85564e-322  7.80624e-322  7.85564e-322"
      ]
     },
     "execution_count": 10,
     "metadata": {},
     "output_type": "execute_result"
    }
   ],
   "source": [
    "setprecision(80)do\n",
    "ratios = Array{Float64}(length(scases),3)\n",
    "for i in 1:length(scases)\n",
    "    s = scases[i]\n",
    "    G = bigexp(lgamma(s))\n",
    "    est = est5(s)\n",
    "    ratios[i,2] = abs(G)\n",
    "    ratios[i,1] = abs(est[1]/est[2])\n",
    "    ratios[i,3] = abs(est[1]*est[2])\n",
    "end\n",
    "ratios\n",
    "end"
   ]
  },
  {
   "cell_type": "markdown",
   "metadata": {},
   "source": [
    "This looks numerical."
   ]
  },
  {
   "cell_type": "markdown",
   "metadata": {},
   "source": [
    "Attempting to isolate the numerical issue, we first check gamma against lgamma (log gamma) and then check some functional relations."
   ]
  },
  {
   "cell_type": "code",
   "execution_count": 11,
   "metadata": {},
   "outputs": [
    {
     "name": "stdout",
     "output_type": "stream",
     "text": [
      "gamma(scases[1]) ≈ bigexp(lgamma(scases[1])) = true\n",
      "gamma(scases[1]) ≈ gamma(scases[1] + 1) / scases[1] = true\n",
      "(k, abs(est[1] / est[2]) ≤ abs(gamma(scases[1] + k)) ≤ abs(est[1] * est[2])) = (1, false)\n",
      "(k, abs((est[1] / est[2]) / den) ≤ abs(gamma(scases[1] + k) / den) ≤ abs((est[1] * est[2]) / den)) = (1, true)\n",
      "(k, abs(est[1] / est[2]) ≤ abs(gamma(scases[1] + k)) ≤ abs(est[1] * est[2])) = (2, true)\n",
      "(k, abs((est[1] / est[2]) / den) ≤ abs(gamma(scases[1] + k) / den) ≤ abs((est[1] * est[2]) / den)) = (2, true)\n",
      "(k, abs(est[1] / est[2]) ≤ abs(gamma(scases[1] + k)) ≤ abs(est[1] * est[2])) = (3, true)\n",
      "(k, abs((est[1] / est[2]) / den) ≤ abs(gamma(scases[1] + k) / den) ≤ abs((est[1] * est[2]) / den)) = (3, true)\n",
      "(k, abs(est[1] / est[2]) ≤ abs(gamma(scases[1] + k)) ≤ abs(est[1] * est[2])) = (4, true)\n",
      "(k, abs((est[1] / est[2]) / den) ≤ abs(gamma(scases[1] + k) / den) ≤ abs((est[1] * est[2]) / den)) = (4, true)\n",
      "(k, abs(est[1] / est[2]) ≤ abs(gamma(scases[1] + k)) ≤ abs(est[1] * est[2])) = (5, true)\n",
      "(k, abs((est[1] / est[2]) / den) ≤ abs(gamma(scases[1] + k) / den) ≤ abs((est[1] * est[2]) / den)) = (5, true)\n"
     ]
    }
   ],
   "source": [
    "@show gamma(scases[1]) ≈ bigexp(lgamma(scases[1]))\n",
    "@show gamma(scases[1]) ≈ gamma(scases[1]+1)/scases[1]\n",
    "for k in 1:5\n",
    "    est = est5(scases[1]+k)\n",
    "    den = prod([scases[1]+j for j in 0:(k-1)])\n",
    "    @show k, abs(est[1]/est[2]) ≤ abs(gamma(scases[1]+k)) ≤ abs(est[1]*est[2])\n",
    "    @show k, abs(est[1]/est[2]/den) ≤ abs(gamma(scases[1]+k)/den) ≤ abs(est[1]*est[2]/den)\n",
    "end\n",
    "nothing"
   ]
  },
  {
   "cell_type": "markdown",
   "metadata": {},
   "source": [
    "Which suggests that either the estimate or gamma itself is unreliable when $|\\Gamma(s)| \\le 2.$"
   ]
  },
  {
   "cell_type": "code",
   "execution_count": 13,
   "metadata": {},
   "outputs": [
    {
     "name": "stdout",
     "output_type": "stream",
     "text": [
      "g = gamma(scases[1]) = 5.0e-324 - 2.0e-323im\n",
      "(k, gk, gk / den ≈ g) = (1, 8.29e-321 + 2.33e-321im, true)\n",
      "(k, gk, gk / den ≈ g) = (2, -1.091095e-318 + 3.9186e-318im, true)\n",
      "(k, gk, gk / den ≈ g) = (3, -1.853859954e-315 - 5.0692338e-316im, true)\n",
      "(k, gk, gk / den ≈ g) = (4, 2.3358990366e-313 - 8.775340731e-313im, true)\n",
      "(k, gk, gk / den ≈ g) = (5, 4.1559849034689e-310 + 1.0668615748881e-310im, true)\n"
     ]
    }
   ],
   "source": [
    "@show g = gamma(scases[1])\n",
    "for k in 1:5\n",
    "    den = prod([scases[1]+j for j in 0:(k-1)])\n",
    "    gk =  gamma(scases[1]+k)\n",
    "    @show k, gk, gk/den≈g\n",
    "end\n",
    "nothing"
   ]
  },
  {
   "cell_type": "markdown",
   "metadata": {
    "collapsed": true
   },
   "source": [
    "SpecialFunctions' gamma implementation seems to satisfy $\\Gamma(z) \\approx \\frac{\\Gamma(z+k)}{z\\cdots z^{k-1}}$ which tends to implicate `est5`. We have\n",
    "\n",
    "$\\Gamma(z) = \\sqrt{2\\pi} \\exp( (z-\\frac{1}{2}) \\log z - z + O_{\\leq}( \\frac{1}{12(|z| - 0.33)} )).$"
   ]
  },
  {
   "cell_type": "code",
   "execution_count": 15,
   "metadata": {},
   "outputs": [
    {
     "name": "stdout",
     "output_type": "stream",
     "text": [
      "g = est5(scases[1]) = (0.0 - 1.5e-323im, 1.0001765125430555)\n",
      "(k, gk[1] / den, gk[1] / den ≈ g[1]) = (1, 5.0e-324 - 2.0e-323im, false)\n",
      "(k, gk[1] / den, gk[1] / den ≈ g[1]) = (2, 5.0e-324 - 2.0e-323im, false)\n",
      "(k, gk[1] / den, gk[1] / den ≈ g[1]) = (3, 5.0e-324 - 2.0e-323im, false)\n",
      "(k, gk[1] / den, gk[1] / den ≈ g[1]) = (4, 5.0e-324 - 2.0e-323im, false)\n",
      "(k, gk[1] / den, gk[1] / den ≈ g[1]) = (5, 5.0e-324 - 2.0e-323im, false)\n"
     ]
    }
   ],
   "source": [
    "@show g = est5(scases[1])\n",
    "for k in 1:5\n",
    "    den = prod([scases[1]+j for j in 0:(k-1)])\n",
    "    gk =  est5(scases[1]+k)\n",
    "    @show k, gk[1]/den, gk[1]/den≈g[1]\n",
    "end\n",
    "nothing    "
   ]
  },
  {
   "cell_type": "markdown",
   "metadata": {},
   "source": [
    "Oddly, the $\\Gamma(z) \\approx \\frac{\\Gamma(z+k)}{z\\cdots z^{k-1}}$ estimates match the `SpecialFunctions.gamma` estimate of $5.0e-324 - 2.0e-323i$ better than the straightforward estimation. This may be the root of the problem. Exploring further, "
   ]
  },
  {
   "cell_type": "code",
   "execution_count": 22,
   "metadata": {},
   "outputs": [
    {
     "name": "stdout",
     "output_type": "stream",
     "text": [
      "G = lgamma(s) = -743.1349912679964 + 2436.579604220866im\n",
      "est = (log(2π) / 2 + (s - 1 / 2) * log(s)) - s = -743.1349913405842 + 2436.5797805945713im\n",
      "err = (1 / 12) / (abs(s) - 0.33) = 0.00017649696654944592\n",
      "abs(G - est) ≤ err = true\n",
      "abs(bigexp(G - est)) ≤ bigexp(err) = true\n"
     ]
    }
   ],
   "source": [
    "s = scases[1]\n",
    "@show G=lgamma(s)\n",
    "@show est=log(2*π)/2 + (s-1/2)*log(s)-s\n",
    "@show err=1/12/(abs(s)-0.33)\n",
    "@show abs(G-est) ≤ err\n",
    "@show abs(bigexp(G-est)) ≤ bigexp(err)\n",
    "nothing"
   ]
  },
  {
   "cell_type": "markdown",
   "metadata": {},
   "source": [
    "This is fairly curious. It would appear that $\\sqrt(2\\pi)$ should be in the exponent. How can that make a difference?"
   ]
  },
  {
   "cell_type": "code",
   "execution_count": 23,
   "metadata": {},
   "outputs": [
    {
     "name": "stdout",
     "output_type": "stream",
     "text": [
      "(oldest, bigexp(est)) = (0.0 - 1.5e-323im, 5.0e-324 - 2.0e-323im)\n",
      "(olderr, bigexp(err)) = (1.0001765125430555, 1.0001765125430555)\n"
     ]
    },
    {
     "data": {
      "text/plain": [
       "(1.0001765125430555, 1.0001765125430555)"
      ]
     },
     "execution_count": 23,
     "metadata": {},
     "output_type": "execute_result"
    }
   ],
   "source": [
    "oldest = √(2*π)*bigexp((s-0.5)*log(s)-s)\n",
    "olderr = bigexp(1/(12*(abs(s)-0.33)))\n",
    "@show oldest, bigexp(est)\n",
    "@show olderr, bigexp(err)\n",
    "nothing"
   ]
  },
  {
   "cell_type": "markdown",
   "metadata": {},
   "source": [
    "So, what is happening here? Is the $\\log(\\sqrt{2\\pi})$ figure making a difference in the exponentiation?"
   ]
  },
  {
   "cell_type": "code",
   "execution_count": 30,
   "metadata": {},
   "outputs": [
    {
     "name": "stdout",
     "output_type": "stream",
     "text": [
      "bigexp(arg) = 0.0 - 5.0e-324im\n",
      "a1 = abs(bigexp(arg + log(2π) / 2)) = 2.0e-323\n",
      "a2 = exp(real(arg)) * √(2π) = 1.5e-323\n",
      "a1 / a2 = 1.3333333333333333\n"
     ]
    }
   ],
   "source": [
    "arg = (s-0.5)*log(s)-s\n",
    "@show bigexp(arg)\n",
    "@show a1=abs(bigexp(arg+log(2*π)/2))\n",
    "@show a2=exp(real(arg))*√(2*π)\n",
    "@show a1/a2\n",
    "nothing"
   ]
  },
  {
   "cell_type": "markdown",
   "metadata": {},
   "source": [
    "There is obviously a big \"discontinuity\" in bigexp. For example, if I do a multiprecision version of the above:"
   ]
  },
  {
   "cell_type": "code",
   "execution_count": 31,
   "metadata": {},
   "outputs": [
    {
     "name": "stdout",
     "output_type": "stream",
     "text": [
      "bigexp(arg) = 1.971662504549982811315041e-324 - 6.9966551144759609350823914e-324im\n",
      "a1 = abs(bigexp(arg + log(2π) / 2)) = 1.8221073146872046898256305e-323\n",
      "a2 = exp(real(arg)) * √(2π) = 1.8221073146872046318714174e-323\n",
      "a1 / a2 = 1.0000000000000000318061467\n"
     ]
    }
   ],
   "source": [
    "setprecision(80)do\n",
    "    s′=bigify(s)\n",
    "    arg = (s′-0.5)*log(s′)-s′\n",
    "    @show bigexp(arg)\n",
    "    @show a1=abs(bigexp(arg+log(2*π)/2))\n",
    "    @show a2=exp(real(arg))*√(2*π)\n",
    "    @show a1/a2\n",
    "end\n",
    "nothing"
   ]
  },
  {
   "cell_type": "markdown",
   "metadata": {},
   "source": [
    "and in straight single precision"
   ]
  },
  {
   "cell_type": "code",
   "execution_count": 32,
   "metadata": {},
   "outputs": [
    {
     "name": "stdout",
     "output_type": "stream",
     "text": [
      "exp(arg) = 0.0 - 5.0e-324im\n",
      "a1 = abs(exp(arg + log(2π) / 2)) = 2.0e-323\n",
      "a2 = exp(real(arg)) * √(2π) = 1.5e-323\n",
      "a1 / a2 = 1.3333333333333333\n"
     ]
    }
   ],
   "source": [
    "arg = (s-0.5)*log(s)-s\n",
    "@show exp(arg)\n",
    "@show a1=abs(exp(arg+log(2*π)/2))\n",
    "@show a2=exp(real(arg))*√(2*π)\n",
    "@show a1/a2\n",
    "nothing\n"
   ]
  },
  {
   "cell_type": "markdown",
   "metadata": {},
   "source": [
    "So it is a precision problem in exponentiation. Can it be predetermined and avoided?"
   ]
  },
  {
   "cell_type": "code",
   "execution_count": 50,
   "metadata": {},
   "outputs": [
    {
     "name": "stdout",
     "output_type": "stream",
     "text": [
      "real(arg) = -744.0539298737889\n",
      "real(arg) + log(2π) / 2 = -743.1349913405842\n",
      "exp(real(arg) + log(2π) / 2) = 2.0e-323\n",
      "exp(real(arg)) * exp(log(2π) / 2) = 1.5e-323\n"
     ]
    }
   ],
   "source": [
    "@show real(arg)\n",
    "@show real(arg) + log(2*π)/2\n",
    "@show exp(real(arg) + log(2*π)/2)\n",
    "@show exp(real(arg))*exp(log(2*π)/2)\n",
    "nothing"
   ]
  },
  {
   "cell_type": "code",
   "execution_count": 56,
   "metadata": {},
   "outputs": [
    {
     "name": "stdout",
     "output_type": "stream",
     "text": [
      "precision(real(arg)) = 53\n",
      "precision(real(arg′)) = 54\n",
      "real(arg′) = -7.44053929873788888e+02\n",
      "real(arg′) + log(2π) / 2 = -7.43134991340584236e+02\n",
      "exp(real(arg′) + log(2π) / 2) = 1.8221073146872217e-323\n",
      "exp(real(arg′)) * exp(log(2π) / 2) = 1.82210731468725812e-323\n"
     ]
    }
   ],
   "source": [
    "@show precision(real(arg))\n",
    "setprecision(54)do\n",
    "    arg′=bigify(arg)\n",
    "    @show precision(real(arg′))\n",
    "    @show real(arg′)\n",
    "    @show real(arg′) + log(2*π)/2\n",
    "    @show exp(real(arg′) + log(2*π)/2)\n",
    "    @show exp(real(arg′))*exp(log(2*π)/2)\n",
    "end\n",
    "nothing"
   ]
  },
  {
   "cell_type": "code",
   "execution_count": 65,
   "metadata": {},
   "outputs": [
    {
     "name": "stdout",
     "output_type": "stream",
     "text": [
      "1 / est[2] ≤ abs(G / est[1]) ≤ est[2] = true\n",
      "1 / est[2] ≤ abs(G / est[1]) ≤ est[2] = true\n",
      "1 / est[2] ≤ abs(G / est[1]) ≤ est[2] = true\n",
      "1 / est[2] ≤ abs(G / est[1]) ≤ est[2] = true\n"
     ]
    }
   ],
   "source": [
    "setprecision(54)do\n",
    "    for s in scases\n",
    "        G = bigexp(bigify(lgamma(s)))\n",
    "        est = est5(bigify(s))\n",
    "        @show 1/est[2] ≤ abs(G/est[1]) ≤ est[2]\n",
    "    end\n",
    "end\n",
    "nothing"
   ]
  },
  {
   "cell_type": "markdown",
   "metadata": {},
   "source": [
    "It appears that the `Float64` exponentiation method is flawed in comparision with the `BigFloat` method, even when `BigFloat` precision is only 1 bit more than `Float64`'s. Is this true when precision is the same?"
   ]
  },
  {
   "cell_type": "code",
   "execution_count": 67,
   "metadata": {},
   "outputs": [
    {
     "name": "stdout",
     "output_type": "stream",
     "text": [
      "1 / est[2] ≤ abs(G / est[1]) ≤ est[2] = true\n",
      "1 / est[2] ≤ abs(G / est[1]) ≤ est[2] = true\n",
      "1 / est[2] ≤ abs(G / est[1]) ≤ est[2] = true\n",
      "1 / est[2] ≤ abs(G / est[1]) ≤ est[2] = true\n"
     ]
    }
   ],
   "source": [
    "setprecision(53)do\n",
    "    for s in scases\n",
    "        G = bigexp(bigify(lgamma(s)))\n",
    "        est = est5(bigify(s))\n",
    "        @show 1/est[2] ≤ abs(G/est[1]) ≤ est[2]\n",
    "    end\n",
    "end\n",
    "nothing"
   ]
  },
  {
   "cell_type": "markdown",
   "metadata": {},
   "source": [
    "It does. This seems to be the root of the problem."
   ]
  },
  {
   "cell_type": "code",
   "execution_count": 68,
   "metadata": {},
   "outputs": [
    {
     "name": "stdout",
     "output_type": "stream",
     "text": [
      "1 / est[2] ≤ abs(G / est[1]) ≤ est[2] = true\n",
      "1 / est[2] ≤ abs(G / est[1]) ≤ est[2] = true\n",
      "1 / est[2] ≤ abs(G / est[1]) ≤ est[2] = true\n",
      "1 / est[2] ≤ abs(G / est[1]) ≤ est[2] = true\n"
     ]
    }
   ],
   "source": [
    "setprecision(53)do\n",
    "    for s in scases\n",
    "        G = big(e)^(lgamma(s))\n",
    "        est = √(2*π)*big(e)^((s-0.5)*log(s)-s),big(e)^(1/(12*(abs(s)-0.33)))\n",
    "        @show 1/est[2] ≤ abs(G/est[1]) ≤ est[2]\n",
    "    end\n",
    "end\n",
    "nothing"
   ]
  },
  {
   "cell_type": "code",
   "execution_count": 91,
   "metadata": {},
   "outputs": [
    {
     "data": {
      "text/plain": [
       "true"
      ]
     },
     "execution_count": 91,
     "metadata": {},
     "output_type": "execute_result"
    }
   ],
   "source": [
    "tmp = Vector{Bool}(size(r5,1))\n",
    "setprecision(53)do\n",
    "    for i in 1:size(r5,1)\n",
    "        s = s⁺(r5[i,2],r5[i,3])\n",
    "        G = big(e)^(lgamma(s))\n",
    "        est = √(2*π)*big(e)^((s-0.5)*log(s)-s),big(e)^(1/(12*(abs(s)-0.33)))\n",
    "        tmp[i] = 1/est[2] ≤ abs(G/est[1]) ≤ est[2]\n",
    "    end\n",
    "end\n",
    "all(tmp)\n"
   ]
  },
  {
   "cell_type": "code",
   "execution_count": null,
   "metadata": {
    "collapsed": true
   },
   "outputs": [],
   "source": []
  }
 ],
 "metadata": {
  "kernelspec": {
   "display_name": "Julia 0.6.2",
   "language": "julia",
   "name": "julia-0.6"
  },
  "language_info": {
   "file_extension": ".jl",
   "mimetype": "application/julia",
   "name": "julia",
   "version": "0.6.2"
  }
 },
 "nbformat": 4,
 "nbformat_minor": 2
}
