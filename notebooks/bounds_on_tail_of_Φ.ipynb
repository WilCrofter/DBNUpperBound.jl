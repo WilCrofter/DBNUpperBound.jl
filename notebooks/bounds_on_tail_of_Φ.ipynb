{
 "cells": [
  {
   "cell_type": "markdown",
   "metadata": {},
   "source": [
    "# Bounds on the Tail of Φ\n",
    "\n",
    "[Comment on the PM 15 5<sup>th</sup> thread](https://terrytao.wordpress.com/2018/03/02/polymath15-fifth-thread-finishing-off-the-test-problem/#comment-493554) (Terrence Tao,)\n",
    "\n",
    "\"I don’t know if anyone has explicitly computed bounds for the tail of $\\Phi$ here, but given the rapid decay, perhaps even very crude bounds would be sufficient, as long as $\\mathrm{Im}(u)$ stays a little bit away from $\\pm \\pi/8$, say $\\mathrm{Im}(u) \\leq \\frac{\\pi}{8}-\\varepsilon$ so that $e^{4u}$ has some substantial real part in the sense that its argument is between $-\\frac{\\pi}{4}+4\\varepsilon$ and $\\frac{\\pi}{4} - 4\\varepsilon$, so that $|e^{4u}| \\leq \\mathrm{cosec(4\\varepsilon)} \\mathrm{Re} e^{4u}$. If for $\\theta = 5/4, 9/4$ one lets $C_\\theta$ be a constant for which $x^\\theta \\leq C \\exp(x)$ for all ~~C>0~~ $x>0$, then\n",
    "\n",
    "$$2\\pi^2 n^4 |e^{9u}| \\leq \\mathrm{cosec}(4\\varepsilon)^{9/4} 2\\pi^2 (\\pi/2)^{-9/4} (\\pi n^2 \\mathrm{Re}(e^{4u})/2)^{9/4} \\leq \\mathrm{cosec}(4\\varepsilon)^{9/4} 2\\pi^2 (\\pi/2)^{-9/4} C_{9/4} \\exp( \\pi n^2 \\mathrm{Re}(e^{4u})/2)$$\n",
    "\n",
    "\"and similarly for $3\\pi n^2 |e^{5u}|$, which should allow one to bound each summand in $\\Phi$ by an explicit multiple of $\\exp( -\\pi n^2 \\mathrm{Re} e^{4u} /2)$ in magnitude. One can then control the tail of such a sum $\\sum_{n \\geq n_0} \\exp( -\\pi n^2 \\mathrm{Re} e^{4u} /2)$ by for instance comparing it with a geometric series (e.g. replacing $n^2$ with $n n_0$). Presumably these sorts of bounds can also then be used to control the tail of $H_t$.\"\n",
    "\n",
    "[Also](https://terrytao.wordpress.com/2018/03/02/polymath15-fifth-thread-finishing-off-the-test-problem/#comment-493623)\n",
    "\n",
    "\"Another slightly different way to proceed is just to bound $n^2$ by $n\\times n_0$ from the beginning and use the generalised geometric series formulae to evaluate expressions such as $\\sum_{n \\geq n_0} 2\\pi^2 n^4 \\exp( - \\pi n n_0 \\mathrm{Re} e^{4u})$ explicitly.\""
   ]
  },
  {
   "cell_type": "markdown",
   "metadata": {},
   "source": [
    "Following up on the second alternative, below, the initial goal will be to produce code which will explicitly evaluate infinite sums such as \n",
    "\n",
    "$$\\sum_{n\\ge n}n^{2k}e^{-nx} \\quad (I)$$\n",
    "\n",
    "where, in cases of interest, $x=\\pi n_0 \\Re(e^{4u})$. Since sums of type (I) converge uniformly on compact intervals of $(0, \\infty),$<sup>[1]</sup> term by term differentiation of such series is legitimate. \n",
    "\n",
    "It is easily shown that $\\sum_{n \\ge n_0}e^{-nx}= \\frac{e^{-n_0x}}{1-e^{-x}}$. The second and fourth derivatives, $k=1,\\:2$ in (I) are of interest here. Differentiating symbolically:"
   ]
  },
  {
   "cell_type": "code",
   "execution_count": 1,
   "metadata": {},
   "outputs": [
    {
     "data": {
      "image/png": "[encoded data removed]",
      "text/latex": [
       "$$\\frac{e^{- n_{0} x}}{1 - e^{- x}}$$"
      ],
      "text/plain": [
       "  -n₀⋅x\n",
       " ℯ     \n",
       "───────\n",
       "     -x\n",
       "1 - ℯ  "
      ]
     },
     "execution_count": 1,
     "metadata": {},
     "output_type": "execute_result"
    }
   ],
   "source": [
    "from sympy import *\n",
    "import math\n",
    "init_printing(use_unicode=True) # for presentation\n",
    "x, n0 = symbols('x n0')\n",
    "f = exp(-x*n0)/(1-exp(-x))\n",
    "f"
   ]
  },
  {
   "cell_type": "code",
   "execution_count": 2,
   "metadata": {},
   "outputs": [
    {
     "data": {
      "image/png": "[encoded data removed]",
      "text/latex": [
       "$$\\frac{e^{x \\left(2 n_{0} + 1\\right)}}{\\left(e^{x} - 1\\right)^{3}} \\left(n_{0}^{2} \\left(e^{x} - 1\\right)^{2} + \\left(2 n_{0} + 1\\right) \\left(e^{x} - 1\\right) + 2\\right) e^{- 3 n_{0} x}$$"
      ],
      "text/plain": [
       "⎛            2                          ⎞                       \n",
       "⎜  2 ⎛ x    ⎞               ⎛ x    ⎞    ⎟  -3⋅n₀⋅x  x⋅(2⋅n₀ + 1)\n",
       "⎝n₀ ⋅⎝ℯ  - 1⎠  + (2⋅n₀ + 1)⋅⎝ℯ  - 1⎠ + 2⎠⋅ℯ       ⋅ℯ            \n",
       "────────────────────────────────────────────────────────────────\n",
       "                                   3                            \n",
       "                           ⎛ x    ⎞                             \n",
       "                           ⎝ℯ  - 1⎠                             "
      ]
     },
     "execution_count": 2,
     "metadata": {},
     "output_type": "execute_result"
    }
   ],
   "source": [
    "d2f = diff(diff(f,x),x)\n",
    "simplify(d2f)"
   ]
  },
  {
   "cell_type": "code",
   "execution_count": 3,
   "metadata": {},
   "outputs": [
    {
     "data": {
      "image/png": "[encoded data removed]",
      "text/latex": [
       "$$\\frac{e^{x \\left(4 n_{0} + 1\\right)}}{\\left(e^{x} - 1\\right)^{5}} \\left(n_{0}^{4} \\left(e^{x} - 1\\right)^{4} + 12 \\left(2 n_{0} + 3\\right) \\left(e^{x} - 1\\right) + \\left(e^{x} - 1\\right)^{3} \\left(4 n_{0}^{3} + 6 n_{0}^{2} + 4 n_{0} + 1\\right) + 2 \\left(e^{x} - 1\\right)^{2} \\left(6 n_{0}^{2} + 12 n_{0} + 7\\right) + 24\\right) e^{- 5 n_{0} x}$$"
      ],
      "text/plain": [
       "⎛            4                                    3                           \n",
       "⎜  4 ⎛ x    ⎞                  ⎛ x    ⎞   ⎛ x    ⎞  ⎛    3       2           ⎞\n",
       "⎝n₀ ⋅⎝ℯ  - 1⎠  + 12⋅(2⋅n₀ + 3)⋅⎝ℯ  - 1⎠ + ⎝ℯ  - 1⎠ ⋅⎝4⋅n₀  + 6⋅n₀  + 4⋅n₀ + 1⎠\n",
       "──────────────────────────────────────────────────────────────────────────────\n",
       "                                                                          5   \n",
       "                                                                  ⎛ x    ⎞    \n",
       "                                                                  ⎝ℯ  - 1⎠    \n",
       "\n",
       "             2                         ⎞                       \n",
       "     ⎛ x    ⎞  ⎛    2            ⎞     ⎟  -5⋅n₀⋅x  x⋅(4⋅n₀ + 1)\n",
       " + 2⋅⎝ℯ  - 1⎠ ⋅⎝6⋅n₀  + 12⋅n₀ + 7⎠ + 24⎠⋅ℯ       ⋅ℯ            \n",
       "───────────────────────────────────────────────────────────────\n",
       "                                                               \n",
       "                                                               \n",
       "                                                               "
      ]
     },
     "execution_count": 3,
     "metadata": {},
     "output_type": "execute_result"
    }
   ],
   "source": [
    "d4f = diff(diff(d2f,x),x)\n",
    "simplify(d4f)"
   ]
  },
  {
   "cell_type": "markdown",
   "metadata": {},
   "source": [
    "SymPy expressions may be evaluated by substitution."
   ]
  },
  {
   "cell_type": "code",
   "execution_count": 4,
   "metadata": {},
   "outputs": [
    {
     "data": {
      "image/png": "[encoded data removed]",
      "text/latex": [
       "$$0.00140561700351804$$"
      ],
      "text/plain": [
       "0.00140561700351804"
      ]
     },
     "execution_count": 4,
     "metadata": {},
     "output_type": "execute_result"
    }
   ],
   "source": [
    "d2f.subs(x,2.0).subs(n0,5)"
   ]
  },
  {
   "cell_type": "markdown",
   "metadata": {},
   "source": [
    "The unicode/LaTeX display option was chosen for human readability. A string which can be easily converted to Python code, or to Julia code with minor modifications, can be obtained using `print_python`. E.g.,"
   ]
  },
  {
   "cell_type": "code",
   "execution_count": 5,
   "metadata": {},
   "outputs": [
    {
     "name": "stdout",
     "output_type": "stream",
     "text": [
      "n0 = Symbol('n0')\n",
      "x = Symbol('x')\n",
      "e = n0**2*exp(-n0*x)/(1 - exp(-x)) + 2*n0*exp(-x)*exp(-n0*x)/(1 - exp(-x))**2 + exp(-x)*exp(-n0*x)/(1 - exp(-x))**2 + 2*exp(-2*x)*exp(-n0*x)/(1 - exp(-x))**3\n"
     ]
    }
   ],
   "source": [
    "print_python(sympify(d2f))"
   ]
  },
  {
   "cell_type": "code",
   "execution_count": 6,
   "metadata": {},
   "outputs": [
    {
     "data": {
      "image/png": "[encoded data removed]",
      "text/latex": [
       "$$0.00140561700351804$$"
      ],
      "text/plain": [
       "0.00140561700351804"
      ]
     },
     "execution_count": 6,
     "metadata": {},
     "output_type": "execute_result"
    }
   ],
   "source": [
    "def D2(x,n0):\n",
    "    return n0**2*exp(-n0*x)/(1 - exp(-x)) + 2*n0*exp(-x)*exp(-n0*x)/(1 - exp(-x))**2 + exp(-x)*exp(-n0*x)/(1 - exp(-x))**2 + 2*exp(-2*x)*exp(-n0*x)/(1 - exp(-x))**3\n",
    "\n",
    "D2(2.0,5)"
   ]
  },
  {
   "cell_type": "markdown",
   "metadata": {},
   "source": [
    "Similarly,"
   ]
  },
  {
   "cell_type": "code",
   "execution_count": 7,
   "metadata": {},
   "outputs": [
    {
     "name": "stdout",
     "output_type": "stream",
     "text": [
      "n0 = Symbol('n0')\n",
      "x = Symbol('x')\n",
      "e = (n0**4*(exp(x) - 1)**4 + 12*(2*n0 + 3)*(exp(x) - 1) + (exp(x) - 1)**3*(4*n0**3 + 6*n0**2 + 4*n0 + 1) + 2*(exp(x) - 1)**2*(6*n0**2 + 12*n0 + 7) + 24)*exp(-5*n0*x)*exp(x*(4*n0 + 1))/(exp(x) - 1)**5\n"
     ]
    }
   ],
   "source": [
    "print_python(simplify(d4f))"
   ]
  },
  {
   "cell_type": "code",
   "execution_count": 8,
   "metadata": {},
   "outputs": [
    {
     "data": {
      "image/png": "[encoded data removed]",
      "text/latex": [
       "$$0.038920880369855$$"
      ],
      "text/plain": [
       "0.0389208803698550"
      ]
     },
     "execution_count": 8,
     "metadata": {},
     "output_type": "execute_result"
    }
   ],
   "source": [
    "def D4(x,n0):\n",
    "    return (n0**4*(exp(x) - 1)**4 + 12*(2*n0 + 3)*(exp(x) - 1) + (exp(x) - 1)**3*(4*n0**3 + 6*n0**2 + 4*n0 + 1) + 2*(exp(x) - 1)**2*(6*n0**2 + 12*n0 + 7) + 24)*exp(-5*n0*x)*exp(x*(4*n0 + 1))/(exp(x) - 1)**5\n",
    "\n",
    "D4(2.0,5)"
   ]
  },
  {
   "cell_type": "code",
   "execution_count": 9,
   "metadata": {},
   "outputs": [
    {
     "data": {
      "image/png": "[encoded data removed]",
      "text/latex": [
       "$$0.038920880369855$$"
      ],
      "text/plain": [
       "0.0389208803698550"
      ]
     },
     "execution_count": 9,
     "metadata": {},
     "output_type": "execute_result"
    }
   ],
   "source": [
    "d4f.subs(x,2.0).subs(n0,5)"
   ]
  },
  {
   "cell_type": "markdown",
   "metadata": {},
   "source": [
    "[1] Term by term differentiation is legitimate if both the series and its formal derivative converge uniformly on $[a, b] \\subset (0, \\infty)$ as per [Wikipedia's](https://en.wikipedia.org/wiki/Uniform_convergence#To_differentiability) citation of Theorem 7.17 of Rudin, Principles of Mathematical Analysis, 3rd ed., McGraw–Hill, 1976. Since partial sums of $e^{-nx}$ and their derivatives can be written as explicit formula and uniformly bounded on $[a,b]$,uniform convergence follows."
   ]
  }
 ],
 "metadata": {
  "kernelspec": {
   "display_name": "Python 3",
   "language": "python",
   "name": "python3"
  },
  "language_info": {
   "codemirror_mode": {
    "name": "ipython",
    "version": 3
   },
   "file_extension": ".py",
   "mimetype": "text/x-python",
   "name": "python",
   "nbconvert_exporter": "python",
   "pygments_lexer": "ipython3",
   "version": "3.6.4"
  }
 },
 "nbformat": 4,
 "nbformat_minor": 2
}
