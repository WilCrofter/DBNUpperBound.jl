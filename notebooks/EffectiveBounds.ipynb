{
 "cells": [
  {
   "cell_type": "markdown",
   "metadata": {},
   "source": [
    "# Effective bounds on H<sub>t</sub>\n",
    "\n",
    "The following formulae are cut and pasted as LaTeX from [Effective bounds on H_t - second approach](http://michaelnielsen.org/polymath1/index.php?title=Effective_bounds_on_H_t_-_second_approach) (hereafter \"the reference\"). They are presented in a different order, one which facilitates coding. The object is to implement $E_1$, $E_2$, and $E_3$ as defined in the above link. \n",
    "\n",
    "### Previously coded:\n",
    "\n",
    "The following formulae were coded and integrated previously."
   ]
  },
  {
   "cell_type": "markdown",
   "metadata": {},
   "source": [
    "$$H_{0,1}(s) := \\frac{s (s-1)}{2} \\pi^{-s/2} \\sqrt{2\\pi} \\exp( (\\frac{s}{2} - \\frac{1}{2}) \\log \\frac{s}{2} - \\frac{s}{2} )$$"
   ]
  },
  {
   "cell_type": "markdown",
   "metadata": {},
   "source": [
    "$$\\alpha_1(s) := \\frac{1}{2s} + \\frac{1}{s-1} + \\frac{1}{2} \\log \\frac{s}{2\\pi}$$"
   ]
  },
  {
   "cell_type": "markdown",
   "metadata": {},
   "source": [
    "$$T' := \\frac{x}{2} + \\frac{\\pi t}{8}$$"
   ]
  },
  {
   "cell_type": "markdown",
   "metadata": {},
   "source": [
    "$$N := \\lfloor \\sqrt{ \\frac{T'}{2\\pi}} \\rfloor$$"
   ]
  },
  {
   "cell_type": "markdown",
   "metadata": {},
   "source": [
    "### E1, E2, E3\n",
    "\n",
    "Expressions below are presented here in an order convenient for coding.\n",
    "\n",
    "By convention, $z=x+iy$ and $s = \\frac{1+iz}{2}$. Hence in the expressions below, $\\frac{1-y+ix}{2}=s$ and $\\frac{1+y+ix}{2} = \\overline{1-s}$\n",
    "\n",
    "The derivation [Effective bounds on H t - second approach](http://michaelnielsen.org/polymath1/index.php?title=Effective_bounds_on_H_t_-_second_approach) also establishes the following conventions, $s = \\sigma+iT$, $T \\geq T_0 \\geq 10$, and $t \\leq 1/2$. Thus, $T$ and $T_0$, like $t$ and $s$, are essentially parameters. Two further definitions, $T_0'$ and $\\alpha_0$ are simple enough not to require coding as functions."
   ]
  },
  {
   "cell_type": "markdown",
   "metadata": {},
   "source": [
    "$$T'_0 := T_0 + \\frac{\\pi t}{8}$$"
   ]
  },
  {
   "cell_type": "markdown",
   "metadata": {},
   "source": [
    "$$a_0 := \\sqrt{\\frac{T'_0}{2\\pi}}$$"
   ]
  },
  {
   "cell_type": "markdown",
   "metadata": {},
   "source": [
    "Since $E_1$ and $E_2$ depend on $\\epsilon'(s)$, it's convenient to implement $\\epsilon'(s)$ first. Its definition, below, contains terms $Re(s)$ and $Re\\alpha_1(s)$ which I take to be the real part of their arguments. That would be consistent with, e.g., the corresponding Python code (function `eps_err`, lines 302-303 of `mputility.py`)\n",
    "\n",
    "```\n",
    "    alph = alpha1(s)\n",
    "    term1 = sigma + (t/2.0) * (alph.real) - (t/4.0) * mp.log(N)\n",
    "```"
   ]
  },
  {
   "cell_type": "markdown",
   "metadata": {},
   "source": [
    "$$\\epsilon'(s) := \\frac{1}{2} \\sum_{n=1}^N \\frac{1}{n^{\\mathrm{Re}(s) + \\frac{t \\mathrm{Re} \\alpha_1(s)}{2} - \\frac{t}{4} \\log n}}\n",
    "\\exp(\\frac{1}{2(T-3.33)} (\\frac{t^2}{4} |\\alpha_1(s) - \\log n|^2 + \\frac{1}{3} + t))\n",
    "(\\frac{t^2}{4} |\\alpha_1(s) - \\log n|^2 + \\frac{1}{3} + t )$$"
   ]
  },
  {
   "cell_type": "markdown",
   "metadata": {},
   "source": [
    "Note that Equation 3.7 of the reference requires $\\sigma + \\frac{t \\mathrm{Re} \\alpha_1(s)}{2} - \\frac{t}{4} \\log N \\gt 1$."
   ]
  },
  {
   "cell_type": "code",
   "execution_count": 1,
   "metadata": {},
   "outputs": [
    {
     "data": {
      "text/plain": [
       "eps_prime (generic function with 1 method)"
      ]
     },
     "execution_count": 1,
     "metadata": {},
     "output_type": "execute_result"
    }
   ],
   "source": [
    "using DBNUpperBound\n",
    "using DBNUpperBound.Asymptotics\n",
    "using QuadGK\n",
    "\n",
    "αeff = DBNUpperBound.Asymptotics.αeff # not exported from the package\n",
    "H01 = DBNUpperBound.Asymptotics.H01   # \n",
    "\n",
    "function eps_prime(t::Ty1, s::Ty2, N::Int) where {Ty1<:Real, Ty2<:Number}\n",
    "    α1 = αeff(s)\n",
    "    T = imag(s)\n",
    "    real(s)+t*real(α1-t/4*log(N)) > 1 || error(\"argument s, \",s,\" is out of range.\")\n",
    "    ans = 0.0\n",
    "    for n in 1:N\n",
    "        α2 = (t^2/4)*abs(α1-log(n))^2 + 1/3 + t\n",
    "        # For clarity:\n",
    "        # ans += 1/n^(real(s) + t*real(α1)/2 - t/4*log(n)) * bigexp(α2/(2*(T-3.33))) * α2\n",
    "        # For numerics:\n",
    "        ans += bigexp(-n*(real(s) + t*real(α1)/2 - t/4*log(n)) + α2/(2*(T-3.33))) * α2\n",
    "    end\n",
    "    return real(ans)/2\n",
    "end"
   ]
  },
  {
   "cell_type": "markdown",
   "metadata": {},
   "source": [
    "$E_1$ can now be implemented.\n",
    "$$E_1 := \\frac{1}{8 (T - 3.33)} \\exp( \\frac{t}{4} \\mathrm{Re} \\alpha_1(\\frac{1-y+ix}{2})^2 ) |H_{0,1}(\\frac{1-y+ix}{2})| \\epsilon'(\\frac{1-y+ix}{2})$$"
   ]
  },
  {
   "cell_type": "code",
   "execution_count": 2,
   "metadata": {},
   "outputs": [
    {
     "data": {
      "text/plain": [
       "E1 (generic function with 1 method)"
      ]
     },
     "execution_count": 2,
     "metadata": {},
     "output_type": "execute_result"
    }
   ],
   "source": [
    "function E1(t::Ty1, s::Ty2, N::Int) where {Ty1<:Real, Ty2<:Number}\n",
    "    T = imag(s)\n",
    "    return real(1/(8*(T-3.33))*bigexp(t/4*real(αeff(s))^2) * abs(H01(s))*eps_prime(t,s,N))\n",
    "end"
   ]
  },
  {
   "cell_type": "markdown",
   "metadata": {},
   "source": [
    "Note that the expression for $E_2$ is the same as that for $E_1$ except that $\\frac{1+y+ix}{2} = \\overline{1-s}$ replaces $\\frac{1-y+ix}{2}=s$.\n",
    "\n",
    "$$E_2 := \\frac{1}{8 (T - 3.33)} \\exp( \\frac{t}{4} \\mathrm{Re} \\alpha_1(\\frac{1+y+ix}{2})^2 ) |H_{0,1}(\\frac{1+y+ix}{2})| \\epsilon'(\\frac{1+y+ix}{2})$$\n",
    "\n",
    "Thus"
   ]
  },
  {
   "cell_type": "code",
   "execution_count": 3,
   "metadata": {},
   "outputs": [
    {
     "data": {
      "text/plain": [
       "E2 (generic function with 1 method)"
      ]
     },
     "execution_count": 3,
     "metadata": {},
     "output_type": "execute_result"
    }
   ],
   "source": [
    "function E2(t::Ty1, s::Ty2, N::Int) where {Ty1<:Real, Ty2<:Number}\n",
    "    return E1(t,(1-s)',N)\n",
    "end"
   ]
  },
  {
   "cell_type": "markdown",
   "metadata": {},
   "source": [
    "$E3$ depends on $f(\\sigma)$, $w(\\sigma)$ and $v(\\sigma)$. Beginning with\n",
    "$$f(\\sigma) := \\frac{1}{2\\sqrt{\\pi t}} (e^{-(\\sigma-(1-y)/2)^2/t} + e^{-(\\sigma-(1+y)/2)^2/t}) \\quad (4.1)$$"
   ]
  },
  {
   "cell_type": "code",
   "execution_count": 4,
   "metadata": {},
   "outputs": [
    {
     "data": {
      "text/plain": [
       "fσ (generic function with 1 method)"
      ]
     },
     "execution_count": 4,
     "metadata": {},
     "output_type": "execute_result"
    }
   ],
   "source": [
    "function fσ(t::Ty1, σ::Ty2) where {Ty1<:Real, Ty2<:Real}\n",
    "    y = 1-σ\n",
    "    return 1/(2*√(π*t))*(bigexp(-(σ-(1-y)/2)^2/t) + bigexp(-(σ-(1+y)/2)^2)/t)\n",
    "end"
   ]
  },
  {
   "cell_type": "markdown",
   "metadata": {},
   "source": [
    "$$v(\\sigma) := 1 + (0.400 \\frac{9^\\sigma}{a_0} + 0.346 \\frac{2^{3\\sigma/2}}{a_0^2}) 1_{\\sigma \\geq 0} + (9/10)^{\\lceil -\\sigma \\rceil} \\sum_{1 \\leq k \\leq 4-\\sigma} (1.1)^k \\frac{\\Gamma(k/2)}{a_0^k} 1_{\\sigma \\lt 0}$$\n",
    "\n",
    "Recall that $T'_0 := T_0 + \\frac{\\pi t}{8}$, that $a_0 := \\sqrt{\\frac{T'_0}{2\\pi}}$ and that $T_0 \\ge 10$.\n",
    "\n",
    "(Note that $1_{\\sigma \\geq 0}$ and $1_{\\sigma \\lt 0}$ represent the characteristic functions of the sets $\\sigma \\geq 0$ and $\\sigma \\lt 0$ as per Equations 4.7 and 4.8 of the reference. Note also that $\\sigma = 1-y$ where $y$ is the imaginary part of $z$ and is expected to be small, e.g. .4.)"
   ]
  },
  {
   "cell_type": "code",
   "execution_count": 5,
   "metadata": {},
   "outputs": [
    {
     "data": {
      "text/plain": [
       "vσ (generic function with 1 method)"
      ]
     },
     "execution_count": 5,
     "metadata": {},
     "output_type": "execute_result"
    }
   ],
   "source": [
    "function vσ(t::Ty1, T0::Ty2, σ::Ty3) where {Ty1 <: Real, Ty2 <: Real, Ty3 <:Real}\n",
    "    T0′ = T0 + π*t/8\n",
    "    a0 = √(T0′/(2*π))\n",
    "    σ = real(s)\n",
    "    if σ ≥ 0\n",
    "        return 1 + (0.400*9^σ/a0 + 0.346*2^(3σ/2)/a0^2)\n",
    "    else\n",
    "        psum = 0.0\n",
    "        for k in 1:1:floor(Int,(4-σ))\n",
    "            psum += (1.1)^k*bigΓ(k/2)/a0^k\n",
    "        end\n",
    "        return real((9/10)^ceiling(Int,-σ)*psum)\n",
    "    end\n",
    "end"
   ]
  },
  {
   "cell_type": "markdown",
   "metadata": {},
   "source": [
    "$$w(\\sigma) := (1 + \\frac{\\sigma^2}{(T'_0)^2})^{1/2} (1 + \\frac{(1-\\sigma)^2}{(T'_0)^2})^{1/2} \n",
    "\\exp( \\frac{(\\sigma-1)_+}{4} \\log (1 + \\frac{\\sigma^2}{(T'_0)^2}) + (\\frac{T'_0}{2} \\arctan \\frac{\\sigma}{T'_0} - \\frac{\\sigma}{2}) 1_{\\sigma \\lt 0} + \\frac{1}{12(T'_0 - 0.33)})$$"
   ]
  },
  {
   "cell_type": "code",
   "execution_count": 6,
   "metadata": {},
   "outputs": [
    {
     "data": {
      "text/plain": [
       "wσ (generic function with 1 method)"
      ]
     },
     "execution_count": 6,
     "metadata": {},
     "output_type": "execute_result"
    }
   ],
   "source": [
    "function wσ(t::Ty1, T0::Ty2, σ::Ty3) where {Ty1 <: Real, Ty2 <: Real, Ty3 <:Real}\n",
    "    T0′ = T0 + π*t/8\n",
    "    a0 = √(T0′/(2*π))\n",
    "    xpo = max(0,(σ-1))/4*log(1 + σ^2/T0′^2) + (σ<0 ? T0′/2*atan(σ/T0′) : 0) + 1/(12*(T0′-0.33))\n",
    "    return real((1+σ^2/T0′^2)^(1/2)*(1 + (1-σ)^2/(T0′^2))^(1/2)*bigexp(xpo))\n",
    "end"
   ]
  },
  {
   "cell_type": "markdown",
   "metadata": {},
   "source": [
    "$$E_3 := \\frac{1}{8} \\sqrt{\\pi} \\exp( -\\frac{t \\pi^2}{64} ) (T')^{3/2} e^{-\\pi T/4}  \\int_{-\\infty}^\\infty v(\\sigma) w(\\sigma) f(\\sigma)\\ d\\sigma$$\n",
    "\n",
    "where $T' := \\frac{x}{2} + \\frac{\\pi t}{8}$."
   ]
  },
  {
   "cell_type": "code",
   "execution_count": 7,
   "metadata": {},
   "outputs": [
    {
     "data": {
      "text/plain": [
       "E3 (generic function with 1 method)"
      ]
     },
     "execution_count": 7,
     "metadata": {},
     "output_type": "execute_result"
    }
   ],
   "source": [
    "function E3(t::Ty1, T0::Ty1, s::Ty2) where {Ty1 <: Real, Ty2 <: Number}\n",
    "    T0 ≥ 10 || error(\"T0 = \",T0,\" is out of applicable range.\")\n",
    "    T = imag(s)\n",
    "    T ≥ T0 || error(\"T = \", T, \"must be at least \", T0, \" (T0).\")\n",
    "    Tprime = imag(s) + π*t/8\n",
    "    t ≤ 1/2 || error(\"t must not exceed 1/2. Given value is \",t,\".\")\n",
    "    σ = real(s)\n",
    "    # sum quadgk's estimate of the integral and the error in its estimate\n",
    "    defint = quadgk((σ)->vσ(t,T0,σ)*wσ(t,T0,σ)*fσ(t,σ),-Inf,-10,10,Inf,abstol=eps(BigFloat))\n",
    "    μ = real(1/8*√(π)bigexp(-t*π^2/64-π*T/4)*Tprime^3/2)\n",
    "    return μ*real(defint[1]),μ*defint[2]\n",
    "end\n"
   ]
  },
  {
   "cell_type": "markdown",
   "metadata": {},
   "source": [
    "## Test run"
   ]
  },
  {
   "cell_type": "code",
   "execution_count": 8,
   "metadata": {},
   "outputs": [
    {
     "name": "stdout",
     "output_type": "stream",
     "text": [
      "z = 1.0e6 + 0.4im\n",
      "s = 0.3 + 500000.0im\n",
      "t = 0.4\n",
      "N = 282\n"
     ]
    }
   ],
   "source": [
    "z = 1e6 + .4*im\n",
    "s = (1+im*z)/2\n",
    "t = .4\n",
    "N = Ns(s)\n",
    "@show z\n",
    "@show s\n",
    "@show t\n",
    "@show N\n",
    "nothing"
   ]
  },
  {
   "cell_type": "code",
   "execution_count": 9,
   "metadata": {},
   "outputs": [
    {
     "name": "stdout",
     "output_type": "stream",
     "text": [
      "E1(t, s, N) = 5.974151239790172913977033261736278935303608336105512272609633006544968619583181e-170544\n",
      "E2(t, s, N) = 3.449080910233385473528960988565769170175109715726004360937464078504143428365288e-170543\n",
      "E3(t, 10.0, s) = (1.690412513800519271553799943585169448019823781866850997043673977336102224622558e-85257, 2.028831860207788805401245931938005045677672444228430169808973111179036739524028e-85265)\n"
     ]
    }
   ],
   "source": [
    "@show E1(t,s,N)\n",
    "@show E2(t,s,N)\n",
    "@show E3(t,10.0,s)\n",
    "nothing"
   ]
  },
  {
   "cell_type": "markdown",
   "metadata": {},
   "source": [
    "E3, which involves an approximate integral, is suspect even though the estimated integration error is several orders of magnitude smaller than the estimated value."
   ]
  }
 ],
 "metadata": {
  "kernelspec": {
   "display_name": "Julia 0.6.2",
   "language": "julia",
   "name": "julia-0.6"
  },
  "language_info": {
   "file_extension": ".jl",
   "mimetype": "application/julia",
   "name": "julia",
   "version": "0.6.2"
  }
 },
 "nbformat": 4,
 "nbformat_minor": 2
}
