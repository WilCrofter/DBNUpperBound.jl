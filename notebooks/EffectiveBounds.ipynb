{
 "cells": [
  {
   "cell_type": "markdown",
   "metadata": {},
   "source": [
    "# Effective bounds on H<sub>t</sub>\n",
    "\n",
    "The following formulae are cut and pasted as LaTeX from [Effective bounds on H_t - second approach](http://michaelnielsen.org/polymath1/index.php?title=Effective_bounds_on_H_t_-_second_approach). They are presented in a different order, one which facilitates coding. The object is to implement $E_1$, $E_2$, and $E_3$ as defined in the above link. \n",
    "\n",
    "### Previously coded:\n",
    "\n",
    "The following formulae were coded and integrated previously."
   ]
  },
  {
   "cell_type": "markdown",
   "metadata": {},
   "source": [
    "$$H_{0,1}(s) := \\frac{s (s-1)}{2} \\pi^{-s/2} \\sqrt{2\\pi} \\exp( (\\frac{s}{2} - \\frac{1}{2}) \\log \\frac{s}{2} - \\frac{s}{2} )$$"
   ]
  },
  {
   "cell_type": "markdown",
   "metadata": {},
   "source": [
    "$$\\alpha_1(s) := \\frac{1}{2s} + \\frac{1}{s-1} + \\frac{1}{2} \\log \\frac{s}{2\\pi}$$"
   ]
  },
  {
   "cell_type": "markdown",
   "metadata": {},
   "source": [
    "$$T' := \\frac{x}{2} + \\frac{\\pi t}{8}$$"
   ]
  },
  {
   "cell_type": "markdown",
   "metadata": {},
   "source": [
    "$$N := \\lfloor \\sqrt{ \\frac{T'}{2\\pi}} \\rfloor$$"
   ]
  },
  {
   "cell_type": "markdown",
   "metadata": {},
   "source": [
    "## New code\n",
    "\n",
    "Expressions below are presented here in an order convenient for coding.\n",
    "\n",
    "By convention, $z=x+iy$ and $s = \\frac{1+iz}{2}$. Hence in the expressions below, $\\frac{1-y+ix}{2}=s$ and $\\frac{1+y+ix}{2} = \\overline{1-s}$\n",
    "\n",
    "The derivation [Effective bounds on H t - second approach](http://michaelnielsen.org/polymath1/index.php?title=Effective_bounds_on_H_t_-_second_approach) also establishes the following conventions, $s = \\sigma+iT$, $T \\geq T_0 \\geq 10$, and $t \\leq 1/2$. Thus, $T$ and $T_0$, like $t$ and $s$, are essentially parameters. Two further definitions, $T_0'$ and $\\alpha_0$ are simple enough not to require coding as functions."
   ]
  },
  {
   "cell_type": "markdown",
   "metadata": {},
   "source": [
    "$$T'_0 := T_0 + \\frac{\\pi t}{8}$$"
   ]
  },
  {
   "cell_type": "markdown",
   "metadata": {},
   "source": [
    "$$a_0 := \\sqrt{\\frac{T'_0}{2\\pi}}$$"
   ]
  },
  {
   "cell_type": "markdown",
   "metadata": {},
   "source": [
    "Since $E_1$ and $E_2$ depend on $\\epsilon'(s)$, it's convenient to implement $\\epsilon'(s)$ first. Its definition, below, contains terms $Re(s)$ and $Re\\alpha_1(s)$ which I take to be the real part of their arguments. That would be consistent with, e.g., the corresponding Python code (function `eps_err`, lines 302-303 of `mputility.py`)\n",
    "\n",
    "```\n",
    "    alph = alpha1(s)\n",
    "    term1 = sigma + (t/2.0) * (alph.real) - (t/4.0) * mp.log(N)\n",
    "```"
   ]
  },
  {
   "cell_type": "markdown",
   "metadata": {},
   "source": [
    "$$\\epsilon'(s) := \\frac{1}{2} \\sum_{n=1}^N \\frac{1}{n^{\\mathrm{Re}(s) + \\frac{t \\mathrm{Re} \\alpha_1(s)}{2} - \\frac{t}{4} \\log n}}\n",
    "\\exp(\\frac{1}{2(T-3.33)} (\\frac{t^2}{4} |\\alpha_1(s) - \\log n|^2 + \\frac{1}{3} + t))\n",
    "(\\frac{t^2}{4} |\\alpha_1(s) - \\log n|^2 + \\frac{1}{3} + t )$$"
   ]
  },
  {
   "cell_type": "code",
   "execution_count": 4,
   "metadata": {},
   "outputs": [
    {
     "data": {
      "text/plain": [
       "eps_prime (generic function with 1 method)"
      ]
     },
     "execution_count": 4,
     "metadata": {},
     "output_type": "execute_result"
    }
   ],
   "source": [
    "using DBNUpperBound\n",
    "using DBNUpperBound.Asymptotics\n",
    "\n",
    "function eps_prime(t::Ty1, T::Ty1, s::Ty2, N::Int) where {Ty1<:Real, Ty2<:Number}\n",
    "    ans = zero(Ty2)\n",
    "    for n in 1:N\n",
    "        α1 = αeff(s)\n",
    "        α2 = (t^2/4)*abs(α1-log(n))^2 + 1/3 + t\n",
    "        ans += 1/(real(s) + t*real(α1)/2 - t/4*log(n)) * bigexp(α2/(2*(T-3.33))) * α2\n",
    "    end\n",
    "    return ans/2\n",
    "end"
   ]
  },
  {
   "cell_type": "markdown",
   "metadata": {},
   "source": [
    "$E_1$ can now be implemented.\n",
    "$$E_1 := \\frac{1}{8 (T - 3.33)} \\exp( \\frac{t}{4} \\mathrm{Re} \\alpha_1(\\frac{1-y+ix}{2})^2 ) |H_{0,1}(\\frac{1-y+ix}{2})| \\epsilon'(\\frac{1-y+ix}{2})$$"
   ]
  },
  {
   "cell_type": "code",
   "execution_count": 5,
   "metadata": {},
   "outputs": [
    {
     "data": {
      "text/plain": [
       "E1 (generic function with 1 method)"
      ]
     },
     "execution_count": 5,
     "metadata": {},
     "output_type": "execute_result"
    }
   ],
   "source": [
    "function E1(t::Ty1, T::Ty1, s::Ty2, N::Int) where {Ty1<:Real, Ty2<:Number}\n",
    "    return 1/(8*(T-3.33))*bigexp(t/4*real(α(s))^2 * abs(H01(s))*eps_prime(s))\n",
    "end"
   ]
  },
  {
   "cell_type": "markdown",
   "metadata": {},
   "source": [
    "Note that the expression for $E_2$ is the same as that for $E_1$ except that $\\frac{1+y+ix}{2} = \\overline{1-s}$ replaces $\\frac{1-y+ix}{2}=s$.\n",
    "\n",
    "$$E_2 := \\frac{1}{8 (T - 3.33)} \\exp( \\frac{t}{4} \\mathrm{Re} \\alpha_1(\\frac{1+y+ix}{2})^2 ) |H_{0,1}(\\frac{1+y+ix}{2})| \\epsilon'(\\frac{1+y+ix}{2})$$\n",
    "\n",
    "Thus"
   ]
  },
  {
   "cell_type": "code",
   "execution_count": 6,
   "metadata": {},
   "outputs": [
    {
     "data": {
      "text/plain": [
       "E2 (generic function with 1 method)"
      ]
     },
     "execution_count": 6,
     "metadata": {},
     "output_type": "execute_result"
    }
   ],
   "source": [
    "function E2(t::Ty1, T::Ty1, s::Ty2, N::Int) where {Ty1<:Real, Ty2<:Number}\n",
    "    return E1(t,T,(1-s)',N)\n",
    "end"
   ]
  },
  {
   "cell_type": "markdown",
   "metadata": {},
   "source": [
    "$$E_3 := \\frac{1}{8} \\sqrt{\\pi} \\exp( -\\frac{t \\pi^2}{64} ) (T')^{3/2} e^{-\\pi T/4}  \\int_{-\\infty}^\\infty v(\\sigma) w(\\sigma) f(\\sigma)\\ d\\sigma$$"
   ]
  },
  {
   "cell_type": "markdown",
   "metadata": {},
   "source": [
    "$$f(\\sigma) := \\frac{1}{2\\sqrt{\\pi t}} (e^{-(\\sigma-(1-y)/2)^2/t} + e^{-(\\sigma-(1+y)/2)^2/t}) \\quad (4.1)$$"
   ]
  },
  {
   "cell_type": "markdown",
   "metadata": {},
   "source": [
    "$$w(\\sigma) := (1 + \\frac{\\sigma^2}{(T'_0)^2})^{1/2} (1 + \\frac{(1-\\sigma)^2}{(T'_0)^2})^{1/2} \n",
    "\\exp( \\frac{(\\sigma-1)_+}{4} \\log (1 + \\frac{\\sigma^2}{(T'_0)^2}) + (\\frac{T'_0}{2} \\arctan \\frac{\\sigma}{T'_0} - \\frac{\\sigma}{2}) 1_{\\sigma \\lt 0} + \\frac{1}{12(T'_0 - 0.33)})$$"
   ]
  },
  {
   "cell_type": "markdown",
   "metadata": {},
   "source": [
    "$$v(\\sigma) := 1 + (0.400 \\frac{9^\\sigma}{a_0} + 0.346 \\frac{2^{3\\sigma/2}}{a_0^2}) 1_{\\sigma \\geq 0} + (9/10)^{\\lceil -\\sigma \\rceil} \\sum_{1 \\leq k \\leq 4-\\sigma} (1.1)^k \\frac{\\Gamma(k/2)}{a_0^k} 1_{\\sigma \\lt 0}$$"
   ]
  },
  {
   "cell_type": "code",
   "execution_count": null,
   "metadata": {
    "collapsed": true
   },
   "outputs": [],
   "source": []
  }
 ],
 "metadata": {
  "kernelspec": {
   "display_name": "Julia 0.6.1",
   "language": "julia",
   "name": "julia-0.6"
  },
  "language_info": {
   "file_extension": ".jl",
   "mimetype": "application/julia",
   "name": "julia",
   "version": "0.6.2"
  }
 },
 "nbformat": 4,
 "nbformat_minor": 2
}
