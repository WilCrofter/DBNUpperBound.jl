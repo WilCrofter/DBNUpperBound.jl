{
 "cells": [
  {
   "cell_type": "markdown",
   "metadata": {},
   "source": [
    "# Uniform bounds for normalized error terms\n",
    "\n",
    "This document is based on the [derivation](http://michaelnielsen.org/polymath1/index.php?title=Controlling_H_t-A-B/B_0#Estimation_of_E_1.2CE_2) of estimates of $E1/B^{eff}_0$, $E2/B^{eff}_0$ and $E3/B^{eff}_0$ which are uniform on prescribed intervals, $\\Re{z} \\in [x_N, x_{N+1})$, where $x_N := 4 \\pi N^2 - \\frac{\\pi t}{4}$, $t=0.4$, $z=x+iy$, $x \\ge 100$ and where $y$ is constant and $y \\ge 1/3$. The following convention holds throughout, \n",
    "\n",
    "$$s = \\frac{1+iz}{2} = \\frac{1-y}{2} + i\\frac{x}{2} = \\sigma + iT,$$\n",
    "\n",
    "where $\\frac{x_N}{2} \\le T < \\frac{x_{N+1}}{2}.$ "
   ]
  },
  {
   "cell_type": "markdown",
   "metadata": {},
   "source": [
    "## E2\n",
    "\n",
    "Equation 2.1 of the derivation is\n",
    "\n",
    "$$|E_2/B^{eff}_0| = \\frac{1}{T-3.33} \\epsilon'(\\frac{1+y+ix}{2})$$"
   ]
  },
  {
   "cell_type": "markdown",
   "metadata": {},
   "source": [
    "which is shown to be majorized as follows.\n",
    "\n",
    "$$\\epsilon'(\\frac{1+y+ix}{2}) \\leq \\frac{1}{2} \\sum_{n=1}^N \\frac{1}{n^{\\frac{1+y}{2} + \\frac{t}{2} \\Re( \\alpha_1(s^+_N)) - \\frac{t}{2} \\kappa - \\frac{t}{4} \\log n}} e^{ \\frac{1}{2(T - 3.33)} c^+_n } c^+_n$$\n",
    "\n",
    "with corresponding code \n",
    "* a constant: `b = (1+y)/2 + t/2*real(αeff(s⁺N))-t/2*κ`\n",
    "* summand denominator: `n^(b-t/4*log(n))`\n",
    "\n",
    "where\n",
    "\n",
    "$x_N := 4 \\pi N^2 - \\frac{\\pi t}{4}$, and is coded as a function `x(n) = 4*π*n^2 - π*t/4`\n",
    "\n",
    "$s^+_N := \\frac{1+y+i(x_N+x_{N+1})/2}{2},\\:$  is coded as `s⁺N = (1+y+im*(x(N)+x(N+1))/2)/2`\n",
    "\n",
    "$\\alpha_1(s) := \\frac{1}{2s} + \\frac{1}{s-1} + \\frac{1}{2} \\log \\frac{s}{2\\pi},\\:$ (was previously implemented as αeff)\n",
    "\n",
    "$\\kappa := \\frac{x_{N+1}-x_N}{4 (x_N-6)},\\:$ is coded as `κ = (x(N+1)-x(N))/(4*(x(N)-6))`\n",
    "\n",
    "$c^+_n := \\frac{t^2}{4} (|\\alpha_1(s^+_N) - \\log n|^2 + 2 \\kappa |\\alpha_1(s^+_N) - \\log n| + \\kappa^2) + \\frac{1}{3} + t,$\n",
    "\n",
    "with corresponding code\n",
    "* `a(n) = abs(αeff(s⁺N)-log(n))`, a function of n\n",
    "* `c⁺(n) = t^2/4*(a(n)+κ)^2+1/3+t`, also a function of n\n"
   ]
  },
  {
   "cell_type": "markdown",
   "metadata": {},
   "source": [
    "The code equivalents of expressions above are combined in the following function. Note that expressions such as `x(n)` are internally defined functions written in Julia \"shorthand.\""
   ]
  },
  {
   "cell_type": "code",
   "execution_count": 1,
   "metadata": {},
   "outputs": [
    {
     "data": {
      "text/plain": [
       "E2_by_B0"
      ]
     },
     "execution_count": 1,
     "metadata": {},
     "output_type": "execute_result"
    }
   ],
   "source": [
    "using DBNUpperBound\n",
    "using DBNUpperBound.Asymptotics\n",
    "αeff = DBNUpperBound.Asymptotics.αeff # not exported\n",
    "\n",
    "\"\"\" E2_by_B0(N,t,y)\n",
    "    \n",
    "    Returns a uniform upper bound for E2/B0eff on the interval xN(N) ≤ ℜ(z) < xN(N+1).\n",
    "    \"\"\"\n",
    "function E2_by_B0(N::Int, t::Real, y::Real)\n",
    "    y ≥ 1/3 || error(\"Bound applies only if y ≥ 1/3; y = \",y,\" is out of range.\")\n",
    "    x(n) = 4*π*n^2 - π*t/4 # note: a function\n",
    "    s⁺N = (1+y+im*(x(N)+x(N+1))/2)/2\n",
    "    κ = (x(N+1)-x(N))/(4*(x(N)-6))\n",
    "    a(n) = abs(αeff(s⁺N)-log(n))\n",
    "    c⁺(n) = t^2/4*(a(n)+κ)^2+1/3+t\n",
    "    b = (1+y)/2 + t/2*real(αeff(s⁺N))-t/2*κ # a constant for the following sum\n",
    "    psum = 0.0\n",
    "    # Note the following expressions in T are maximized when T=x/2 is minimized hence\n",
    "    T = x(N)/2\n",
    "    for n in 1:N\n",
    "        c = c⁺(n)\n",
    "        psum += c*exp(c/(2*(T-3.33)))/n^(b-t/4*log(n)) \n",
    "    end\n",
    "    return 1/(T-3.33)*psum/2\n",
    "end"
   ]
  },
  {
   "cell_type": "markdown",
   "metadata": {},
   "source": [
    "A quick check with results from Python function [`habbbound`](https://github.com/km-git-acc/dbn_upper_bound/blob/fc2eda232b5904f6938301a044c9c52177b1e197/dbn_upper_bound/python/research/habb_bound.py#L20) follows."
   ]
  },
  {
   "cell_type": "code",
   "execution_count": 2,
   "metadata": {},
   "outputs": [
    {
     "name": "stdout",
     "output_type": "stream",
     "text": [
      "E2_by_B0(3, 0.4, 0.4) = 0.015244156268668695\n",
      "E2_by_B0(1000, 0.4, 0.4) = 3.3746587433399756e-7\n"
     ]
    }
   ],
   "source": [
    "@show E2_by_B0(3, .4, .4) # compare with 0.0152441562686686948196347530247 (Python habbbound(3))\n",
    "@show E2_by_B0(1000, .4, .4) # compare with 0.00000033746587433399773797162831561 (Python habbbound(1000))\n",
    "nothing"
   ]
  },
  {
   "cell_type": "markdown",
   "metadata": {},
   "source": [
    "## E1\n",
    "\n",
    "Equation 2.2 of the derivation is,\n",
    "\n",
    "$$|E_2/B^{eff}_0| = \\frac{1}{T-3.33} \\lambda \\epsilon'(\\frac{1-y+ix}{2})$$"
   ]
  },
  {
   "cell_type": "markdown",
   "metadata": {},
   "source": [
    "which is shown to be majorized as follows:\n",
    "\n",
    "$$\\epsilon'(\\frac{1-y+ix}{2}) \\leq \\frac{1}{2} \\sum_{n=1}^N \\frac{1}{n^{\\frac{1-y}{2} + \\frac{t}{2} \\mathrm{Re} \\alpha_1(s^-_N) - \\frac{t}{2} \\kappa - \\frac{t}{4} \\log n}} \\exp( \\frac{1}{2(T - 3.33)} c^-_n ) c^-_n$$\n",
    "\n",
    "with corresponding code \n",
    "* a constant: `b = (1-y)/2 + t/2*real(αeff(s⁻N))-t/2*κ`\n",
    "* summand denominator: `n^(b-t/4*log(n))`\n",
    "\n",
    "where, as above,\n",
    "\n",
    "$x_N := 4 \\pi N^2 - \\frac{\\pi t}{4}$, and is coded as a function `x(n) = 4*π*n^2 - π*t/4`\n",
    "\n",
    "$\\alpha_1(s) := \\frac{1}{2s} + \\frac{1}{s-1} + \\frac{1}{2} \\log \\frac{s}{2\\pi},\\:$ (was previously implemented as αeff)\n",
    "\n",
    "$\\kappa := \\frac{x_{N+1}-x_N}{4 (x_N-6)},\\:$ is coded as `κ = (x(N+1)-x(N))/(4*(x(N)-6))`\n",
    "\n",
    "and where,\n",
    "\n",
    "$s^-_N := \\frac{1-y+i(x_N + x_{N+1})}{2},\\:$  is coded as `s⁻N = (1-y+im*(x(N)+x(N+1))/2)/2`\n",
    "\n",
    "$c^-_n := \\frac{t^2}{4} (|\\alpha_1(s^-_N) - \\log n|^2 + 2 \\kappa |\\alpha_1(s^-_N) - \\log n| + \\kappa^2) + \\frac{1}{3} + t,$\n",
    "\n",
    "with corresponding code\n",
    "* `a(n) = abs(αeff(s⁻N)-log(n))`, a function of n\n",
    "* `c⁻(n) = t^2/4*(a(n)+κ)^2+1/3+t`, also a function of n"
   ]
  },
  {
   "cell_type": "markdown",
   "metadata": {},
   "source": [
    "and\n",
    "\n",
    "$$\\lambda \\leq e^\\delta N^{-y}$$\n",
    "\n",
    "where\n",
    "\n",
    "$\\delta := \\frac{\\pi y}{2(x_N-6 - \\frac{14+2y}{\\pi})} + \\frac{2y(7+y)}{x_N^2} \\log \\frac{|1+y+i x_{N+1}|}{4\\pi}$\n",
    "\n",
    "which is coded as `δ = π*y/(2(x(N)-6-(14+2*y)/π)) + 2*y*(7+y)/x(N)^2*log(abs(1+y+im*x(N+1))/(4*π))`"
   ]
  },
  {
   "cell_type": "code",
   "execution_count": 3,
   "metadata": {},
   "outputs": [
    {
     "data": {
      "text/plain": [
       "E1_by_B0"
      ]
     },
     "execution_count": 3,
     "metadata": {},
     "output_type": "execute_result"
    }
   ],
   "source": [
    "\"\"\" E1_by_B0(N,t,y)\n",
    "    \n",
    "    Returns a uniform upper bound for E1/B0eff on the interval xN(N) ≤ ℜ(z) < xN(N+1).\n",
    "    \"\"\"\n",
    "function E1_by_B0(N::Int, t::Real, y::Real)\n",
    "    y ≥ 1/3 || error(\"Bound applies only if y ≥ 1/3; y = \",y,\" is out of range.\")\n",
    "    x(n) = 4*π*n^2 - π*t/4 # note: a function\n",
    "    s⁻N = (1-y+im*(x(N)+x(N+1))/2)/2\n",
    "    κ = (x(N+1)-x(N))/(4*(x(N)-6))\n",
    "    a(n) = abs(αeff(s⁻N)-log(n))\n",
    "    c⁻(n) = t^2/4*(a(n)+κ)^2+1/3+t\n",
    "    δ = π*y/(2(x(N)-6-(14+2*y)/π)) + 2*y*(7+y)/x(N)^2*log(abs(1+y+im*x(N+1))/(4*π))\n",
    "    b = (1-y)/2 + t/2*real(αeff(s⁻N))-t/2*κ # a constant for the following sum\n",
    "    psum = 0.0\n",
    "    # Note the following expressions in T are maximized when T=x/2 is minimized hence\n",
    "    T = x(N)/2\n",
    "    for n in 1:N\n",
    "        c = c⁻(n)\n",
    "        psum += c*exp(c/(2*(T-3.33)))/n^(b-t/4*log(n)) \n",
    "    end\n",
    "    return 1/(T-3.33)*exp(δ)*N^(-y)*psum/2\n",
    "end"
   ]
  },
  {
   "cell_type": "markdown",
   "metadata": {},
   "source": [
    "A quick check with results from Python function [`habbbound`](https://github.com/km-git-acc/dbn_upper_bound/blob/fc2eda232b5904f6938301a044c9c52177b1e197/dbn_upper_bound/python/research/habb_bound.py#L20) follows."
   ]
  },
  {
   "cell_type": "code",
   "execution_count": 4,
   "metadata": {},
   "outputs": [
    {
     "name": "stdout",
     "output_type": "stream",
     "text": [
      "E1_by_B0(3, 0.4, 0.4) = 0.01185259675482346\n",
      "E1_by_B0(1000, 0.4, 0.4) = 3.3367008019679414e-8\n"
     ]
    }
   ],
   "source": [
    "@show E1_by_B0(3, .4, .4) # compare with 0.0118525967548234584001318287497 (Python habbbound(3))\n",
    "@show E1_by_B0(1000, .4, .4) # compare with 0.0000000333670080196793785996851971804 (Python habbbound(1000))\n",
    "nothing"
   ]
  },
  {
   "cell_type": "markdown",
   "metadata": {},
   "source": [
    "## E3\n",
    "\n",
    "The derivation shows that $E_3 \\le E_3^*$ where \n",
    "\n",
    "$$E_3^* := \\frac{1}{8} \\sqrt{\\pi} \\exp( - \\frac{t\\pi^2}{64}) (T'_0)^{3/2} e^{-\\pi T_0/4} \\exp( \\frac{0.181}{T'_0 - 3.33}) (1 + \\frac{5.15}{a_0-1.25}),$$\n",
    "\n",
    "and where $T_0 = \\Im{s} \\ge 100$, $\\:\\:T'_0 = T_0 + \\frac{\\pi t}{8}$, and $\\:\\:a_0 = \\sqrt{\\frac{T'_0}{2\\pi}}.$"
   ]
  },
  {
   "cell_type": "markdown",
   "metadata": {},
   "source": [
    "An expression for $\\frac{E_3^*}{B_0^{eff}}$ is then factored as $\\frac{E_3^*}{E_3^{main}} \\times \\frac{E_3^{main}}{B_0^{eff}}$ where \n",
    "\n",
    "$$E_3^{main} := (T'_0)^{3/2} e^{-\\pi T_0/4}$$\n",
    "\n",
    "The first factor is then shown to decrease monotonically, and the second to decrease monotonically when $x \\ge 100,$   hence when $N \\ge 3.$ Thus, their values at $x_N$ are uniform upper bounds on the interval $x_N \\le x < x_{N+1}$ for $N \\ge 3.$\n",
    "\n",
    "Recall that $x_N := 4 \\pi N^2 - \\frac{\\pi t}{4}$. For the $N^{th}$ interval, $T_{0}$ will be the value of $T$ at the interval's lower bound, hence $\\frac{x_N}{2}$."
   ]
  },
  {
   "cell_type": "markdown",
   "metadata": {},
   "source": [
    "The first factor is\n",
    "\n",
    "$$E_3^* / E_3^{main} = \\frac{1}{8} \\sqrt{\\pi} \\exp( - \\frac{t\\pi^2}{64}) \\exp( \\frac{0.181}{T'_0 - 3.33}) (1 + \\frac{5.15}{a_0-1.25})$$"
   ]
  },
  {
   "cell_type": "markdown",
   "metadata": {},
   "source": [
    "Recall that\n",
    "\n",
    "$$B_0^{eff} := \\frac{1}{8} \\exp( \\frac{t}{4} \\overline{\\alpha_1(\\frac{1+y+ix}{2})}^2 ) \\overline{H_{0,1}(\\frac{1+y+ix}{2})}$$\n",
    "\n",
    "which is just $B^{eff}$ with $N=1$. Since $B^{eff}$ was previously coded and tested, $E_3^{main}/|B_0^{eff}|$ is calculated directly."
   ]
  },
  {
   "cell_type": "code",
   "execution_count": 5,
   "metadata": {},
   "outputs": [
    {
     "data": {
      "text/plain": [
       "E3star_by_B0"
      ]
     },
     "execution_count": 5,
     "metadata": {},
     "output_type": "execute_result"
    }
   ],
   "source": [
    "\"\"\" E3star_by_B0(N,t,y)\n",
    "\n",
    "    Returns a 2-tuple representing E3*/E3main and E3main/|B₀eff| where E3main = (T0′)^(3/2)*exp(-πT0/4).\n",
    "    Both quantities have been shown to be monotonically decreasing for N ≥ 3.\n",
    "    \"\"\"\n",
    "function E3star_by_B0(N::Int, t::Real, y::Real)\n",
    "    xN = 4*π*N^2 - π*t/4\n",
    "    T0 = xN/2\n",
    "    s = (1-y)/2 + im*T0\n",
    "    T0′ = T0 + π*t/8\n",
    "    a0 = √(T0′/(2*π))\n",
    "    E3star_over_main = 1/8*√(π)*exp(-t*π^2/64 + 0.181/(T0′-3.33))*(1+5.15/(a0-1.25))\n",
    "    main_over_B0 = (T0′)^(3/2)*real(bigexp(-π*T0/4))/abs(Beff(t,s,1))\n",
    "    return E3star_over_main, main_over_B0\n",
    "end"
   ]
  },
  {
   "cell_type": "markdown",
   "metadata": {},
   "source": [
    "A quick check with results from Python function [habbbound](https://github.com/km-git-acc/dbn_upper_bound/blob/fc2eda232b5904f6938301a044c9c52177b1e197/dbn_upper_bound/python/research/habb_bound.py#L20) follows. The habbound values are in comments."
   ]
  },
  {
   "cell_type": "code",
   "execution_count": 6,
   "metadata": {},
   "outputs": [
    {
     "name": "stdout",
     "output_type": "stream",
     "text": [
      "E3star_by_B0(3, 0.4, 0.4) = (0.824106969305041, 1.9726360843442086)\n",
      "E3star_by_B0(1000, 0.4, 0.4) = (0.20937708864432245, 3.228330140613746688673583156633999965616396464107370460414808229516002063325573e-04)\n"
     ]
    }
   ],
   "source": [
    "@show E3star_by_B0(3,.4,.4) # 0.824106969305041104294845300248, 1.97263608434419094868503093569\n",
    "@show E3star_by_B0(1000,.4,.4) # 0.209377088644322449163770556918, 0.000322833014567408296110586587154\n",
    "nothing"
   ]
  }
 ],
 "metadata": {
  "kernelspec": {
   "display_name": "Julia 0.6.2",
   "language": "julia",
   "name": "julia-0.6"
  },
  "language_info": {
   "file_extension": ".jl",
   "mimetype": "application/julia",
   "name": "julia",
   "version": "0.6.2"
  }
 },
 "nbformat": 4,
 "nbformat_minor": 2
}
